{
 "cells": [
  {
   "cell_type": "markdown",
   "id": "430da438-f561-43c2-95fe-211d667c197f",
   "metadata": {},
   "source": [
    "**VIDEO 1**"
   ]
  },
  {
   "cell_type": "code",
   "execution_count": 3,
   "id": "c53811fe-eeb0-4dd4-a4aa-4017e2f72ce5",
   "metadata": {},
   "outputs": [],
   "source": [
    "import numpy as np\n",
    "import pandas as pd"
   ]
  },
  {
   "cell_type": "code",
   "execution_count": 5,
   "id": "cfeaa0a7-adbf-4270-a2b9-2bd4b55fbc89",
   "metadata": {},
   "outputs": [
    {
     "data": {
      "text/html": [
       "<div>\n",
       "<style scoped>\n",
       "    .dataframe tbody tr th:only-of-type {\n",
       "        vertical-align: middle;\n",
       "    }\n",
       "\n",
       "    .dataframe tbody tr th {\n",
       "        vertical-align: top;\n",
       "    }\n",
       "\n",
       "    .dataframe thead th {\n",
       "        text-align: right;\n",
       "    }\n",
       "</style>\n",
       "<table border=\"1\" class=\"dataframe\">\n",
       "  <thead>\n",
       "    <tr style=\"text-align: right;\">\n",
       "      <th></th>\n",
       "      <th>Ciudad</th>\n",
       "      <th>País</th>\n",
       "      <th>Población</th>\n",
       "      <th>Visitantes</th>\n",
       "    </tr>\n",
       "  </thead>\n",
       "  <tbody>\n",
       "    <tr>\n",
       "      <th>0</th>\n",
       "      <td>Ciudad de México</td>\n",
       "      <td>México</td>\n",
       "      <td>9265833</td>\n",
       "      <td>21000000</td>\n",
       "    </tr>\n",
       "    <tr>\n",
       "      <th>1</th>\n",
       "      <td>Buenos Aires</td>\n",
       "      <td>Argentina</td>\n",
       "      <td>3059574</td>\n",
       "      <td>15000000</td>\n",
       "    </tr>\n",
       "    <tr>\n",
       "      <th>2</th>\n",
       "      <td>Río de Janeiro</td>\n",
       "      <td>Brasil</td>\n",
       "      <td>6748314</td>\n",
       "      <td>13000000</td>\n",
       "    </tr>\n",
       "    <tr>\n",
       "      <th>3</th>\n",
       "      <td>Lima</td>\n",
       "      <td>Perú</td>\n",
       "      <td>9756020</td>\n",
       "      <td>9000000</td>\n",
       "    </tr>\n",
       "    <tr>\n",
       "      <th>4</th>\n",
       "      <td>Bogotá</td>\n",
       "      <td>Colombia</td>\n",
       "      <td>7181663</td>\n",
       "      <td>8000000</td>\n",
       "    </tr>\n",
       "    <tr>\n",
       "      <th>5</th>\n",
       "      <td>Santiago de Chile</td>\n",
       "      <td>Chile</td>\n",
       "      <td>6199241</td>\n",
       "      <td>7500000</td>\n",
       "    </tr>\n",
       "    <tr>\n",
       "      <th>6</th>\n",
       "      <td>São Paulo</td>\n",
       "      <td>Brasil</td>\n",
       "      <td>12333146</td>\n",
       "      <td>20000000</td>\n",
       "    </tr>\n",
       "    <tr>\n",
       "      <th>7</th>\n",
       "      <td>La Habana</td>\n",
       "      <td>Cuba</td>\n",
       "      <td>2164182</td>\n",
       "      <td>4000000</td>\n",
       "    </tr>\n",
       "    <tr>\n",
       "      <th>8</th>\n",
       "      <td>Cancún</td>\n",
       "      <td>México</td>\n",
       "      <td>888124</td>\n",
       "      <td>5000000</td>\n",
       "    </tr>\n",
       "    <tr>\n",
       "      <th>9</th>\n",
       "      <td>Cartagena</td>\n",
       "      <td>Colombia</td>\n",
       "      <td>1036671</td>\n",
       "      <td>3000000</td>\n",
       "    </tr>\n",
       "  </tbody>\n",
       "</table>\n",
       "</div>"
      ],
      "text/plain": [
       "              Ciudad       País  Población  Visitantes\n",
       "0   Ciudad de México     México    9265833    21000000\n",
       "1       Buenos Aires  Argentina    3059574    15000000\n",
       "2     Río de Janeiro     Brasil    6748314    13000000\n",
       "3               Lima       Perú    9756020     9000000\n",
       "4             Bogotá   Colombia    7181663     8000000\n",
       "5  Santiago de Chile      Chile    6199241     7500000\n",
       "6          São Paulo     Brasil   12333146    20000000\n",
       "7          La Habana       Cuba    2164182     4000000\n",
       "8             Cancún     México     888124     5000000\n",
       "9          Cartagena   Colombia    1036671     3000000"
      ]
     },
     "execution_count": 5,
     "metadata": {},
     "output_type": "execute_result"
    }
   ],
   "source": [
    "df = pd.read_csv('ciudadesLatam.csv')\n",
    "df"
   ]
  },
  {
   "cell_type": "code",
   "execution_count": 8,
   "id": "d8481040-83e3-449b-a467-cbafd15aca82",
   "metadata": {},
   "outputs": [
    {
     "data": {
      "text/plain": [
       "np.float64(5863276.8)"
      ]
     },
     "execution_count": 8,
     "metadata": {},
     "output_type": "execute_result"
    }
   ],
   "source": [
    "df['Población'].mean()"
   ]
  },
  {
   "cell_type": "code",
   "execution_count": 9,
   "id": "5a5f0f61-40d5-479c-8901-4deaa134eeb4",
   "metadata": {},
   "outputs": [
    {
     "data": {
      "text/plain": [
       "np.float64(5863277.0)"
      ]
     },
     "execution_count": 9,
     "metadata": {},
     "output_type": "execute_result"
    }
   ],
   "source": [
    "np.round(df['Población'].mean())"
   ]
  },
  {
   "cell_type": "code",
   "execution_count": 10,
   "id": "c2b092b8-b83a-415a-a478-719f26875278",
   "metadata": {},
   "outputs": [
    {
     "data": {
      "text/plain": [
       "np.int64(888124)"
      ]
     },
     "execution_count": 10,
     "metadata": {},
     "output_type": "execute_result"
    }
   ],
   "source": [
    "np.min(df['Población'])"
   ]
  },
  {
   "cell_type": "code",
   "execution_count": 11,
   "id": "dc6b6e27-4e40-459d-b351-1ec99f2d23c1",
   "metadata": {},
   "outputs": [
    {
     "data": {
      "text/plain": [
       "np.int64(12333146)"
      ]
     },
     "execution_count": 11,
     "metadata": {},
     "output_type": "execute_result"
    }
   ],
   "source": [
    "np.max(df['Población'])"
   ]
  },
  {
   "cell_type": "code",
   "execution_count": 3,
   "id": "d02205f1-89f5-4637-b107-de1e83efe321",
   "metadata": {},
   "outputs": [
    {
     "data": {
      "text/plain": [
       "np.float64(5863277.0)"
      ]
     },
     "execution_count": 3,
     "metadata": {},
     "output_type": "execute_result"
    }
   ],
   "source": [
    "import pandas as pd \n",
    "import numpy as np\n",
    "\n",
    "datos = {\n",
    "    \"Ciudad\": [\"Ciudad de México\", \"Buenos Aires\", \"Río de Janeiro\", \"Lima\", \"Bogotá\", \"Santiago de Chile\", \"São Paulo\", \"La Habana\", \"Cancún\", \"Cartagena\"],\n",
    "    \"País\": [\"México\", \"Argentina\", \"Brasil\", \"Perú\", \"Colombia\", \"Chile\", \"Brasil\", \"Cuba\", \"México\", \"Colombia\"],\n",
    "    \"Población\": [9265833, 3059574, 6748314, 9756020, 7181663, 6199241, 12333146, 2164182, 888124, 1036671],\n",
    "    \"Visitantes\": [21000000, 15000000, 13000000, 9000000, 8000000, 7500000, 20000000, 4000000, 5000000, 3000000]\n",
    "}\n",
    "\n",
    "df = pd.DataFrame(datos)\n",
    "\n",
    "promedio_poblacion = np.round(df['Población'].mean())\n",
    "promedio_poblacion"
   ]
  },
  {
   "cell_type": "code",
   "execution_count": 4,
   "id": "6528038c-660f-4071-a921-1f09db69124b",
   "metadata": {},
   "outputs": [
    {
     "data": {
      "text/plain": [
       "np.int64(888124)"
      ]
     },
     "execution_count": 4,
     "metadata": {},
     "output_type": "execute_result"
    }
   ],
   "source": [
    "import pandas as pd \n",
    "import numpy as np \n",
    "\n",
    "\n",
    "datos = {\n",
    "    \"Ciudad\": [\"Ciudad de México\", \"Buenos Aires\", \"Río de Janeiro\", \"Lima\", \"Bogotá\", \"Santiago de Chile\", \"São Paulo\", \"La Habana\", \"Cancún\", \"Cartagena\"],\n",
    "    \"País\": [\"México\", \"Argentina\", \"Brasil\", \"Perú\", \"Colombia\", \"Chile\", \"Brasil\", \"Cuba\", \"México\", \"Colombia\"],\n",
    "    \"Población\": [9265833, 3059574, 6748314, 9756020, 7181663, 6199241, 12333146, 2164182, 888124, 1036671],\n",
    "    \"Visitantes\": [21000000, 15000000, 13000000, 9000000, 8000000, 7500000, 20000000, 4000000, 5000000, 3000000]\n",
    "}\n",
    "\n",
    "df = pd.DataFrame(datos)\n",
    "\n",
    "min_visitantes = np.min(df['Población'])\n",
    "min_visitantes"
   ]
  },
  {
   "cell_type": "code",
   "execution_count": 5,
   "id": "93f1acbe-4310-40a1-8abf-3172c16abdd9",
   "metadata": {},
   "outputs": [
    {
     "data": {
      "text/plain": [
       "np.int64(21000000)"
      ]
     },
     "execution_count": 5,
     "metadata": {},
     "output_type": "execute_result"
    }
   ],
   "source": [
    "import pandas as pd \n",
    "import numpy as np \n",
    "\n",
    "datos = {\n",
    "    \"Ciudad\": [\"Ciudad de México\", \"Buenos Aires\", \"Río de Janeiro\", \"Lima\", \"Bogotá\", \"Santiago de Chile\", \"São Paulo\", \"La Habana\", \"Cancún\", \"Cartagena\"],\n",
    "    \"País\": [\"México\", \"Argentina\", \"Brasil\", \"Perú\", \"Colombia\", \"Chile\", \"Brasil\", \"Cuba\", \"México\", \"Colombia\"],\n",
    "    \"Población\": [9265833, 3059574, 6748314, 9756020, 7181663, 6199241, 12333146, 2164182, 888124, 1036671],\n",
    "    \"Visitantes\": [21000000, 15000000, 13000000, 9000000, 8000000, 7500000, 20000000, 4000000, 5000000, 3000000]\n",
    "}\n",
    "\n",
    "max_visitantes = np.max(df['Visitantes'])\n",
    "max_visitantes "
   ]
  },
  {
   "cell_type": "markdown",
   "id": "d564f3ba-4e59-400d-b6e1-e091774ef93b",
   "metadata": {},
   "source": [
    "**VIDEO 2**"
   ]
  },
  {
   "cell_type": "code",
   "execution_count": 12,
   "id": "9c3ca640-feac-4d54-8e09-3e9102668b98",
   "metadata": {},
   "outputs": [],
   "source": [
    "import numpy as np\n",
    "import time"
   ]
  },
  {
   "cell_type": "code",
   "execution_count": 7,
   "id": "3e37815b-4e13-49a1-8ec0-14d8a02f9908",
   "metadata": {},
   "outputs": [
    {
     "data": {
      "text/plain": [
       "array([1, 2, 3, 4, 5])"
      ]
     },
     "execution_count": 7,
     "metadata": {},
     "output_type": "execute_result"
    }
   ],
   "source": [
    "miArray = np.array([1,2,3,4,5])\n",
    "miArray"
   ]
  },
  {
   "cell_type": "code",
   "execution_count": 8,
   "id": "42e7b0cb-a224-4261-80ab-ef4a8d5d8177",
   "metadata": {},
   "outputs": [
    {
     "data": {
      "text/plain": [
       "numpy.ndarray"
      ]
     },
     "execution_count": 8,
     "metadata": {},
     "output_type": "execute_result"
    }
   ],
   "source": [
    "type(miArray)"
   ]
  },
  {
   "cell_type": "code",
   "execution_count": 9,
   "id": "65613044-6766-4c51-ac9f-4720ab45cca3",
   "metadata": {},
   "outputs": [],
   "source": [
    "listaGrande = list(range(1000000))\n",
    "arrayGrande = np.array(listaGrande)"
   ]
  },
  {
   "cell_type": "code",
   "execution_count": 10,
   "id": "e1c86be0-df5d-4b22-904e-e0de21c21409",
   "metadata": {},
   "outputs": [
    {
     "data": {
      "text/plain": [
       "list"
      ]
     },
     "execution_count": 10,
     "metadata": {},
     "output_type": "execute_result"
    }
   ],
   "source": [
    "type(listaGrande)"
   ]
  },
  {
   "cell_type": "code",
   "execution_count": 11,
   "id": "c5dedf45-2b9d-43c6-a49f-26455f4f65ee",
   "metadata": {},
   "outputs": [
    {
     "data": {
      "text/plain": [
       "numpy.ndarray"
      ]
     },
     "execution_count": 11,
     "metadata": {},
     "output_type": "execute_result"
    }
   ],
   "source": [
    "type(arrayGrande)"
   ]
  },
  {
   "cell_type": "code",
   "execution_count": 13,
   "id": "8abb0dda-5a66-487e-9115-55532f7cae08",
   "metadata": {},
   "outputs": [
    {
     "name": "stdout",
     "output_type": "stream",
     "text": [
      "Tiempo lista:  0.12004613876342773\n"
     ]
    }
   ],
   "source": [
    "inicioLista = time.time()\n",
    "for i in listaGrande:\n",
    "    i ** 2\n",
    "finLista = time.time()\n",
    "print(\"Tiempo lista: \", finLista - inicioLista)"
   ]
  },
  {
   "cell_type": "code",
   "execution_count": 14,
   "id": "ad74b717-5997-40bb-9773-fe07806e503a",
   "metadata": {},
   "outputs": [
    {
     "name": "stdout",
     "output_type": "stream",
     "text": [
      "Tiempo lista:  0.011113405227661133\n"
     ]
    }
   ],
   "source": [
    "inicioArray = time.time()\n",
    "arrayGrande ** 2\n",
    "finArray = time.time()\n",
    "\n",
    "print(\"Tiempo lista: \", finArray - inicioArray)"
   ]
  },
  {
   "cell_type": "markdown",
   "id": "c4e3efe7-8c89-44f0-8a16-7ae06c57e2dc",
   "metadata": {},
   "source": [
    "**VIDEO 3**"
   ]
  },
  {
   "cell_type": "code",
   "execution_count": 15,
   "id": "6fcbef57-5ada-44b8-a941-9215a19f7cd4",
   "metadata": {},
   "outputs": [
    {
     "data": {
      "text/plain": [
       "3"
      ]
     },
     "execution_count": 15,
     "metadata": {},
     "output_type": "execute_result"
    }
   ],
   "source": [
    "import numpy as np\n",
    "array = np.array([1,2,3])\n",
    "len(array)"
   ]
  },
  {
   "cell_type": "code",
   "execution_count": 16,
   "id": "32d10425-b528-496b-b69c-4c36bb76e3a3",
   "metadata": {},
   "outputs": [
    {
     "data": {
      "text/plain": [
       "(3,)"
      ]
     },
     "execution_count": 16,
     "metadata": {},
     "output_type": "execute_result"
    }
   ],
   "source": [
    "array.shape"
   ]
  },
  {
   "cell_type": "code",
   "execution_count": 17,
   "id": "24eb8902-10f9-43c7-b1e2-09952ab7d17a",
   "metadata": {},
   "outputs": [
    {
     "data": {
      "text/plain": [
       "array([[1, 2, 3],\n",
       "       [4, 5, 6]])"
      ]
     },
     "execution_count": 17,
     "metadata": {},
     "output_type": "execute_result"
    }
   ],
   "source": [
    "array2d = np.array([[1,2,3], [4,5,6]])\n",
    "array2d"
   ]
  },
  {
   "cell_type": "code",
   "execution_count": 18,
   "id": "904e3b9b-87ae-470a-91b8-81b3aa35f3bd",
   "metadata": {},
   "outputs": [
    {
     "data": {
      "text/plain": [
       "2"
      ]
     },
     "execution_count": 18,
     "metadata": {},
     "output_type": "execute_result"
    }
   ],
   "source": [
    "len(array2d)"
   ]
  },
  {
   "cell_type": "code",
   "execution_count": 19,
   "id": "4b7ff4b0-7678-44c4-80e7-6a6ab345a730",
   "metadata": {},
   "outputs": [
    {
     "data": {
      "text/plain": [
       "(2, 3)"
      ]
     },
     "execution_count": 19,
     "metadata": {},
     "output_type": "execute_result"
    }
   ],
   "source": [
    "array2d.shape"
   ]
  },
  {
   "cell_type": "markdown",
   "id": "69b00c3d-b6b0-47e8-b972-9a51765db599",
   "metadata": {},
   "source": [
    "**VIDEO 4**"
   ]
  },
  {
   "cell_type": "code",
   "execution_count": 1,
   "id": "3c242b55-af12-4fe9-a324-4d06a19ec0dc",
   "metadata": {},
   "outputs": [],
   "source": [
    "import numpy as np"
   ]
  },
  {
   "cell_type": "code",
   "execution_count": 3,
   "id": "dd6fb91b-7866-436d-8084-93b7b5fa688f",
   "metadata": {},
   "outputs": [],
   "source": [
    "x = [1,2,3]\n",
    "y = [1,2,3]\n",
    "z = [1,2,3]\n"
   ]
  },
  {
   "cell_type": "code",
   "execution_count": 4,
   "id": "d43496aa-62be-4746-af6a-65ffb43d4192",
   "metadata": {},
   "outputs": [
    {
     "data": {
      "text/plain": [
       "array([1, 2, 3, 1, 2, 3, 1, 2, 3])"
      ]
     },
     "execution_count": 4,
     "metadata": {},
     "output_type": "execute_result"
    }
   ],
   "source": [
    "np.concatenate([x,y,z])"
   ]
  },
  {
   "cell_type": "code",
   "execution_count": 6,
   "id": "289ff2f9-7536-4ee6-8ab4-740ab5fe8ca5",
   "metadata": {},
   "outputs": [
    {
     "data": {
      "text/plain": [
       "array([[1, 2, 5, 6],\n",
       "       [3, 4, 7, 8]])"
      ]
     },
     "execution_count": 6,
     "metadata": {},
     "output_type": "execute_result"
    }
   ],
   "source": [
    "a = [[1,2],\n",
    "     [3,4]]\n",
    "b = [[5,6],\n",
    "     [7,8]]\n",
    "\n",
    "np.concatenate([a,b], axis=1)"
   ]
  },
  {
   "cell_type": "code",
   "execution_count": 7,
   "id": "31276f13-7c3b-4080-ac9e-449fef08ed72",
   "metadata": {},
   "outputs": [
    {
     "data": {
      "text/plain": [
       "array([[1, 2],\n",
       "       [3, 4],\n",
       "       [5, 6],\n",
       "       [7, 8]])"
      ]
     },
     "execution_count": 7,
     "metadata": {},
     "output_type": "execute_result"
    }
   ],
   "source": [
    "np.concatenate([a,b], axis=0)"
   ]
  },
  {
   "cell_type": "code",
   "execution_count": 8,
   "id": "0fe6c6da-93aa-4962-b03e-346cd07bae38",
   "metadata": {},
   "outputs": [
    {
     "data": {
      "text/plain": [
       "array([[1, 2],\n",
       "       [3, 4],\n",
       "       [5, 6],\n",
       "       [7, 8]])"
      ]
     },
     "execution_count": 8,
     "metadata": {},
     "output_type": "execute_result"
    }
   ],
   "source": [
    "array_concatenado = np.concatenate([a,b], axis=0)\n",
    "array_concatenado"
   ]
  },
  {
   "cell_type": "code",
   "execution_count": 9,
   "id": "0faf6cc9-fd36-4340-95e9-f9b0bb0dd076",
   "metadata": {},
   "outputs": [
    {
     "data": {
      "text/plain": [
       "(4, 2)"
      ]
     },
     "execution_count": 9,
     "metadata": {},
     "output_type": "execute_result"
    }
   ],
   "source": [
    "array_concatenado.shape"
   ]
  },
  {
   "cell_type": "code",
   "execution_count": 10,
   "id": "1fab1097-01d9-415d-8e00-1f5299899b33",
   "metadata": {},
   "outputs": [
    {
     "data": {
      "text/plain": [
       "array([[1, 2, 3, 4],\n",
       "       [5, 6, 7, 8]])"
      ]
     },
     "execution_count": 10,
     "metadata": {},
     "output_type": "execute_result"
    }
   ],
   "source": [
    "array_reformado = array_concatenado.reshape(2,4)\n",
    "array_reformado"
   ]
  },
  {
   "cell_type": "code",
   "execution_count": 11,
   "id": "20015982-b743-4a58-8b0c-34a9f995efd5",
   "metadata": {},
   "outputs": [
    {
     "data": {
      "text/plain": [
       "array([[ 2,  4,  6,  8],\n",
       "       [10, 12, 14, 16]])"
      ]
     },
     "execution_count": 11,
     "metadata": {},
     "output_type": "execute_result"
    }
   ],
   "source": [
    "array_sumado = array_reformado + array_reformado\n",
    "array_sumado"
   ]
  },
  {
   "cell_type": "code",
   "execution_count": 12,
   "id": "7eb722e4-4d99-4a5c-9246-db77c00187f7",
   "metadata": {},
   "outputs": [
    {
     "data": {
      "text/plain": [
       "array([[ 1,  4,  9, 16],\n",
       "       [25, 36, 49, 64]])"
      ]
     },
     "execution_count": 12,
     "metadata": {},
     "output_type": "execute_result"
    }
   ],
   "source": [
    "array_multi = array_reformado * array_reformado\n",
    "array_multi"
   ]
  },
  {
   "cell_type": "code",
   "execution_count": 14,
   "id": "6c00f4e2-b6a3-4304-b58b-e11c0801c3f9",
   "metadata": {},
   "outputs": [
    {
     "data": {
      "text/plain": [
       "array([[1., 2., 3., 4.],\n",
       "       [5., 6., 7., 8.]])"
      ]
     },
     "execution_count": 14,
     "metadata": {},
     "output_type": "execute_result"
    }
   ],
   "source": [
    "raices = np.sqrt(array_multi)\n",
    "raices"
   ]
  },
  {
   "cell_type": "code",
   "execution_count": 16,
   "id": "f8126def-e5e6-48d8-8193-a380206b3868",
   "metadata": {},
   "outputs": [
    {
     "name": "stdout",
     "output_type": "stream",
     "text": [
      "[ 1  2  3  4  5  6  7  8  9 10]\n"
     ]
    }
   ],
   "source": [
    "\n",
    "import numpy as np \n",
    "\n",
    "array1 = [1,2,3,4,5]\n",
    "array2 = [6,7,8,9,10]\n",
    "\n",
    "array_concatenado = np.concatenate([array1, array2])\n",
    "print(array_concatenado)"
   ]
  },
  {
   "cell_type": "code",
   "execution_count": 18,
   "id": "6b28c061-a0d2-4d5b-a933-9ee38d1a5fc9",
   "metadata": {},
   "outputs": [
    {
     "name": "stdout",
     "output_type": "stream",
     "text": [
      "[[1 2 3]\n",
      " [4 5 6]]\n"
     ]
    }
   ],
   "source": [
    "import numpy as np\n",
    "\n",
    "array_original = np.array([1, 2, 3, 4, 5, 6])  # Convertir la lista a array\n",
    "array_reshaped = array_original.reshape(2, 3)  # Ahora sí puedes hacer reshape\n",
    "\n",
    "print(array_reshaped)"
   ]
  },
  {
   "cell_type": "code",
   "execution_count": 20,
   "id": "f606335d-56dc-4702-89bb-087b01cca94a",
   "metadata": {},
   "outputs": [],
   "source": [
    "\n",
    "import numpy as np \n",
    "\n",
    "a = np.array([[1,2], [3,4]])\n",
    "\n",
    "b = np.array([[5,6], [7,8]])\n",
    "\n",
    "suma_AB = a+b \n",
    "\n",
    "productoAB = a*b"
   ]
  },
  {
   "cell_type": "code",
   "execution_count": 21,
   "id": "70a28db3-1b08-4014-8c38-e0ee4e408e34",
   "metadata": {},
   "outputs": [
    {
     "data": {
      "text/plain": [
       "array([[ 6,  8],\n",
       "       [10, 12]])"
      ]
     },
     "execution_count": 21,
     "metadata": {},
     "output_type": "execute_result"
    }
   ],
   "source": [
    "suma_AB"
   ]
  },
  {
   "cell_type": "code",
   "execution_count": 22,
   "id": "4905ab96-f7f8-457b-af54-2ce4a49e6155",
   "metadata": {},
   "outputs": [
    {
     "data": {
      "text/plain": [
       "array([[ 5, 12],\n",
       "       [21, 32]])"
      ]
     },
     "execution_count": 22,
     "metadata": {},
     "output_type": "execute_result"
    }
   ],
   "source": [
    "productoAB"
   ]
  },
  {
   "cell_type": "markdown",
   "id": "f09e4225-22df-4962-a2e4-9f102ad86cbe",
   "metadata": {},
   "source": [
    "**VIDEO 5**"
   ]
  },
  {
   "cell_type": "code",
   "execution_count": 26,
   "id": "12cc53c7-42fe-4d3f-841c-123193be30b5",
   "metadata": {},
   "outputs": [],
   "source": [
    "import numpy as np\n",
    "\n",
    "array1d = np.array([1,2,3,4,5])\n",
    "\n",
    "array2d = np.array([[1,2,3],\n",
    "                   [4,5,6],\n",
    "                   [7,8,9]])"
   ]
  },
  {
   "cell_type": "code",
   "execution_count": 27,
   "id": "1c3e0352-6e3e-47c4-b3c2-688a06b31911",
   "metadata": {},
   "outputs": [
    {
     "data": {
      "text/plain": [
       "array([1, 2, 3, 4, 5])"
      ]
     },
     "execution_count": 27,
     "metadata": {},
     "output_type": "execute_result"
    }
   ],
   "source": [
    "array1d"
   ]
  },
  {
   "cell_type": "code",
   "execution_count": 28,
   "id": "4e886ccb-5b45-47cc-a15a-69a9a1e33e3a",
   "metadata": {},
   "outputs": [
    {
     "data": {
      "text/plain": [
       "np.int64(1)"
      ]
     },
     "execution_count": 28,
     "metadata": {},
     "output_type": "execute_result"
    }
   ],
   "source": [
    "array1d[0]"
   ]
  },
  {
   "cell_type": "code",
   "execution_count": 29,
   "id": "4b4966d9-0289-432c-a89e-f7948b9be94a",
   "metadata": {},
   "outputs": [
    {
     "data": {
      "text/plain": [
       "np.int64(5)"
      ]
     },
     "execution_count": 29,
     "metadata": {},
     "output_type": "execute_result"
    }
   ],
   "source": [
    "array1d[-1]"
   ]
  },
  {
   "cell_type": "code",
   "execution_count": 30,
   "id": "79ba65fc-163a-4b25-b82b-fcd325dff5ec",
   "metadata": {},
   "outputs": [
    {
     "data": {
      "text/plain": [
       "array([1, 2, 3])"
      ]
     },
     "execution_count": 30,
     "metadata": {},
     "output_type": "execute_result"
    }
   ],
   "source": [
    "array2d[0]"
   ]
  },
  {
   "cell_type": "code",
   "execution_count": 31,
   "id": "598c8d91-8ef2-40ba-8554-f0ecbc67ac12",
   "metadata": {},
   "outputs": [
    {
     "data": {
      "text/plain": [
       "np.int64(6)"
      ]
     },
     "execution_count": 31,
     "metadata": {},
     "output_type": "execute_result"
    }
   ],
   "source": [
    "array2d[1][2]"
   ]
  },
  {
   "cell_type": "code",
   "execution_count": 32,
   "id": "3effce5d-a516-4646-8b07-c89650ba0585",
   "metadata": {},
   "outputs": [
    {
     "data": {
      "text/plain": [
       "np.int64(6)"
      ]
     },
     "execution_count": 32,
     "metadata": {},
     "output_type": "execute_result"
    }
   ],
   "source": [
    "array2d[1,2]"
   ]
  },
  {
   "cell_type": "code",
   "execution_count": 34,
   "id": "46cbb646-3a06-419e-8047-0be928317b98",
   "metadata": {},
   "outputs": [
    {
     "data": {
      "text/plain": [
       "array([2, 3, 4])"
      ]
     },
     "execution_count": 34,
     "metadata": {},
     "output_type": "execute_result"
    }
   ],
   "source": [
    "array1d[1:4]"
   ]
  },
  {
   "cell_type": "code",
   "execution_count": 35,
   "id": "0a5aea78-9d31-4a39-9c01-5ebd31eb4339",
   "metadata": {},
   "outputs": [
    {
     "data": {
      "text/plain": [
       "array([4, 5, 6])"
      ]
     },
     "execution_count": 35,
     "metadata": {},
     "output_type": "execute_result"
    }
   ],
   "source": [
    "array2d[1,:]"
   ]
  },
  {
   "cell_type": "code",
   "execution_count": 36,
   "id": "7b7eba90-4528-45ff-a16e-f6c082c8ff02",
   "metadata": {},
   "outputs": [
    {
     "data": {
      "text/plain": [
       "array([5, 6])"
      ]
     },
     "execution_count": 36,
     "metadata": {},
     "output_type": "execute_result"
    }
   ],
   "source": [
    "array2d[1, 1:3]"
   ]
  },
  {
   "cell_type": "code",
   "execution_count": 37,
   "id": "ba863fb9-4153-4640-8d08-0dfc6a2fc736",
   "metadata": {},
   "outputs": [
    {
     "data": {
      "text/plain": [
       "array([2, 5, 8])"
      ]
     },
     "execution_count": 37,
     "metadata": {},
     "output_type": "execute_result"
    }
   ],
   "source": [
    "array2d[:,1]"
   ]
  },
  {
   "cell_type": "code",
   "execution_count": 38,
   "id": "607a070f-2cc4-4c62-89e8-0c59e45973f3",
   "metadata": {},
   "outputs": [
    {
     "data": {
      "text/plain": [
       "array([[1, 2],\n",
       "       [4, 5]])"
      ]
     },
     "execution_count": 38,
     "metadata": {},
     "output_type": "execute_result"
    }
   ],
   "source": [
    "array2d[:2, :2]"
   ]
  },
  {
   "cell_type": "code",
   "execution_count": 39,
   "id": "1414ead0-bced-4929-87b2-a1001f318f03",
   "metadata": {},
   "outputs": [
    {
     "data": {
      "text/plain": [
       "array([False, False, False,  True,  True])"
      ]
     },
     "execution_count": 39,
     "metadata": {},
     "output_type": "execute_result"
    }
   ],
   "source": [
    "array1d > 3"
   ]
  },
  {
   "cell_type": "code",
   "execution_count": 40,
   "id": "dfa8a7cf-0c62-4f95-a9a3-186cebcfdbff",
   "metadata": {},
   "outputs": [
    {
     "data": {
      "text/plain": [
       "array([[False,  True, False],\n",
       "       [ True, False,  True],\n",
       "       [False,  True, False]])"
      ]
     },
     "execution_count": 40,
     "metadata": {},
     "output_type": "execute_result"
    }
   ],
   "source": [
    "array2d % 2 == 0"
   ]
  },
  {
   "cell_type": "markdown",
   "id": "c9877c65-e18a-494d-9a5f-dc6d949d6725",
   "metadata": {},
   "source": [
    "**VIDEO 6**"
   ]
  },
  {
   "cell_type": "code",
   "execution_count": 1,
   "id": "be7ddf7c-1285-4cb6-928d-bd7da2370c43",
   "metadata": {},
   "outputs": [],
   "source": [
    "import numpy as np"
   ]
  },
  {
   "cell_type": "code",
   "execution_count": 2,
   "id": "c4c54a71-b963-4c2e-8bf5-70d5a76cfc28",
   "metadata": {},
   "outputs": [
    {
     "data": {
      "text/plain": [
       "array([1, 2, 3, 4, 5, 6, 7, 8, 9])"
      ]
     },
     "execution_count": 2,
     "metadata": {},
     "output_type": "execute_result"
    }
   ],
   "source": [
    "array = np.array([1,2,3,4,5,6,7,8,9])\n",
    "array"
   ]
  },
  {
   "cell_type": "code",
   "execution_count": 3,
   "id": "3ebc1b49-dbee-4408-bccc-2d28580483b6",
   "metadata": {},
   "outputs": [
    {
     "data": {
      "text/plain": [
       "(9,)"
      ]
     },
     "execution_count": 3,
     "metadata": {},
     "output_type": "execute_result"
    }
   ],
   "source": [
    "array.shape"
   ]
  },
  {
   "cell_type": "code",
   "execution_count": 4,
   "id": "31d76b6e-5a5b-4e7e-ab9c-f894f117d6bd",
   "metadata": {},
   "outputs": [
    {
     "data": {
      "text/plain": [
       "array([[1, 2, 3],\n",
       "       [4, 5, 6],\n",
       "       [7, 8, 9]])"
      ]
     },
     "execution_count": 4,
     "metadata": {},
     "output_type": "execute_result"
    }
   ],
   "source": [
    "array_mod = array.reshape(3,3)\n",
    "array_mod"
   ]
  },
  {
   "cell_type": "code",
   "execution_count": 5,
   "id": "ed9b71de-0efd-4572-aea5-56e3dfb0de23",
   "metadata": {},
   "outputs": [
    {
     "data": {
      "text/plain": [
       "array([[1, 2, 3],\n",
       "       [4, 5, 6],\n",
       "       [7, 8, 9]])"
      ]
     },
     "execution_count": 5,
     "metadata": {},
     "output_type": "execute_result"
    }
   ],
   "source": [
    "array_mod2 = array.reshape(-1,3)\n",
    "array_mod2"
   ]
  },
  {
   "cell_type": "code",
   "execution_count": 6,
   "id": "2f1df417-1f9d-46cc-9345-f1f47073ae30",
   "metadata": {},
   "outputs": [
    {
     "data": {
      "text/plain": [
       "array([[1, 4, 7],\n",
       "       [2, 5, 8],\n",
       "       [3, 6, 9]])"
      ]
     },
     "execution_count": 6,
     "metadata": {},
     "output_type": "execute_result"
    }
   ],
   "source": [
    "array_volteado = array_mod2.transpose()\n",
    "array_volteado"
   ]
  },
  {
   "cell_type": "code",
   "execution_count": 7,
   "id": "4abda7ad-2503-472a-a66a-26e696e65784",
   "metadata": {},
   "outputs": [
    {
     "data": {
      "text/plain": [
       "array([1, 2, 3, 4, 5, 6, 7, 8, 9])"
      ]
     },
     "execution_count": 7,
     "metadata": {},
     "output_type": "execute_result"
    }
   ],
   "source": [
    "array_chato = array_mod.flatten()\n",
    "array_chato"
   ]
  },
  {
   "cell_type": "code",
   "execution_count": 8,
   "id": "40be67d2-a6e5-4b80-aca5-0fcfc7b5b57d",
   "metadata": {},
   "outputs": [
    {
     "data": {
      "text/plain": [
       "array([1, 2, 3, 4, 5, 6, 7, 8, 9])"
      ]
     },
     "execution_count": 8,
     "metadata": {},
     "output_type": "execute_result"
    }
   ],
   "source": [
    "array_ravel = array_mod.ravel()\n",
    "array_ravel"
   ]
  },
  {
   "cell_type": "code",
   "execution_count": null,
   "id": "0eb5fde7-e9cb-401b-9fd3-185b01aca6ef",
   "metadata": {},
   "outputs": [],
   "source": []
  }
 ],
 "metadata": {
  "kernelspec": {
   "display_name": "Python 3 (ipykernel)",
   "language": "python",
   "name": "python3"
  },
  "language_info": {
   "codemirror_mode": {
    "name": "ipython",
    "version": 3
   },
   "file_extension": ".py",
   "mimetype": "text/x-python",
   "name": "python",
   "nbconvert_exporter": "python",
   "pygments_lexer": "ipython3",
   "version": "3.13.1"
  }
 },
 "nbformat": 4,
 "nbformat_minor": 5
}
