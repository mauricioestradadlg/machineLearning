{
 "cells": [
  {
   "cell_type": "markdown",
   "id": "f27f450b-f666-49e2-b606-2eff700f950c",
   "metadata": {},
   "source": [
    "**VIDEO 1**"
   ]
  },
  {
   "cell_type": "code",
   "execution_count": 2,
   "id": "a5da3624-df7b-4c76-b09c-df9157b84fa5",
   "metadata": {},
   "outputs": [],
   "source": [
    "import pandas as pd"
   ]
  },
  {
   "cell_type": "code",
   "execution_count": 3,
   "id": "2ec7f280-b2e3-4549-8d43-d5d377bfa293",
   "metadata": {},
   "outputs": [
    {
     "data": {
      "text/plain": [
       "{'nombre': ['Mauricio', 'Eugenio', 'Beatriz'], 'edad': [22, 28, 25]}"
      ]
     },
     "execution_count": 3,
     "metadata": {},
     "output_type": "execute_result"
    }
   ],
   "source": [
    "datos = {\"nombre\": [\"Mauricio\", \"Eugenio\", \"Beatriz\"], \"edad\": [22, 28, 25]}\n",
    "datos"
   ]
  },
  {
   "cell_type": "code",
   "execution_count": 4,
   "id": "36302a4b-dd43-4ca9-8b39-a09afadfa821",
   "metadata": {},
   "outputs": [
    {
     "data": {
      "text/html": [
       "<div>\n",
       "<style scoped>\n",
       "    .dataframe tbody tr th:only-of-type {\n",
       "        vertical-align: middle;\n",
       "    }\n",
       "\n",
       "    .dataframe tbody tr th {\n",
       "        vertical-align: top;\n",
       "    }\n",
       "\n",
       "    .dataframe thead th {\n",
       "        text-align: right;\n",
       "    }\n",
       "</style>\n",
       "<table border=\"1\" class=\"dataframe\">\n",
       "  <thead>\n",
       "    <tr style=\"text-align: right;\">\n",
       "      <th></th>\n",
       "      <th>nombre</th>\n",
       "      <th>edad</th>\n",
       "    </tr>\n",
       "  </thead>\n",
       "  <tbody>\n",
       "    <tr>\n",
       "      <th>0</th>\n",
       "      <td>Mauricio</td>\n",
       "      <td>22</td>\n",
       "    </tr>\n",
       "    <tr>\n",
       "      <th>1</th>\n",
       "      <td>Eugenio</td>\n",
       "      <td>28</td>\n",
       "    </tr>\n",
       "    <tr>\n",
       "      <th>2</th>\n",
       "      <td>Beatriz</td>\n",
       "      <td>25</td>\n",
       "    </tr>\n",
       "  </tbody>\n",
       "</table>\n",
       "</div>"
      ],
      "text/plain": [
       "     nombre  edad\n",
       "0  Mauricio    22\n",
       "1   Eugenio    28\n",
       "2   Beatriz    25"
      ]
     },
     "execution_count": 4,
     "metadata": {},
     "output_type": "execute_result"
    }
   ],
   "source": [
    "df = pd.DataFrame(datos)\n",
    "df"
   ]
  },
  {
   "cell_type": "code",
   "execution_count": 5,
   "id": "59a8163b-7f6b-4d4f-a311-c358c8827366",
   "metadata": {},
   "outputs": [
    {
     "data": {
      "text/plain": [
       "pandas.core.frame.DataFrame"
      ]
     },
     "execution_count": 5,
     "metadata": {},
     "output_type": "execute_result"
    }
   ],
   "source": [
    "type(df)"
   ]
  },
  {
   "cell_type": "code",
   "execution_count": 6,
   "id": "3b1f8f22-4986-41d0-8305-711f00f44e39",
   "metadata": {},
   "outputs": [
    {
     "data": {
      "text/plain": [
       "0    Mauricio\n",
       "1     Eugenio\n",
       "2     Beatriz\n",
       "Name: nombre, dtype: object"
      ]
     },
     "execution_count": 6,
     "metadata": {},
     "output_type": "execute_result"
    }
   ],
   "source": [
    "df[\"nombre\"]"
   ]
  },
  {
   "cell_type": "code",
   "execution_count": 7,
   "id": "60058a49-d020-4b93-bb21-2daf2b3918b8",
   "metadata": {},
   "outputs": [
    {
     "data": {
      "text/plain": [
       "0    Mauricio\n",
       "1     Eugenio\n",
       "2     Beatriz\n",
       "Name: nombre, dtype: object"
      ]
     },
     "execution_count": 7,
     "metadata": {},
     "output_type": "execute_result"
    }
   ],
   "source": [
    "df.nombre"
   ]
  },
  {
   "cell_type": "code",
   "execution_count": 8,
   "id": "912d2297-edee-4977-8438-296e63e4aa1b",
   "metadata": {},
   "outputs": [
    {
     "data": {
      "text/plain": [
       "pandas.core.series.Series"
      ]
     },
     "execution_count": 8,
     "metadata": {},
     "output_type": "execute_result"
    }
   ],
   "source": [
    "type(df.nombre)"
   ]
  },
  {
   "cell_type": "markdown",
   "id": "e530d24b-b4bb-4e93-a008-c2fd62b483c8",
   "metadata": {},
   "source": [
    "**VIDEO 2**"
   ]
  },
  {
   "cell_type": "code",
   "execution_count": 9,
   "id": "173e6f6c-8629-4b54-a08b-233ebaffef5a",
   "metadata": {},
   "outputs": [
    {
     "data": {
      "text/html": [
       "<div>\n",
       "<style scoped>\n",
       "    .dataframe tbody tr th:only-of-type {\n",
       "        vertical-align: middle;\n",
       "    }\n",
       "\n",
       "    .dataframe tbody tr th {\n",
       "        vertical-align: top;\n",
       "    }\n",
       "\n",
       "    .dataframe thead th {\n",
       "        text-align: right;\n",
       "    }\n",
       "</style>\n",
       "<table border=\"1\" class=\"dataframe\">\n",
       "  <thead>\n",
       "    <tr style=\"text-align: right;\">\n",
       "      <th></th>\n",
       "      <th>region</th>\n",
       "      <th>enero</th>\n",
       "      <th>febrero</th>\n",
       "      <th>marzo</th>\n",
       "      <th>abril</th>\n",
       "      <th>mayo</th>\n",
       "      <th>junio</th>\n",
       "      <th>julio</th>\n",
       "      <th>agosto</th>\n",
       "      <th>septiembre</th>\n",
       "      <th>octubre</th>\n",
       "      <th>noviembre</th>\n",
       "      <th>diciembre</th>\n",
       "      <th>anual</th>\n",
       "    </tr>\n",
       "  </thead>\n",
       "  <tbody>\n",
       "    <tr>\n",
       "      <th>0</th>\n",
       "      <td>A CORUNA</td>\n",
       "      <td>240.5</td>\n",
       "      <td>293.4</td>\n",
       "      <td>31.0</td>\n",
       "      <td>80.6</td>\n",
       "      <td>149.5</td>\n",
       "      <td>108.9</td>\n",
       "      <td>44.6</td>\n",
       "      <td>21.8</td>\n",
       "      <td>96.5</td>\n",
       "      <td>154.5</td>\n",
       "      <td>100.8</td>\n",
       "      <td>214.8</td>\n",
       "      <td>1536.9</td>\n",
       "    </tr>\n",
       "    <tr>\n",
       "      <th>1</th>\n",
       "      <td>ALBACETE</td>\n",
       "      <td>68.1</td>\n",
       "      <td>28.0</td>\n",
       "      <td>26.2</td>\n",
       "      <td>65.3</td>\n",
       "      <td>25.4</td>\n",
       "      <td>50.0</td>\n",
       "      <td>2.0</td>\n",
       "      <td>34.5</td>\n",
       "      <td>48.0</td>\n",
       "      <td>44.8</td>\n",
       "      <td>33.1</td>\n",
       "      <td>14.1</td>\n",
       "      <td>439.5</td>\n",
       "    </tr>\n",
       "    <tr>\n",
       "      <th>2</th>\n",
       "      <td>ALICANTE</td>\n",
       "      <td>49.2</td>\n",
       "      <td>3.7</td>\n",
       "      <td>63.2</td>\n",
       "      <td>85.8</td>\n",
       "      <td>57.2</td>\n",
       "      <td>20.0</td>\n",
       "      <td>9.2</td>\n",
       "      <td>5.0</td>\n",
       "      <td>44.0</td>\n",
       "      <td>41.1</td>\n",
       "      <td>47.4</td>\n",
       "      <td>1.8</td>\n",
       "      <td>427.6</td>\n",
       "    </tr>\n",
       "    <tr>\n",
       "      <th>3</th>\n",
       "      <td>ALMERIA</td>\n",
       "      <td>56.3</td>\n",
       "      <td>5.2</td>\n",
       "      <td>35.8</td>\n",
       "      <td>43.1</td>\n",
       "      <td>38.8</td>\n",
       "      <td>16.9</td>\n",
       "      <td>10.2</td>\n",
       "      <td>1.9</td>\n",
       "      <td>17.4</td>\n",
       "      <td>27.3</td>\n",
       "      <td>32.6</td>\n",
       "      <td>3.2</td>\n",
       "      <td>288.7</td>\n",
       "    </tr>\n",
       "    <tr>\n",
       "      <th>4</th>\n",
       "      <td>ARABA</td>\n",
       "      <td>96.8</td>\n",
       "      <td>79.9</td>\n",
       "      <td>38.0</td>\n",
       "      <td>52.0</td>\n",
       "      <td>37.7</td>\n",
       "      <td>107.8</td>\n",
       "      <td>8.5</td>\n",
       "      <td>17.7</td>\n",
       "      <td>63.3</td>\n",
       "      <td>38.5</td>\n",
       "      <td>212.2</td>\n",
       "      <td>197.3</td>\n",
       "      <td>949.7</td>\n",
       "    </tr>\n",
       "  </tbody>\n",
       "</table>\n",
       "</div>"
      ],
      "text/plain": [
       "     region  enero  febrero  marzo  abril   mayo  junio  julio  agosto  \\\n",
       "0  A CORUNA  240.5    293.4   31.0   80.6  149.5  108.9   44.6    21.8   \n",
       "1  ALBACETE   68.1     28.0   26.2   65.3   25.4   50.0    2.0    34.5   \n",
       "2  ALICANTE   49.2      3.7   63.2   85.8   57.2   20.0    9.2     5.0   \n",
       "3   ALMERIA   56.3      5.2   35.8   43.1   38.8   16.9   10.2     1.9   \n",
       "4     ARABA   96.8     79.9   38.0   52.0   37.7  107.8    8.5    17.7   \n",
       "\n",
       "   septiembre  octubre  noviembre  diciembre   anual  \n",
       "0        96.5    154.5      100.8      214.8  1536.9  \n",
       "1        48.0     44.8       33.1       14.1   439.5  \n",
       "2        44.0     41.1       47.4        1.8   427.6  \n",
       "3        17.4     27.3       32.6        3.2   288.7  \n",
       "4        63.3     38.5      212.2      197.3   949.7  "
      ]
     },
     "execution_count": 9,
     "metadata": {},
     "output_type": "execute_result"
    }
   ],
   "source": [
    "import pandas as pd\n",
    "df = pd.read_csv('Precipitaciones.csv')\n",
    "df.head()"
   ]
  },
  {
   "cell_type": "code",
   "execution_count": 10,
   "id": "66672df0-bf61-4b40-be74-5767f99de0a1",
   "metadata": {},
   "outputs": [
    {
     "data": {
      "text/html": [
       "<div>\n",
       "<style scoped>\n",
       "    .dataframe tbody tr th:only-of-type {\n",
       "        vertical-align: middle;\n",
       "    }\n",
       "\n",
       "    .dataframe tbody tr th {\n",
       "        vertical-align: top;\n",
       "    }\n",
       "\n",
       "    .dataframe thead th {\n",
       "        text-align: right;\n",
       "    }\n",
       "</style>\n",
       "<table border=\"1\" class=\"dataframe\">\n",
       "  <thead>\n",
       "    <tr style=\"text-align: right;\">\n",
       "      <th></th>\n",
       "      <th>region</th>\n",
       "      <th>enero</th>\n",
       "      <th>febrero</th>\n",
       "      <th>marzo</th>\n",
       "      <th>abril</th>\n",
       "      <th>mayo</th>\n",
       "      <th>junio</th>\n",
       "      <th>julio</th>\n",
       "      <th>agosto</th>\n",
       "      <th>septiembre</th>\n",
       "      <th>octubre</th>\n",
       "      <th>noviembre</th>\n",
       "      <th>diciembre</th>\n",
       "      <th>anual</th>\n",
       "    </tr>\n",
       "  </thead>\n",
       "  <tbody>\n",
       "    <tr>\n",
       "      <th>0</th>\n",
       "      <td>A CORUNA</td>\n",
       "      <td>240.5</td>\n",
       "      <td>293.4</td>\n",
       "      <td>31.0</td>\n",
       "      <td>80.6</td>\n",
       "      <td>149.5</td>\n",
       "      <td>108.9</td>\n",
       "      <td>44.6</td>\n",
       "      <td>21.8</td>\n",
       "      <td>96.5</td>\n",
       "      <td>154.5</td>\n",
       "      <td>100.8</td>\n",
       "      <td>214.8</td>\n",
       "      <td>1536.9</td>\n",
       "    </tr>\n",
       "  </tbody>\n",
       "</table>\n",
       "</div>"
      ],
      "text/plain": [
       "     region  enero  febrero  marzo  abril   mayo  junio  julio  agosto  \\\n",
       "0  A CORUNA  240.5    293.4   31.0   80.6  149.5  108.9   44.6    21.8   \n",
       "\n",
       "   septiembre  octubre  noviembre  diciembre   anual  \n",
       "0        96.5    154.5      100.8      214.8  1536.9  "
      ]
     },
     "execution_count": 10,
     "metadata": {},
     "output_type": "execute_result"
    }
   ],
   "source": [
    "df.head(1)"
   ]
  },
  {
   "cell_type": "code",
   "execution_count": 11,
   "id": "d51b8553-0cba-4510-8eb7-a76e4ff17b9c",
   "metadata": {},
   "outputs": [
    {
     "data": {
      "text/html": [
       "<div>\n",
       "<style scoped>\n",
       "    .dataframe tbody tr th:only-of-type {\n",
       "        vertical-align: middle;\n",
       "    }\n",
       "\n",
       "    .dataframe tbody tr th {\n",
       "        vertical-align: top;\n",
       "    }\n",
       "\n",
       "    .dataframe thead th {\n",
       "        text-align: right;\n",
       "    }\n",
       "</style>\n",
       "<table border=\"1\" class=\"dataframe\">\n",
       "  <thead>\n",
       "    <tr style=\"text-align: right;\">\n",
       "      <th></th>\n",
       "      <th>region</th>\n",
       "      <th>enero</th>\n",
       "      <th>febrero</th>\n",
       "      <th>marzo</th>\n",
       "      <th>abril</th>\n",
       "      <th>mayo</th>\n",
       "      <th>junio</th>\n",
       "      <th>julio</th>\n",
       "      <th>agosto</th>\n",
       "      <th>septiembre</th>\n",
       "      <th>octubre</th>\n",
       "      <th>noviembre</th>\n",
       "      <th>diciembre</th>\n",
       "      <th>anual</th>\n",
       "    </tr>\n",
       "  </thead>\n",
       "  <tbody>\n",
       "    <tr>\n",
       "      <th>51</th>\n",
       "      <td>ZARAGOZA</td>\n",
       "      <td>52.0</td>\n",
       "      <td>30.0</td>\n",
       "      <td>3.6</td>\n",
       "      <td>52.7</td>\n",
       "      <td>38.3</td>\n",
       "      <td>57.5</td>\n",
       "      <td>13.5</td>\n",
       "      <td>13.2</td>\n",
       "      <td>61.5</td>\n",
       "      <td>27.4</td>\n",
       "      <td>76.6</td>\n",
       "      <td>23.4</td>\n",
       "      <td>449.7</td>\n",
       "    </tr>\n",
       "  </tbody>\n",
       "</table>\n",
       "</div>"
      ],
      "text/plain": [
       "      region  enero  febrero  marzo  abril  mayo  junio  julio  agosto  \\\n",
       "51  ZARAGOZA   52.0     30.0    3.6   52.7  38.3   57.5   13.5    13.2   \n",
       "\n",
       "    septiembre  octubre  noviembre  diciembre  anual  \n",
       "51        61.5     27.4       76.6       23.4  449.7  "
      ]
     },
     "execution_count": 11,
     "metadata": {},
     "output_type": "execute_result"
    }
   ],
   "source": [
    "df.tail(1)"
   ]
  },
  {
   "cell_type": "code",
   "execution_count": 12,
   "id": "a2a946d5-269b-43b1-a567-cbc80e404a81",
   "metadata": {},
   "outputs": [
    {
     "data": {
      "text/plain": [
       "(52, 14)"
      ]
     },
     "execution_count": 12,
     "metadata": {},
     "output_type": "execute_result"
    }
   ],
   "source": [
    "df.shape"
   ]
  },
  {
   "cell_type": "code",
   "execution_count": 13,
   "id": "c9326fbd-8cc0-4a8c-b58f-33622925aca9",
   "metadata": {},
   "outputs": [
    {
     "data": {
      "text/plain": [
       "Index(['region', 'enero', 'febrero', 'marzo', 'abril', 'mayo', 'junio',\n",
       "       'julio', 'agosto', 'septiembre', 'octubre', 'noviembre', 'diciembre',\n",
       "       'anual'],\n",
       "      dtype='object')"
      ]
     },
     "execution_count": 13,
     "metadata": {},
     "output_type": "execute_result"
    }
   ],
   "source": [
    "df.columns"
   ]
  },
  {
   "cell_type": "code",
   "execution_count": 14,
   "id": "7b85e7f0-057d-408b-8769-1dfe649ac792",
   "metadata": {},
   "outputs": [
    {
     "name": "stdout",
     "output_type": "stream",
     "text": [
      "<class 'pandas.core.frame.DataFrame'>\n",
      "RangeIndex: 52 entries, 0 to 51\n",
      "Data columns (total 14 columns):\n",
      " #   Column      Non-Null Count  Dtype  \n",
      "---  ------      --------------  -----  \n",
      " 0   region      52 non-null     object \n",
      " 1   enero       52 non-null     float64\n",
      " 2   febrero     52 non-null     float64\n",
      " 3   marzo       52 non-null     float64\n",
      " 4   abril       52 non-null     float64\n",
      " 5   mayo        52 non-null     float64\n",
      " 6   junio       52 non-null     float64\n",
      " 7   julio       52 non-null     float64\n",
      " 8   agosto      52 non-null     float64\n",
      " 9   septiembre  52 non-null     float64\n",
      " 10  octubre     52 non-null     float64\n",
      " 11  noviembre   52 non-null     float64\n",
      " 12  diciembre   52 non-null     float64\n",
      " 13  anual       52 non-null     float64\n",
      "dtypes: float64(13), object(1)\n",
      "memory usage: 5.8+ KB\n"
     ]
    }
   ],
   "source": [
    "df.info()"
   ]
  },
  {
   "cell_type": "code",
   "execution_count": 15,
   "id": "72e66f48-9fe8-4a5b-9e75-6db9f015d8e2",
   "metadata": {},
   "outputs": [
    {
     "data": {
      "text/html": [
       "<div>\n",
       "<style scoped>\n",
       "    .dataframe tbody tr th:only-of-type {\n",
       "        vertical-align: middle;\n",
       "    }\n",
       "\n",
       "    .dataframe tbody tr th {\n",
       "        vertical-align: top;\n",
       "    }\n",
       "\n",
       "    .dataframe thead th {\n",
       "        text-align: right;\n",
       "    }\n",
       "</style>\n",
       "<table border=\"1\" class=\"dataframe\">\n",
       "  <thead>\n",
       "    <tr style=\"text-align: right;\">\n",
       "      <th></th>\n",
       "      <th>enero</th>\n",
       "      <th>febrero</th>\n",
       "      <th>marzo</th>\n",
       "      <th>abril</th>\n",
       "      <th>mayo</th>\n",
       "      <th>junio</th>\n",
       "      <th>julio</th>\n",
       "      <th>agosto</th>\n",
       "      <th>septiembre</th>\n",
       "      <th>octubre</th>\n",
       "      <th>noviembre</th>\n",
       "      <th>diciembre</th>\n",
       "      <th>anual</th>\n",
       "    </tr>\n",
       "  </thead>\n",
       "  <tbody>\n",
       "    <tr>\n",
       "      <th>count</th>\n",
       "      <td>52.000000</td>\n",
       "      <td>52.000000</td>\n",
       "      <td>52.000000</td>\n",
       "      <td>52.000000</td>\n",
       "      <td>52.000000</td>\n",
       "      <td>52.000000</td>\n",
       "      <td>52.000000</td>\n",
       "      <td>52.000000</td>\n",
       "      <td>52.000000</td>\n",
       "      <td>52.000000</td>\n",
       "      <td>52.000000</td>\n",
       "      <td>52.000000</td>\n",
       "      <td>52.000000</td>\n",
       "    </tr>\n",
       "    <tr>\n",
       "      <th>mean</th>\n",
       "      <td>92.996154</td>\n",
       "      <td>78.632692</td>\n",
       "      <td>26.684615</td>\n",
       "      <td>64.500000</td>\n",
       "      <td>38.305769</td>\n",
       "      <td>54.182692</td>\n",
       "      <td>11.840385</td>\n",
       "      <td>17.178846</td>\n",
       "      <td>62.246154</td>\n",
       "      <td>54.373077</td>\n",
       "      <td>82.494231</td>\n",
       "      <td>76.192308</td>\n",
       "      <td>659.626923</td>\n",
       "    </tr>\n",
       "    <tr>\n",
       "      <th>std</th>\n",
       "      <td>57.127171</td>\n",
       "      <td>67.454280</td>\n",
       "      <td>31.473913</td>\n",
       "      <td>21.421942</td>\n",
       "      <td>29.079576</td>\n",
       "      <td>36.821635</td>\n",
       "      <td>13.256390</td>\n",
       "      <td>13.939496</td>\n",
       "      <td>28.581205</td>\n",
       "      <td>36.619785</td>\n",
       "      <td>91.689789</td>\n",
       "      <td>80.409042</td>\n",
       "      <td>352.905548</td>\n",
       "    </tr>\n",
       "    <tr>\n",
       "      <th>min</th>\n",
       "      <td>26.800000</td>\n",
       "      <td>2.300000</td>\n",
       "      <td>3.300000</td>\n",
       "      <td>3.500000</td>\n",
       "      <td>0.700000</td>\n",
       "      <td>1.100000</td>\n",
       "      <td>0.000000</td>\n",
       "      <td>0.000000</td>\n",
       "      <td>0.900000</td>\n",
       "      <td>1.000000</td>\n",
       "      <td>7.100000</td>\n",
       "      <td>1.800000</td>\n",
       "      <td>108.200000</td>\n",
       "    </tr>\n",
       "    <tr>\n",
       "      <th>25%</th>\n",
       "      <td>53.825000</td>\n",
       "      <td>32.825000</td>\n",
       "      <td>9.125000</td>\n",
       "      <td>53.950000</td>\n",
       "      <td>18.875000</td>\n",
       "      <td>26.325000</td>\n",
       "      <td>1.600000</td>\n",
       "      <td>4.850000</td>\n",
       "      <td>46.000000</td>\n",
       "      <td>29.825000</td>\n",
       "      <td>32.375000</td>\n",
       "      <td>22.075000</td>\n",
       "      <td>455.925000</td>\n",
       "    </tr>\n",
       "    <tr>\n",
       "      <th>50%</th>\n",
       "      <td>73.950000</td>\n",
       "      <td>62.600000</td>\n",
       "      <td>17.200000</td>\n",
       "      <td>62.700000</td>\n",
       "      <td>35.650000</td>\n",
       "      <td>50.400000</td>\n",
       "      <td>6.150000</td>\n",
       "      <td>16.500000</td>\n",
       "      <td>62.300000</td>\n",
       "      <td>46.550000</td>\n",
       "      <td>46.950000</td>\n",
       "      <td>47.950000</td>\n",
       "      <td>548.550000</td>\n",
       "    </tr>\n",
       "    <tr>\n",
       "      <th>75%</th>\n",
       "      <td>97.300000</td>\n",
       "      <td>102.550000</td>\n",
       "      <td>35.425000</td>\n",
       "      <td>77.625000</td>\n",
       "      <td>48.750000</td>\n",
       "      <td>78.025000</td>\n",
       "      <td>17.875000</td>\n",
       "      <td>26.550000</td>\n",
       "      <td>81.625000</td>\n",
       "      <td>74.500000</td>\n",
       "      <td>102.725000</td>\n",
       "      <td>107.000000</td>\n",
       "      <td>665.150000</td>\n",
       "    </tr>\n",
       "    <tr>\n",
       "      <th>max</th>\n",
       "      <td>261.900000</td>\n",
       "      <td>335.700000</td>\n",
       "      <td>209.800000</td>\n",
       "      <td>128.400000</td>\n",
       "      <td>149.500000</td>\n",
       "      <td>145.000000</td>\n",
       "      <td>46.800000</td>\n",
       "      <td>57.000000</td>\n",
       "      <td>122.800000</td>\n",
       "      <td>175.700000</td>\n",
       "      <td>384.600000</td>\n",
       "      <td>314.700000</td>\n",
       "      <td>1575.400000</td>\n",
       "    </tr>\n",
       "  </tbody>\n",
       "</table>\n",
       "</div>"
      ],
      "text/plain": [
       "            enero     febrero       marzo       abril        mayo       junio  \\\n",
       "count   52.000000   52.000000   52.000000   52.000000   52.000000   52.000000   \n",
       "mean    92.996154   78.632692   26.684615   64.500000   38.305769   54.182692   \n",
       "std     57.127171   67.454280   31.473913   21.421942   29.079576   36.821635   \n",
       "min     26.800000    2.300000    3.300000    3.500000    0.700000    1.100000   \n",
       "25%     53.825000   32.825000    9.125000   53.950000   18.875000   26.325000   \n",
       "50%     73.950000   62.600000   17.200000   62.700000   35.650000   50.400000   \n",
       "75%     97.300000  102.550000   35.425000   77.625000   48.750000   78.025000   \n",
       "max    261.900000  335.700000  209.800000  128.400000  149.500000  145.000000   \n",
       "\n",
       "           julio     agosto  septiembre     octubre   noviembre   diciembre  \\\n",
       "count  52.000000  52.000000   52.000000   52.000000   52.000000   52.000000   \n",
       "mean   11.840385  17.178846   62.246154   54.373077   82.494231   76.192308   \n",
       "std    13.256390  13.939496   28.581205   36.619785   91.689789   80.409042   \n",
       "min     0.000000   0.000000    0.900000    1.000000    7.100000    1.800000   \n",
       "25%     1.600000   4.850000   46.000000   29.825000   32.375000   22.075000   \n",
       "50%     6.150000  16.500000   62.300000   46.550000   46.950000   47.950000   \n",
       "75%    17.875000  26.550000   81.625000   74.500000  102.725000  107.000000   \n",
       "max    46.800000  57.000000  122.800000  175.700000  384.600000  314.700000   \n",
       "\n",
       "             anual  \n",
       "count    52.000000  \n",
       "mean    659.626923  \n",
       "std     352.905548  \n",
       "min     108.200000  \n",
       "25%     455.925000  \n",
       "50%     548.550000  \n",
       "75%     665.150000  \n",
       "max    1575.400000  "
      ]
     },
     "execution_count": 15,
     "metadata": {},
     "output_type": "execute_result"
    }
   ],
   "source": [
    "df.describe()"
   ]
  },
  {
   "cell_type": "code",
   "execution_count": 16,
   "id": "fe9f6193-4137-43f9-85c6-805fcec81af4",
   "metadata": {},
   "outputs": [
    {
     "data": {
      "text/plain": [
       "0    A CORUNA\n",
       "1    ALBACETE\n",
       "2    ALICANTE\n",
       "3     ALMERIA\n",
       "4       ARABA\n",
       "Name: region, dtype: object"
      ]
     },
     "execution_count": 16,
     "metadata": {},
     "output_type": "execute_result"
    }
   ],
   "source": [
    "serie = df[\"region\"]\n",
    "serie.head()"
   ]
  },
  {
   "cell_type": "code",
   "execution_count": 17,
   "id": "300b10e2-8703-4fa2-9fe1-2b4b8cf68b99",
   "metadata": {},
   "outputs": [
    {
     "data": {
      "text/plain": [
       "0    0\n",
       "1    1\n",
       "2    2\n",
       "3    3\n",
       "4    4\n",
       "5    5\n",
       "6    6\n",
       "7    7\n",
       "8    8\n",
       "9    9\n",
       "dtype: int64"
      ]
     },
     "execution_count": 17,
     "metadata": {},
     "output_type": "execute_result"
    }
   ],
   "source": [
    "arreglo = [0,1,2,3,4,5,6,7,8,9]\n",
    "miSerie = pd.Series(arreglo)\n",
    "miSerie"
   ]
  },
  {
   "cell_type": "code",
   "execution_count": 18,
   "id": "3d95fba7-684d-4a9e-80df-6a1dd50ec55a",
   "metadata": {},
   "outputs": [
    {
     "data": {
      "text/plain": [
       "Posicion 0    0\n",
       "Posicion 1    1\n",
       "Posicion 2    2\n",
       "Posicion 3    3\n",
       "Posicion 4    4\n",
       "Posicion 5    5\n",
       "Posicion 6    6\n",
       "Posicion 7    7\n",
       "Posicion 8    8\n",
       "Posicion 9    9\n",
       "dtype: int64"
      ]
     },
     "execution_count": 18,
     "metadata": {},
     "output_type": "execute_result"
    }
   ],
   "source": [
    "indices = [\"Posicion 0\", \"Posicion 1\", \"Posicion 2\", \"Posicion 3\", \"Posicion 4\", \"Posicion 5\", \"Posicion 6\", \"Posicion 7\", \"Posicion 8\", \"Posicion 9\"]\n",
    "miSerie = pd.Series(arreglo, indices)\n",
    "miSerie"
   ]
  },
  {
   "cell_type": "code",
   "execution_count": 19,
   "id": "42519f6b-f536-442e-9388-4610d8cab1cb",
   "metadata": {},
   "outputs": [
    {
     "data": {
      "text/plain": [
       "pandas.core.series.Series"
      ]
     },
     "execution_count": 19,
     "metadata": {},
     "output_type": "execute_result"
    }
   ],
   "source": [
    "type(miSerie)"
   ]
  },
  {
   "cell_type": "code",
   "execution_count": 20,
   "id": "5e7ff5de-fcce-4758-87e1-0d5ca005c6ca",
   "metadata": {},
   "outputs": [
    {
     "data": {
      "text/plain": [
       "numpy.int64"
      ]
     },
     "execution_count": 20,
     "metadata": {},
     "output_type": "execute_result"
    }
   ],
   "source": [
    "type(miSerie[\"Posicion 0\"])"
   ]
  },
  {
   "cell_type": "code",
   "execution_count": 21,
   "id": "e20ef536-9e69-4330-a5cb-90f0c1bc3193",
   "metadata": {},
   "outputs": [
    {
     "data": {
      "text/plain": [
       "Mexico             CDMX\n",
       "EUA       Washington DC\n",
       "Canada           Ottawa\n",
       "dtype: object"
      ]
     },
     "execution_count": 21,
     "metadata": {},
     "output_type": "execute_result"
    }
   ],
   "source": [
    "cities = {\"Mexico\": \"CDMX\", \"EUA\": \"Washington DC\", \"Canada\": \"Ottawa\"}\n",
    "atributo = pd.Series(cities)\n",
    "atributo"
   ]
  },
  {
   "cell_type": "markdown",
   "id": "306ef98e-9cec-448c-8330-2443d3a35578",
   "metadata": {},
   "source": [
    "**VIDEO 3**"
   ]
  },
  {
   "cell_type": "code",
   "execution_count": 22,
   "id": "289423c9-270c-4709-a7b5-c2a094ce5660",
   "metadata": {},
   "outputs": [],
   "source": [
    "import pandas as pd"
   ]
  },
  {
   "cell_type": "code",
   "execution_count": 23,
   "id": "121ab4e4-39af-4e75-8e06-293a5a90c0a3",
   "metadata": {},
   "outputs": [
    {
     "data": {
      "text/plain": [
       "0    1\n",
       "1    2\n",
       "2    3\n",
       "3    4\n",
       "4    5\n",
       "dtype: int64"
      ]
     },
     "execution_count": 23,
     "metadata": {},
     "output_type": "execute_result"
    }
   ],
   "source": [
    "serie = pd.Series([1,2,3,4,5])\n",
    "serie"
   ]
  },
  {
   "cell_type": "code",
   "execution_count": 24,
   "id": "2708b14d-ee22-4e69-b571-7678bb1bf410",
   "metadata": {},
   "outputs": [
    {
     "data": {
      "text/plain": [
       "0    6\n",
       "1    2\n",
       "2    3\n",
       "3    4\n",
       "4    5\n",
       "dtype: int64"
      ]
     },
     "execution_count": 24,
     "metadata": {},
     "output_type": "execute_result"
    }
   ],
   "source": [
    "serie[0] = serie[0] + 5\n",
    "serie"
   ]
  },
  {
   "cell_type": "code",
   "execution_count": 25,
   "id": "27919e6f-e5aa-44ed-8ab8-979be393519f",
   "metadata": {},
   "outputs": [
    {
     "data": {
      "text/plain": [
       "0    30\n",
       "1    10\n",
       "2    15\n",
       "3    20\n",
       "4    25\n",
       "dtype: int64"
      ]
     },
     "execution_count": 25,
     "metadata": {},
     "output_type": "execute_result"
    }
   ],
   "source": [
    "serie = serie * 5\n",
    "serie"
   ]
  },
  {
   "cell_type": "markdown",
   "id": "76c7012e-60e2-4657-9e7b-b6fee3219f8a",
   "metadata": {},
   "source": [
    "**VIDEO 4**"
   ]
  },
  {
   "cell_type": "code",
   "execution_count": 26,
   "id": "35180722-8182-4d4e-9fff-620d10d3eb0a",
   "metadata": {},
   "outputs": [
    {
     "data": {
      "text/html": [
       "<div>\n",
       "<style scoped>\n",
       "    .dataframe tbody tr th:only-of-type {\n",
       "        vertical-align: middle;\n",
       "    }\n",
       "\n",
       "    .dataframe tbody tr th {\n",
       "        vertical-align: top;\n",
       "    }\n",
       "\n",
       "    .dataframe thead th {\n",
       "        text-align: right;\n",
       "    }\n",
       "</style>\n",
       "<table border=\"1\" class=\"dataframe\">\n",
       "  <thead>\n",
       "    <tr style=\"text-align: right;\">\n",
       "      <th></th>\n",
       "      <th>idProducto</th>\n",
       "      <th>cantidadVendida</th>\n",
       "      <th>Precio</th>\n",
       "    </tr>\n",
       "  </thead>\n",
       "  <tbody>\n",
       "    <tr>\n",
       "      <th>0</th>\n",
       "      <td>1001</td>\n",
       "      <td>30.0</td>\n",
       "      <td>20.5</td>\n",
       "    </tr>\n",
       "    <tr>\n",
       "      <th>1</th>\n",
       "      <td>1002</td>\n",
       "      <td>NaN</td>\n",
       "      <td>15.0</td>\n",
       "    </tr>\n",
       "    <tr>\n",
       "      <th>2</th>\n",
       "      <td>1003</td>\n",
       "      <td>25.0</td>\n",
       "      <td>NaN</td>\n",
       "    </tr>\n",
       "    <tr>\n",
       "      <th>3</th>\n",
       "      <td>1003</td>\n",
       "      <td>25.0</td>\n",
       "      <td>22.5</td>\n",
       "    </tr>\n",
       "  </tbody>\n",
       "</table>\n",
       "</div>"
      ],
      "text/plain": [
       "   idProducto  cantidadVendida  Precio\n",
       "0        1001             30.0    20.5\n",
       "1        1002              NaN    15.0\n",
       "2        1003             25.0     NaN\n",
       "3        1003             25.0    22.5"
      ]
     },
     "execution_count": 26,
     "metadata": {},
     "output_type": "execute_result"
    }
   ],
   "source": [
    "import pandas as pd\n",
    "\n",
    "data = {\"idProducto\":[1001,1002,1003,1003],\n",
    "       \"cantidadVendida\": [30, None, 25, 25],\n",
    "       \"Precio\": [20.5, 15.0, None, 22.5]}\n",
    "\n",
    "df = pd.DataFrame(data)\n",
    "df"
   ]
  },
  {
   "cell_type": "code",
   "execution_count": 27,
   "id": "1e68c203-2480-4471-a3e1-6f409281218a",
   "metadata": {},
   "outputs": [
    {
     "name": "stdout",
     "output_type": "stream",
     "text": [
      "<class 'pandas.core.frame.DataFrame'>\n",
      "RangeIndex: 4 entries, 0 to 3\n",
      "Data columns (total 3 columns):\n",
      " #   Column           Non-Null Count  Dtype  \n",
      "---  ------           --------------  -----  \n",
      " 0   idProducto       4 non-null      int64  \n",
      " 1   cantidadVendida  3 non-null      float64\n",
      " 2   Precio           3 non-null      float64\n",
      "dtypes: float64(2), int64(1)\n",
      "memory usage: 228.0 bytes\n"
     ]
    }
   ],
   "source": [
    "df.info()"
   ]
  },
  {
   "cell_type": "code",
   "execution_count": 28,
   "id": "3e380d1b-349b-4f29-9a93-8d51084ee588",
   "metadata": {},
   "outputs": [
    {
     "data": {
      "text/html": [
       "<div>\n",
       "<style scoped>\n",
       "    .dataframe tbody tr th:only-of-type {\n",
       "        vertical-align: middle;\n",
       "    }\n",
       "\n",
       "    .dataframe tbody tr th {\n",
       "        vertical-align: top;\n",
       "    }\n",
       "\n",
       "    .dataframe thead th {\n",
       "        text-align: right;\n",
       "    }\n",
       "</style>\n",
       "<table border=\"1\" class=\"dataframe\">\n",
       "  <thead>\n",
       "    <tr style=\"text-align: right;\">\n",
       "      <th></th>\n",
       "      <th>idProducto</th>\n",
       "      <th>cantidadVendida</th>\n",
       "      <th>Precio</th>\n",
       "    </tr>\n",
       "  </thead>\n",
       "  <tbody>\n",
       "    <tr>\n",
       "      <th>0</th>\n",
       "      <td>False</td>\n",
       "      <td>False</td>\n",
       "      <td>False</td>\n",
       "    </tr>\n",
       "    <tr>\n",
       "      <th>1</th>\n",
       "      <td>False</td>\n",
       "      <td>True</td>\n",
       "      <td>False</td>\n",
       "    </tr>\n",
       "    <tr>\n",
       "      <th>2</th>\n",
       "      <td>False</td>\n",
       "      <td>False</td>\n",
       "      <td>True</td>\n",
       "    </tr>\n",
       "    <tr>\n",
       "      <th>3</th>\n",
       "      <td>False</td>\n",
       "      <td>False</td>\n",
       "      <td>False</td>\n",
       "    </tr>\n",
       "  </tbody>\n",
       "</table>\n",
       "</div>"
      ],
      "text/plain": [
       "   idProducto  cantidadVendida  Precio\n",
       "0       False            False   False\n",
       "1       False             True   False\n",
       "2       False            False    True\n",
       "3       False            False   False"
      ]
     },
     "execution_count": 28,
     "metadata": {},
     "output_type": "execute_result"
    }
   ],
   "source": [
    "df.isnull()"
   ]
  },
  {
   "cell_type": "code",
   "execution_count": 29,
   "id": "552119ed-eb51-4d3d-b07d-0dca7f82268f",
   "metadata": {},
   "outputs": [
    {
     "data": {
      "text/plain": [
       "idProducto         0\n",
       "cantidadVendida    1\n",
       "Precio             1\n",
       "dtype: int64"
      ]
     },
     "execution_count": 29,
     "metadata": {},
     "output_type": "execute_result"
    }
   ],
   "source": [
    "df.isnull().sum()"
   ]
  },
  {
   "cell_type": "code",
   "execution_count": 30,
   "id": "923a08bf-4439-47ea-ac57-4218ed9353c3",
   "metadata": {},
   "outputs": [
    {
     "data": {
      "text/html": [
       "<div>\n",
       "<style scoped>\n",
       "    .dataframe tbody tr th:only-of-type {\n",
       "        vertical-align: middle;\n",
       "    }\n",
       "\n",
       "    .dataframe tbody tr th {\n",
       "        vertical-align: top;\n",
       "    }\n",
       "\n",
       "    .dataframe thead th {\n",
       "        text-align: right;\n",
       "    }\n",
       "</style>\n",
       "<table border=\"1\" class=\"dataframe\">\n",
       "  <thead>\n",
       "    <tr style=\"text-align: right;\">\n",
       "      <th></th>\n",
       "      <th>idProducto</th>\n",
       "      <th>cantidadVendida</th>\n",
       "      <th>Precio</th>\n",
       "    </tr>\n",
       "  </thead>\n",
       "  <tbody>\n",
       "    <tr>\n",
       "      <th>0</th>\n",
       "      <td>1001</td>\n",
       "      <td>30.0</td>\n",
       "      <td>20.5</td>\n",
       "    </tr>\n",
       "    <tr>\n",
       "      <th>3</th>\n",
       "      <td>1003</td>\n",
       "      <td>25.0</td>\n",
       "      <td>22.5</td>\n",
       "    </tr>\n",
       "  </tbody>\n",
       "</table>\n",
       "</div>"
      ],
      "text/plain": [
       "   idProducto  cantidadVendida  Precio\n",
       "0        1001             30.0    20.5\n",
       "3        1003             25.0    22.5"
      ]
     },
     "execution_count": 30,
     "metadata": {},
     "output_type": "execute_result"
    }
   ],
   "source": [
    "df_eliminados = df.dropna()\n",
    "df_eliminados"
   ]
  },
  {
   "cell_type": "code",
   "execution_count": 31,
   "id": "1d0cd540-dad6-4aaf-974f-aabd088773c9",
   "metadata": {},
   "outputs": [
    {
     "data": {
      "text/html": [
       "<div>\n",
       "<style scoped>\n",
       "    .dataframe tbody tr th:only-of-type {\n",
       "        vertical-align: middle;\n",
       "    }\n",
       "\n",
       "    .dataframe tbody tr th {\n",
       "        vertical-align: top;\n",
       "    }\n",
       "\n",
       "    .dataframe thead th {\n",
       "        text-align: right;\n",
       "    }\n",
       "</style>\n",
       "<table border=\"1\" class=\"dataframe\">\n",
       "  <thead>\n",
       "    <tr style=\"text-align: right;\">\n",
       "      <th></th>\n",
       "      <th>idProducto</th>\n",
       "      <th>cantidadVendida</th>\n",
       "      <th>Precio</th>\n",
       "    </tr>\n",
       "  </thead>\n",
       "  <tbody>\n",
       "    <tr>\n",
       "      <th>0</th>\n",
       "      <td>1001</td>\n",
       "      <td>30.0</td>\n",
       "      <td>20.500000</td>\n",
       "    </tr>\n",
       "    <tr>\n",
       "      <th>1</th>\n",
       "      <td>1002</td>\n",
       "      <td>0.0</td>\n",
       "      <td>15.000000</td>\n",
       "    </tr>\n",
       "    <tr>\n",
       "      <th>2</th>\n",
       "      <td>1003</td>\n",
       "      <td>25.0</td>\n",
       "      <td>19.333333</td>\n",
       "    </tr>\n",
       "    <tr>\n",
       "      <th>3</th>\n",
       "      <td>1003</td>\n",
       "      <td>25.0</td>\n",
       "      <td>22.500000</td>\n",
       "    </tr>\n",
       "  </tbody>\n",
       "</table>\n",
       "</div>"
      ],
      "text/plain": [
       "   idProducto  cantidadVendida     Precio\n",
       "0        1001             30.0  20.500000\n",
       "1        1002              0.0  15.000000\n",
       "2        1003             25.0  19.333333\n",
       "3        1003             25.0  22.500000"
      ]
     },
     "execution_count": 31,
     "metadata": {},
     "output_type": "execute_result"
    }
   ],
   "source": [
    "valoresNuevos = {\"cantidadVendida\": 0, \"Precio\":df[\"Precio\"].mean()}\n",
    "df_rellenados = df.fillna(valoresNuevos)\n",
    "df_rellenados"
   ]
  },
  {
   "cell_type": "code",
   "execution_count": 32,
   "id": "7a1b1d41-b42f-460b-af56-a93afc1a8932",
   "metadata": {},
   "outputs": [
    {
     "data": {
      "text/html": [
       "<div>\n",
       "<style scoped>\n",
       "    .dataframe tbody tr th:only-of-type {\n",
       "        vertical-align: middle;\n",
       "    }\n",
       "\n",
       "    .dataframe tbody tr th {\n",
       "        vertical-align: top;\n",
       "    }\n",
       "\n",
       "    .dataframe thead th {\n",
       "        text-align: right;\n",
       "    }\n",
       "</style>\n",
       "<table border=\"1\" class=\"dataframe\">\n",
       "  <thead>\n",
       "    <tr style=\"text-align: right;\">\n",
       "      <th></th>\n",
       "      <th>idProducto</th>\n",
       "      <th>cantidadVendida</th>\n",
       "      <th>Precio</th>\n",
       "    </tr>\n",
       "  </thead>\n",
       "  <tbody>\n",
       "    <tr>\n",
       "      <th>0</th>\n",
       "      <td>1001</td>\n",
       "      <td>30</td>\n",
       "      <td>20.500000</td>\n",
       "    </tr>\n",
       "    <tr>\n",
       "      <th>1</th>\n",
       "      <td>1002</td>\n",
       "      <td>0</td>\n",
       "      <td>15.000000</td>\n",
       "    </tr>\n",
       "    <tr>\n",
       "      <th>2</th>\n",
       "      <td>1003</td>\n",
       "      <td>25</td>\n",
       "      <td>19.333333</td>\n",
       "    </tr>\n",
       "    <tr>\n",
       "      <th>3</th>\n",
       "      <td>1003</td>\n",
       "      <td>25</td>\n",
       "      <td>22.500000</td>\n",
       "    </tr>\n",
       "  </tbody>\n",
       "</table>\n",
       "</div>"
      ],
      "text/plain": [
       "   idProducto  cantidadVendida     Precio\n",
       "0        1001               30  20.500000\n",
       "1        1002                0  15.000000\n",
       "2        1003               25  19.333333\n",
       "3        1003               25  22.500000"
      ]
     },
     "execution_count": 32,
     "metadata": {},
     "output_type": "execute_result"
    }
   ],
   "source": [
    "df_rellenados[\"cantidadVendida\"] = df_rellenados[\"cantidadVendida\"].astype(int)\n",
    "df_rellenados"
   ]
  },
  {
   "cell_type": "code",
   "execution_count": 34,
   "id": "aa6ff826-c1cd-46d1-9760-af42e1df47a2",
   "metadata": {},
   "outputs": [
    {
     "data": {
      "text/html": [
       "<div>\n",
       "<style scoped>\n",
       "    .dataframe tbody tr th:only-of-type {\n",
       "        vertical-align: middle;\n",
       "    }\n",
       "\n",
       "    .dataframe tbody tr th {\n",
       "        vertical-align: top;\n",
       "    }\n",
       "\n",
       "    .dataframe thead th {\n",
       "        text-align: right;\n",
       "    }\n",
       "</style>\n",
       "<table border=\"1\" class=\"dataframe\">\n",
       "  <thead>\n",
       "    <tr style=\"text-align: right;\">\n",
       "      <th></th>\n",
       "      <th>idProducto</th>\n",
       "      <th>cantidadVendida</th>\n",
       "      <th>Precio</th>\n",
       "    </tr>\n",
       "  </thead>\n",
       "  <tbody>\n",
       "    <tr>\n",
       "      <th>0</th>\n",
       "      <td>1001</td>\n",
       "      <td>30</td>\n",
       "      <td>20.500000</td>\n",
       "    </tr>\n",
       "    <tr>\n",
       "      <th>1</th>\n",
       "      <td>1002</td>\n",
       "      <td>0</td>\n",
       "      <td>15.000000</td>\n",
       "    </tr>\n",
       "    <tr>\n",
       "      <th>2</th>\n",
       "      <td>1003</td>\n",
       "      <td>25</td>\n",
       "      <td>19.333333</td>\n",
       "    </tr>\n",
       "  </tbody>\n",
       "</table>\n",
       "</div>"
      ],
      "text/plain": [
       "   idProducto  cantidadVendida     Precio\n",
       "0        1001               30  20.500000\n",
       "1        1002                0  15.000000\n",
       "2        1003               25  19.333333"
      ]
     },
     "execution_count": 34,
     "metadata": {},
     "output_type": "execute_result"
    }
   ],
   "source": [
    "df_unicos = df_rellenados.drop_duplicates(subset=\"idProducto\")\n",
    "df_unicos"
   ]
  },
  {
   "cell_type": "markdown",
   "id": "bd142ddc-5152-4b9d-b16d-cdc425644f85",
   "metadata": {},
   "source": [
    "**VIDEO 5**"
   ]
  },
  {
   "cell_type": "code",
   "execution_count": 35,
   "id": "6e497f32-9495-47f1-8afc-d70429f72c56",
   "metadata": {},
   "outputs": [
    {
     "data": {
      "text/plain": [
       "0     5\n",
       "1    10\n",
       "2    15\n",
       "3    20\n",
       "4    25\n",
       "dtype: int64"
      ]
     },
     "execution_count": 35,
     "metadata": {},
     "output_type": "execute_result"
    }
   ],
   "source": [
    "import pandas as pd\n",
    "\n",
    "serie = pd.Series([5,10,15,20,25])\n",
    "serie"
   ]
  },
  {
   "cell_type": "code",
   "execution_count": 36,
   "id": "a420d989-2a19-44ca-a1d2-545089538315",
   "metadata": {},
   "outputs": [
    {
     "data": {
      "text/plain": [
       "3    20\n",
       "4    25\n",
       "dtype: int64"
      ]
     },
     "execution_count": 36,
     "metadata": {},
     "output_type": "execute_result"
    }
   ],
   "source": [
    "filtro = serie > 15\n",
    "serie_filtrada = serie[filtro]\n",
    "serie_filtrada"
   ]
  },
  {
   "cell_type": "code",
   "execution_count": 37,
   "id": "77e36fa4-4d41-4043-af0e-8d18e811ddca",
   "metadata": {},
   "outputs": [
    {
     "data": {
      "text/plain": [
       "0    False\n",
       "1    False\n",
       "2    False\n",
       "3     True\n",
       "4     True\n",
       "dtype: bool"
      ]
     },
     "execution_count": 37,
     "metadata": {},
     "output_type": "execute_result"
    }
   ],
   "source": [
    "filtro"
   ]
  },
  {
   "cell_type": "code",
   "execution_count": 38,
   "id": "516b4301-815f-455a-a994-6343551b8e50",
   "metadata": {},
   "outputs": [
    {
     "data": {
      "text/plain": [
       "0     banana\n",
       "1       pera\n",
       "2      melon\n",
       "3    manzana\n",
       "dtype: object"
      ]
     },
     "execution_count": 38,
     "metadata": {},
     "output_type": "execute_result"
    }
   ],
   "source": [
    "serie2 = pd.Series([\"banana\", \"pera\", \"melon\", \"manzana\"])\n",
    "serie2"
   ]
  },
  {
   "cell_type": "code",
   "execution_count": 39,
   "id": "942aa2e2-1df9-4001-b56e-dc7014508e7a",
   "metadata": {},
   "outputs": [
    {
     "data": {
      "text/plain": [
       "pandas.core.series.Series"
      ]
     },
     "execution_count": 39,
     "metadata": {},
     "output_type": "execute_result"
    }
   ],
   "source": [
    "type(serie2)"
   ]
  },
  {
   "cell_type": "code",
   "execution_count": 40,
   "id": "546ead9c-d42b-456f-a6d2-a42c30525720",
   "metadata": {},
   "outputs": [
    {
     "data": {
      "text/plain": [
       "str"
      ]
     },
     "execution_count": 40,
     "metadata": {},
     "output_type": "execute_result"
    }
   ],
   "source": [
    "type(serie2[0])"
   ]
  },
  {
   "cell_type": "code",
   "execution_count": 41,
   "id": "8ead3bca-ef6c-4be7-a1e2-d3819e2671b2",
   "metadata": {},
   "outputs": [
    {
     "name": "stdout",
     "output_type": "stream",
     "text": [
      "['T', '_AXIS_LEN', '_AXIS_ORDERS', '_AXIS_TO_AXIS_NUMBER', '_HANDLED_TYPES', '__abs__', '__add__', '__and__', '__annotations__', '__array__', '__array_priority__', '__array_ufunc__', '__bool__', '__class__', '__column_consortium_standard__', '__contains__', '__copy__', '__deepcopy__', '__delattr__', '__delitem__', '__dict__', '__dir__', '__divmod__', '__doc__', '__eq__', '__finalize__', '__firstlineno__', '__float__', '__floordiv__', '__format__', '__ge__', '__getattr__', '__getattribute__', '__getitem__', '__getstate__', '__gt__', '__hash__', '__iadd__', '__iand__', '__ifloordiv__', '__imod__', '__imul__', '__init__', '__init_subclass__', '__int__', '__invert__', '__ior__', '__ipow__', '__isub__', '__iter__', '__itruediv__', '__ixor__', '__le__', '__len__', '__lt__', '__matmul__', '__mod__', '__module__', '__mul__', '__ne__', '__neg__', '__new__', '__nonzero__', '__or__', '__pandas_priority__', '__pos__', '__pow__', '__radd__', '__rand__', '__rdivmod__', '__reduce__', '__reduce_ex__', '__repr__', '__rfloordiv__', '__rmatmul__', '__rmod__', '__rmul__', '__ror__', '__round__', '__rpow__', '__rsub__', '__rtruediv__', '__rxor__', '__setattr__', '__setitem__', '__setstate__', '__sizeof__', '__static_attributes__', '__str__', '__sub__', '__subclasshook__', '__truediv__', '__weakref__', '__xor__', '_accessors', '_accum_func', '_agg_examples_doc', '_agg_see_also_doc', '_align_for_op', '_align_frame', '_align_series', '_append', '_arith_method', '_as_manager', '_attrs', '_binop', '_can_hold_na', '_check_inplace_and_allows_duplicate_labels', '_check_is_chained_assignment_possible', '_check_label_or_level_ambiguity', '_check_setitem_copy', '_clear_item_cache', '_clip_with_one_bound', '_clip_with_scalar', '_cmp_method', '_consolidate', '_consolidate_inplace', '_construct_axes_dict', '_construct_result', '_constructor', '_constructor_expanddim', '_constructor_expanddim_from_mgr', '_constructor_from_mgr', '_data', '_deprecate_downcast', '_dir_additions', '_dir_deletions', '_drop_axis', '_drop_labels_or_levels', '_duplicated', '_find_valid_index', '_flags', '_flex_method', '_from_mgr', '_get_axis', '_get_axis_name', '_get_axis_number', '_get_axis_resolvers', '_get_block_manager_axis', '_get_bool_data', '_get_cacher', '_get_cleaned_column_resolvers', '_get_index_resolvers', '_get_label_or_level_values', '_get_numeric_data', '_get_rows_with_mask', '_get_value', '_get_values_tuple', '_get_with', '_getitem_slice', '_gotitem', '_hidden_attrs', '_indexed_same', '_info_axis', '_info_axis_name', '_info_axis_number', '_init_dict', '_init_mgr', '_inplace_method', '_internal_names', '_internal_names_set', '_is_cached', '_is_copy', '_is_label_or_level_reference', '_is_label_reference', '_is_level_reference', '_is_mixed_type', '_is_view', '_is_view_after_cow_rules', '_item_cache', '_ixs', '_logical_func', '_logical_method', '_map_values', '_maybe_update_cacher', '_memory_usage', '_metadata', '_mgr', '_min_count_stat_function', '_name', '_needs_reindex_multi', '_pad_or_backfill', '_protect_consolidate', '_reduce', '_references', '_reindex_axes', '_reindex_indexer', '_reindex_multi', '_reindex_with_indexers', '_rename', '_replace_single', '_repr_data_resource_', '_repr_latex_', '_reset_cache', '_reset_cacher', '_set_as_cached', '_set_axis', '_set_axis_name', '_set_axis_nocheck', '_set_is_copy', '_set_labels', '_set_name', '_set_value', '_set_values', '_set_with', '_set_with_engine', '_shift_with_freq', '_slice', '_stat_function', '_stat_function_ddof', '_take_with_is_copy', '_to_latex_via_styler', '_typ', '_update_inplace', '_validate_dtype', '_values', '_where', 'abs', 'add', 'add_prefix', 'add_suffix', 'agg', 'aggregate', 'align', 'all', 'any', 'apply', 'argmax', 'argmin', 'argsort', 'array', 'asfreq', 'asof', 'astype', 'at', 'at_time', 'attrs', 'autocorr', 'axes', 'backfill', 'between', 'between_time', 'bfill', 'bool', 'case_when', 'clip', 'combine', 'combine_first', 'compare', 'convert_dtypes', 'copy', 'corr', 'count', 'cov', 'cummax', 'cummin', 'cumprod', 'cumsum', 'describe', 'diff', 'div', 'divide', 'divmod', 'dot', 'drop', 'drop_duplicates', 'droplevel', 'dropna', 'dtype', 'dtypes', 'duplicated', 'empty', 'eq', 'equals', 'ewm', 'expanding', 'explode', 'factorize', 'ffill', 'fillna', 'filter', 'first', 'first_valid_index', 'flags', 'floordiv', 'ge', 'get', 'groupby', 'gt', 'hasnans', 'head', 'hist', 'iat', 'idxmax', 'idxmin', 'iloc', 'index', 'infer_objects', 'info', 'interpolate', 'is_monotonic_decreasing', 'is_monotonic_increasing', 'is_unique', 'isin', 'isna', 'isnull', 'item', 'items', 'keys', 'kurt', 'kurtosis', 'last', 'last_valid_index', 'le', 'list', 'loc', 'lt', 'map', 'mask', 'max', 'mean', 'median', 'memory_usage', 'min', 'mod', 'mode', 'mul', 'multiply', 'name', 'nbytes', 'ndim', 'ne', 'nlargest', 'notna', 'notnull', 'nsmallest', 'nunique', 'pad', 'pct_change', 'pipe', 'plot', 'pop', 'pow', 'prod', 'product', 'quantile', 'radd', 'rank', 'ravel', 'rdiv', 'rdivmod', 'reindex', 'reindex_like', 'rename', 'rename_axis', 'reorder_levels', 'repeat', 'replace', 'resample', 'reset_index', 'rfloordiv', 'rmod', 'rmul', 'rolling', 'round', 'rpow', 'rsub', 'rtruediv', 'sample', 'searchsorted', 'sem', 'set_axis', 'set_flags', 'shape', 'shift', 'size', 'skew', 'sort_index', 'sort_values', 'squeeze', 'std', 'str', 'struct', 'sub', 'subtract', 'sum', 'swapaxes', 'swaplevel', 'tail', 'take', 'to_clipboard', 'to_csv', 'to_dict', 'to_excel', 'to_frame', 'to_hdf', 'to_json', 'to_latex', 'to_list', 'to_markdown', 'to_numpy', 'to_period', 'to_pickle', 'to_sql', 'to_string', 'to_timestamp', 'to_xarray', 'transform', 'transpose', 'truediv', 'truncate', 'tz_convert', 'tz_localize', 'unique', 'unstack', 'update', 'value_counts', 'values', 'var', 'view', 'where', 'xs']\n"
     ]
    }
   ],
   "source": [
    "print(dir(serie2))"
   ]
  },
  {
   "cell_type": "code",
   "execution_count": 43,
   "id": "6225786d-6d79-426f-bb77-23772f68a4b2",
   "metadata": {},
   "outputs": [
    {
     "name": "stdout",
     "output_type": "stream",
     "text": [
      "Help on method std in module pandas.core.series:\n",
      "\n",
      "std(\n",
      "    axis: 'Axis | None' = None,\n",
      "    skipna: 'bool' = True,\n",
      "    ddof: 'int' = 1,\n",
      "    numeric_only: 'bool' = False,\n",
      "    **kwargs\n",
      ") method of pandas.core.series.Series instance\n",
      "    Return sample standard deviation over requested axis.\n",
      "\n",
      "    Normalized by N-1 by default. This can be changed using the ddof argument.\n",
      "\n",
      "    Parameters\n",
      "    ----------\n",
      "    axis : {index (0)}\n",
      "        For `Series` this parameter is unused and defaults to 0.\n",
      "\n",
      "        .. warning::\n",
      "\n",
      "            The behavior of DataFrame.std with ``axis=None`` is deprecated,\n",
      "            in a future version this will reduce over both axes and return a scalar\n",
      "            To retain the old behavior, pass axis=0 (or do not pass axis).\n",
      "\n",
      "    skipna : bool, default True\n",
      "        Exclude NA/null values. If an entire row/column is NA, the result\n",
      "        will be NA.\n",
      "    ddof : int, default 1\n",
      "        Delta Degrees of Freedom. The divisor used in calculations is N - ddof,\n",
      "        where N represents the number of elements.\n",
      "    numeric_only : bool, default False\n",
      "        Include only float, int, boolean columns. Not implemented for Series.\n",
      "\n",
      "    Returns\n",
      "    -------\n",
      "    scalar or Series (if level specified)\n",
      "\n",
      "    Notes\n",
      "    -----\n",
      "    To have the same behaviour as `numpy.std`, use `ddof=0` (instead of the\n",
      "    default `ddof=1`)\n",
      "\n",
      "    Examples\n",
      "    --------\n",
      "    >>> df = pd.DataFrame({'person_id': [0, 1, 2, 3],\n",
      "    ...                    'age': [21, 25, 62, 43],\n",
      "    ...                    'height': [1.61, 1.87, 1.49, 2.01]}\n",
      "    ...                   ).set_index('person_id')\n",
      "    >>> df\n",
      "               age  height\n",
      "    person_id\n",
      "    0           21    1.61\n",
      "    1           25    1.87\n",
      "    2           62    1.49\n",
      "    3           43    2.01\n",
      "\n",
      "    The standard deviation of the columns can be found as follows:\n",
      "\n",
      "    >>> df.std()\n",
      "    age       18.786076\n",
      "    height     0.237417\n",
      "    dtype: float64\n",
      "\n",
      "    Alternatively, `ddof=0` can be set to normalize by N instead of N-1:\n",
      "\n",
      "    >>> df.std(ddof=0)\n",
      "    age       16.269219\n",
      "    height     0.205609\n",
      "    dtype: float64\n",
      "\n"
     ]
    }
   ],
   "source": [
    "help(serie2.std)"
   ]
  },
  {
   "cell_type": "code",
   "execution_count": 44,
   "id": "1a1d6877-fb8f-4521-89a5-5ce8999e8358",
   "metadata": {},
   "outputs": [
    {
     "data": {
      "text/plain": [
       "0    False\n",
       "1    False\n",
       "2     True\n",
       "3     True\n",
       "dtype: bool"
      ]
     },
     "execution_count": 44,
     "metadata": {},
     "output_type": "execute_result"
    }
   ],
   "source": [
    "filtro2 = serie2.str.contains(\"m\")\n",
    "filtro2"
   ]
  },
  {
   "cell_type": "code",
   "execution_count": 45,
   "id": "01ed54e9-c98d-413d-9bf2-7ebfc0942d6c",
   "metadata": {},
   "outputs": [
    {
     "data": {
      "text/plain": [
       "2      melon\n",
       "3    manzana\n",
       "dtype: object"
      ]
     },
     "execution_count": 45,
     "metadata": {},
     "output_type": "execute_result"
    }
   ],
   "source": [
    "serie2[filtro2]"
   ]
  },
  {
   "cell_type": "markdown",
   "id": "3bf20d73-d772-441e-92cc-206cebb0192d",
   "metadata": {},
   "source": [
    "**VIDEO 6**"
   ]
  },
  {
   "cell_type": "code",
   "execution_count": 46,
   "id": "665c547d-1c81-48da-8afc-b7cde8594f07",
   "metadata": {},
   "outputs": [
    {
     "data": {
      "text/plain": [
       "0    10\n",
       "1    20\n",
       "2    30\n",
       "3    40\n",
       "4    50\n",
       "dtype: int64"
      ]
     },
     "execution_count": 46,
     "metadata": {},
     "output_type": "execute_result"
    }
   ],
   "source": [
    "import pandas as pd\n",
    "\n",
    "numeros = pd.Series([10, 20, 30, 40, 50])\n",
    "numeros"
   ]
  },
  {
   "cell_type": "code",
   "execution_count": 47,
   "id": "2e50dc70-c750-46cc-b58c-d7c0cd9fd498",
   "metadata": {},
   "outputs": [
    {
     "name": "stdout",
     "output_type": "stream",
     "text": [
      "El promedio es 30.0\n"
     ]
    }
   ],
   "source": [
    "promedio = numeros.mean()\n",
    "print(f\"El promedio es {promedio}\")"
   ]
  },
  {
   "cell_type": "code",
   "execution_count": 48,
   "id": "092b32f7-a448-4a51-baf7-4533a1bbfafc",
   "metadata": {},
   "outputs": [
    {
     "data": {
      "text/plain": [
       "np.int64(150)"
      ]
     },
     "execution_count": 48,
     "metadata": {},
     "output_type": "execute_result"
    }
   ],
   "source": [
    "total = numeros.sum()\n",
    "total"
   ]
  },
  {
   "cell_type": "code",
   "execution_count": 49,
   "id": "96b702c3-fd25-4df6-90b0-04fd7df57a16",
   "metadata": {},
   "outputs": [
    {
     "data": {
      "text/plain": [
       "np.int64(50)"
      ]
     },
     "execution_count": 49,
     "metadata": {},
     "output_type": "execute_result"
    }
   ],
   "source": [
    "maximo = numeros.max()\n",
    "maximo"
   ]
  },
  {
   "cell_type": "code",
   "execution_count": 50,
   "id": "ef4875f4-2d40-4970-acc7-bae62884c6bd",
   "metadata": {},
   "outputs": [
    {
     "data": {
      "text/plain": [
       "np.int64(10)"
      ]
     },
     "execution_count": 50,
     "metadata": {},
     "output_type": "execute_result"
    }
   ],
   "source": [
    "minimo = numeros.min()\n",
    "minimo"
   ]
  },
  {
   "cell_type": "markdown",
   "id": "342fda6b-99d3-4b15-aa65-cdd45e47bf83",
   "metadata": {},
   "source": [
    "**VIDEO 7**"
   ]
  },
  {
   "cell_type": "code",
   "execution_count": null,
   "id": "b11cb41b-8f28-47ad-a309-51614c0732f5",
   "metadata": {},
   "outputs": [],
   "source": []
  }
 ],
 "metadata": {
  "kernelspec": {
   "display_name": "Python 3 (ipykernel)",
   "language": "python",
   "name": "python3"
  },
  "language_info": {
   "codemirror_mode": {
    "name": "ipython",
    "version": 3
   },
   "file_extension": ".py",
   "mimetype": "text/x-python",
   "name": "python",
   "nbconvert_exporter": "python",
   "pygments_lexer": "ipython3",
   "version": "3.13.2"
  }
 },
 "nbformat": 4,
 "nbformat_minor": 5
}
