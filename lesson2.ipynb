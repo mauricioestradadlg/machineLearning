{
 "cells": [
  {
   "cell_type": "markdown",
   "id": "dfda1b7e-66fb-4fc6-820d-6ac94485e7a3",
   "metadata": {},
   "source": [
    "**VIDEO 1**"
   ]
  },
  {
   "cell_type": "code",
   "execution_count": 2,
   "id": "cbaf6118-c0fd-45c1-950e-243de70f037e",
   "metadata": {},
   "outputs": [],
   "source": [
    "import pandas as pd"
   ]
  },
  {
   "cell_type": "code",
   "execution_count": 3,
   "id": "5d6c0d53-c189-4ab1-98bc-90783254490c",
   "metadata": {},
   "outputs": [
    {
     "data": {
      "text/html": [
       "<div>\n",
       "<style scoped>\n",
       "    .dataframe tbody tr th:only-of-type {\n",
       "        vertical-align: middle;\n",
       "    }\n",
       "\n",
       "    .dataframe tbody tr th {\n",
       "        vertical-align: top;\n",
       "    }\n",
       "\n",
       "    .dataframe thead th {\n",
       "        text-align: right;\n",
       "    }\n",
       "</style>\n",
       "<table border=\"1\" class=\"dataframe\">\n",
       "  <thead>\n",
       "    <tr style=\"text-align: right;\">\n",
       "      <th></th>\n",
       "      <th>Nombre</th>\n",
       "      <th>Edad</th>\n",
       "      <th>Ciudad</th>\n",
       "    </tr>\n",
       "  </thead>\n",
       "  <tbody>\n",
       "    <tr>\n",
       "      <th>0</th>\n",
       "      <td>Ana</td>\n",
       "      <td>25</td>\n",
       "      <td>Madrid</td>\n",
       "    </tr>\n",
       "    <tr>\n",
       "      <th>1</th>\n",
       "      <td>Luis</td>\n",
       "      <td>30</td>\n",
       "      <td>Barcelona</td>\n",
       "    </tr>\n",
       "    <tr>\n",
       "      <th>2</th>\n",
       "      <td>Carlos</td>\n",
       "      <td>22</td>\n",
       "      <td>Valencia</td>\n",
       "    </tr>\n",
       "    <tr>\n",
       "      <th>3</th>\n",
       "      <td>Sara</td>\n",
       "      <td>27</td>\n",
       "      <td>Bilbao</td>\n",
       "    </tr>\n",
       "  </tbody>\n",
       "</table>\n",
       "</div>"
      ],
      "text/plain": [
       "   Nombre  Edad     Ciudad\n",
       "0     Ana    25     Madrid\n",
       "1    Luis    30  Barcelona\n",
       "2  Carlos    22   Valencia\n",
       "3    Sara    27     Bilbao"
      ]
     },
     "execution_count": 3,
     "metadata": {},
     "output_type": "execute_result"
    }
   ],
   "source": [
    "data = {'Nombre': ['Ana', 'Luis', 'Carlos', 'Sara'],\n",
    "        'Edad': [25,30,22,27],\n",
    "        'Ciudad': ['Madrid', 'Barcelona', 'Valencia', 'Bilbao']}\n",
    "\n",
    "df = pd.DataFrame(data)\n",
    "df"
   ]
  },
  {
   "cell_type": "code",
   "execution_count": 4,
   "id": "21bf7948-4e1f-48f2-9076-c241a8535105",
   "metadata": {},
   "outputs": [
    {
     "data": {
      "text/html": [
       "<div>\n",
       "<style scoped>\n",
       "    .dataframe tbody tr th:only-of-type {\n",
       "        vertical-align: middle;\n",
       "    }\n",
       "\n",
       "    .dataframe tbody tr th {\n",
       "        vertical-align: top;\n",
       "    }\n",
       "\n",
       "    .dataframe thead th {\n",
       "        text-align: right;\n",
       "    }\n",
       "</style>\n",
       "<table border=\"1\" class=\"dataframe\">\n",
       "  <thead>\n",
       "    <tr style=\"text-align: right;\">\n",
       "      <th></th>\n",
       "      <th>Nombre</th>\n",
       "      <th>Edad</th>\n",
       "      <th>Ciudad</th>\n",
       "      <th>Salario</th>\n",
       "    </tr>\n",
       "  </thead>\n",
       "  <tbody>\n",
       "    <tr>\n",
       "      <th>0</th>\n",
       "      <td>Ana</td>\n",
       "      <td>25</td>\n",
       "      <td>Madrid</td>\n",
       "      <td>30000</td>\n",
       "    </tr>\n",
       "    <tr>\n",
       "      <th>1</th>\n",
       "      <td>Luis</td>\n",
       "      <td>30</td>\n",
       "      <td>Barcelona</td>\n",
       "      <td>45000</td>\n",
       "    </tr>\n",
       "    <tr>\n",
       "      <th>2</th>\n",
       "      <td>Carlos</td>\n",
       "      <td>22</td>\n",
       "      <td>Valencia</td>\n",
       "      <td>38000</td>\n",
       "    </tr>\n",
       "    <tr>\n",
       "      <th>3</th>\n",
       "      <td>Sara</td>\n",
       "      <td>27</td>\n",
       "      <td>Bilbao</td>\n",
       "      <td>32000</td>\n",
       "    </tr>\n",
       "  </tbody>\n",
       "</table>\n",
       "</div>"
      ],
      "text/plain": [
       "   Nombre  Edad     Ciudad  Salario\n",
       "0     Ana    25     Madrid    30000\n",
       "1    Luis    30  Barcelona    45000\n",
       "2  Carlos    22   Valencia    38000\n",
       "3    Sara    27     Bilbao    32000"
      ]
     },
     "execution_count": 4,
     "metadata": {},
     "output_type": "execute_result"
    }
   ],
   "source": [
    "df['Salario'] = [30000,45000,38000,32000]\n",
    "df"
   ]
  },
  {
   "cell_type": "code",
   "execution_count": 5,
   "id": "cc425d53-95e1-45d1-b59b-ab30b37dad77",
   "metadata": {},
   "outputs": [
    {
     "data": {
      "text/html": [
       "<div>\n",
       "<style scoped>\n",
       "    .dataframe tbody tr th:only-of-type {\n",
       "        vertical-align: middle;\n",
       "    }\n",
       "\n",
       "    .dataframe tbody tr th {\n",
       "        vertical-align: top;\n",
       "    }\n",
       "\n",
       "    .dataframe thead th {\n",
       "        text-align: right;\n",
       "    }\n",
       "</style>\n",
       "<table border=\"1\" class=\"dataframe\">\n",
       "  <thead>\n",
       "    <tr style=\"text-align: right;\">\n",
       "      <th></th>\n",
       "      <th>Nombre</th>\n",
       "      <th>Edad</th>\n",
       "      <th>Ciudad</th>\n",
       "      <th>Salario</th>\n",
       "    </tr>\n",
       "  </thead>\n",
       "  <tbody>\n",
       "    <tr>\n",
       "      <th>0</th>\n",
       "      <td>Ana</td>\n",
       "      <td>25</td>\n",
       "      <td>Madrid</td>\n",
       "      <td>33000</td>\n",
       "    </tr>\n",
       "    <tr>\n",
       "      <th>1</th>\n",
       "      <td>Luis</td>\n",
       "      <td>30</td>\n",
       "      <td>Barcelona</td>\n",
       "      <td>48000</td>\n",
       "    </tr>\n",
       "    <tr>\n",
       "      <th>2</th>\n",
       "      <td>Carlos</td>\n",
       "      <td>22</td>\n",
       "      <td>Valencia</td>\n",
       "      <td>41000</td>\n",
       "    </tr>\n",
       "    <tr>\n",
       "      <th>3</th>\n",
       "      <td>Sara</td>\n",
       "      <td>27</td>\n",
       "      <td>Bilbao</td>\n",
       "      <td>35000</td>\n",
       "    </tr>\n",
       "  </tbody>\n",
       "</table>\n",
       "</div>"
      ],
      "text/plain": [
       "   Nombre  Edad     Ciudad  Salario\n",
       "0     Ana    25     Madrid    33000\n",
       "1    Luis    30  Barcelona    48000\n",
       "2  Carlos    22   Valencia    41000\n",
       "3    Sara    27     Bilbao    35000"
      ]
     },
     "execution_count": 5,
     "metadata": {},
     "output_type": "execute_result"
    }
   ],
   "source": [
    "df['Salario'] = df['Salario'] + 3000\n",
    "df"
   ]
  },
  {
   "cell_type": "code",
   "execution_count": 6,
   "id": "940429ef-f71f-4e31-813b-0d42cd7a1cfc",
   "metadata": {},
   "outputs": [
    {
     "data": {
      "text/plain": [
       "0       Ana\n",
       "1      Luis\n",
       "2    Carlos\n",
       "3      Sara\n",
       "Name: Nombre, dtype: object"
      ]
     },
     "execution_count": 6,
     "metadata": {},
     "output_type": "execute_result"
    }
   ],
   "source": [
    "nombres = df['Nombre']\n",
    "nombres"
   ]
  },
  {
   "cell_type": "code",
   "execution_count": 7,
   "id": "84a6cb95-dc01-44f9-98b7-ca89be69357d",
   "metadata": {},
   "outputs": [
    {
     "data": {
      "text/html": [
       "<div>\n",
       "<style scoped>\n",
       "    .dataframe tbody tr th:only-of-type {\n",
       "        vertical-align: middle;\n",
       "    }\n",
       "\n",
       "    .dataframe tbody tr th {\n",
       "        vertical-align: top;\n",
       "    }\n",
       "\n",
       "    .dataframe thead th {\n",
       "        text-align: right;\n",
       "    }\n",
       "</style>\n",
       "<table border=\"1\" class=\"dataframe\">\n",
       "  <thead>\n",
       "    <tr style=\"text-align: right;\">\n",
       "      <th></th>\n",
       "      <th>Nombre</th>\n",
       "      <th>Edad</th>\n",
       "      <th>Ciudad</th>\n",
       "      <th>Salario</th>\n",
       "    </tr>\n",
       "  </thead>\n",
       "  <tbody>\n",
       "    <tr>\n",
       "      <th>1</th>\n",
       "      <td>Luis</td>\n",
       "      <td>30</td>\n",
       "      <td>Barcelona</td>\n",
       "      <td>48000</td>\n",
       "    </tr>\n",
       "    <tr>\n",
       "      <th>3</th>\n",
       "      <td>Sara</td>\n",
       "      <td>27</td>\n",
       "      <td>Bilbao</td>\n",
       "      <td>35000</td>\n",
       "    </tr>\n",
       "  </tbody>\n",
       "</table>\n",
       "</div>"
      ],
      "text/plain": [
       "  Nombre  Edad     Ciudad  Salario\n",
       "1   Luis    30  Barcelona    48000\n",
       "3   Sara    27     Bilbao    35000"
      ]
     },
     "execution_count": 7,
     "metadata": {},
     "output_type": "execute_result"
    }
   ],
   "source": [
    "rucos = df[df['Edad'] > 25]\n",
    "rucos"
   ]
  },
  {
   "cell_type": "code",
   "execution_count": 8,
   "id": "5c693a68-0eec-4afe-9bb3-913a4aa6d99d",
   "metadata": {},
   "outputs": [
    {
     "data": {
      "text/plain": [
       "pandas.core.frame.DataFrame"
      ]
     },
     "execution_count": 8,
     "metadata": {},
     "output_type": "execute_result"
    }
   ],
   "source": [
    "type(df)"
   ]
  },
  {
   "cell_type": "code",
   "execution_count": 9,
   "id": "6d67acc1-2f1a-4bbf-bb26-bf6228ddfdff",
   "metadata": {},
   "outputs": [
    {
     "data": {
      "text/plain": [
       "pandas.core.series.Series"
      ]
     },
     "execution_count": 9,
     "metadata": {},
     "output_type": "execute_result"
    }
   ],
   "source": [
    "type(df['Edad'])"
   ]
  },
  {
   "cell_type": "markdown",
   "id": "8e6c5625-07ed-4755-9416-babeecb78909",
   "metadata": {},
   "source": [
    "**VIDEO 2**"
   ]
  },
  {
   "cell_type": "code",
   "execution_count": 10,
   "id": "c67d53be-48db-4e7e-afb1-4dc87d16c88b",
   "metadata": {},
   "outputs": [
    {
     "data": {
      "text/html": [
       "<div>\n",
       "<style scoped>\n",
       "    .dataframe tbody tr th:only-of-type {\n",
       "        vertical-align: middle;\n",
       "    }\n",
       "\n",
       "    .dataframe tbody tr th {\n",
       "        vertical-align: top;\n",
       "    }\n",
       "\n",
       "    .dataframe thead th {\n",
       "        text-align: right;\n",
       "    }\n",
       "</style>\n",
       "<table border=\"1\" class=\"dataframe\">\n",
       "  <thead>\n",
       "    <tr style=\"text-align: right;\">\n",
       "      <th></th>\n",
       "      <th>indice_global</th>\n",
       "      <th>indice_estricto</th>\n",
       "      <th>título</th>\n",
       "      <th>director</th>\n",
       "      <th>año</th>\n",
       "      <th>duración</th>\n",
       "      <th>género</th>\n",
       "      <th>rating</th>\n",
       "      <th>metascore</th>\n",
       "      <th>recaudación(M)</th>\n",
       "    </tr>\n",
       "  </thead>\n",
       "  <tbody>\n",
       "    <tr>\n",
       "      <th>0</th>\n",
       "      <td>0</td>\n",
       "      <td>0.0</td>\n",
       "      <td>The Shawshank Redemption</td>\n",
       "      <td>Frank Darabont</td>\n",
       "      <td>1994.0</td>\n",
       "      <td>142.0</td>\n",
       "      <td>Drama</td>\n",
       "      <td>9.3</td>\n",
       "      <td>82.0</td>\n",
       "      <td>28.34</td>\n",
       "    </tr>\n",
       "    <tr>\n",
       "      <th>1</th>\n",
       "      <td>1</td>\n",
       "      <td>1.0</td>\n",
       "      <td>The Godfather</td>\n",
       "      <td>Francis Ford Coppola</td>\n",
       "      <td>1972.0</td>\n",
       "      <td>175.0</td>\n",
       "      <td>Crimen</td>\n",
       "      <td>9.2</td>\n",
       "      <td>100.0</td>\n",
       "      <td>134.97</td>\n",
       "    </tr>\n",
       "    <tr>\n",
       "      <th>2</th>\n",
       "      <td>2</td>\n",
       "      <td>1.0</td>\n",
       "      <td>The Godfather</td>\n",
       "      <td>Francis Ford Coppola</td>\n",
       "      <td>1972.0</td>\n",
       "      <td>175.0</td>\n",
       "      <td>Drama</td>\n",
       "      <td>9.2</td>\n",
       "      <td>100.0</td>\n",
       "      <td>134.97</td>\n",
       "    </tr>\n",
       "    <tr>\n",
       "      <th>3</th>\n",
       "      <td>3</td>\n",
       "      <td>2.0</td>\n",
       "      <td>The Dark Knight</td>\n",
       "      <td>Christopher Nolan</td>\n",
       "      <td>2008.0</td>\n",
       "      <td>152.0</td>\n",
       "      <td>Acción</td>\n",
       "      <td>9.0</td>\n",
       "      <td>84.0</td>\n",
       "      <td>534.86</td>\n",
       "    </tr>\n",
       "    <tr>\n",
       "      <th>4</th>\n",
       "      <td>4</td>\n",
       "      <td>2.0</td>\n",
       "      <td>The Dark Knight</td>\n",
       "      <td>Christopher Nolan</td>\n",
       "      <td>2008.0</td>\n",
       "      <td>152.0</td>\n",
       "      <td>Crimen</td>\n",
       "      <td>9.0</td>\n",
       "      <td>84.0</td>\n",
       "      <td>534.86</td>\n",
       "    </tr>\n",
       "  </tbody>\n",
       "</table>\n",
       "</div>"
      ],
      "text/plain": [
       "  indice_global  indice_estricto                    título  \\\n",
       "0             0              0.0  The Shawshank Redemption   \n",
       "1             1              1.0             The Godfather   \n",
       "2             2              1.0             The Godfather   \n",
       "3             3              2.0           The Dark Knight   \n",
       "4             4              2.0           The Dark Knight   \n",
       "\n",
       "               director     año  duración  género  rating  metascore  \\\n",
       "0        Frank Darabont  1994.0     142.0   Drama     9.3       82.0   \n",
       "1  Francis Ford Coppola  1972.0     175.0  Crimen     9.2      100.0   \n",
       "2  Francis Ford Coppola  1972.0     175.0   Drama     9.2      100.0   \n",
       "3     Christopher Nolan  2008.0     152.0  Acción     9.0       84.0   \n",
       "4     Christopher Nolan  2008.0     152.0  Crimen     9.0       84.0   \n",
       "\n",
       "   recaudación(M)  \n",
       "0           28.34  \n",
       "1          134.97  \n",
       "2          134.97  \n",
       "3          534.86  \n",
       "4          534.86  "
      ]
     },
     "execution_count": 10,
     "metadata": {},
     "output_type": "execute_result"
    }
   ],
   "source": [
    "import pandas as pd\n",
    "\n",
    "df = pd.read_csv('topPeliculas.csv')\n",
    "df.head()"
   ]
  },
  {
   "cell_type": "code",
   "execution_count": 11,
   "id": "0d9eabc6-1f37-4d0e-b282-9021d03fe181",
   "metadata": {},
   "outputs": [
    {
     "data": {
      "text/html": [
       "<div>\n",
       "<style scoped>\n",
       "    .dataframe tbody tr th:only-of-type {\n",
       "        vertical-align: middle;\n",
       "    }\n",
       "\n",
       "    .dataframe tbody tr th {\n",
       "        vertical-align: top;\n",
       "    }\n",
       "\n",
       "    .dataframe thead th {\n",
       "        text-align: right;\n",
       "    }\n",
       "</style>\n",
       "<table border=\"1\" class=\"dataframe\">\n",
       "  <thead>\n",
       "    <tr style=\"text-align: right;\">\n",
       "      <th></th>\n",
       "      <th>indice_global</th>\n",
       "      <th>indice_estricto</th>\n",
       "      <th>título</th>\n",
       "      <th>director</th>\n",
       "      <th>año</th>\n",
       "      <th>duración</th>\n",
       "      <th>género</th>\n",
       "      <th>rating</th>\n",
       "      <th>metascore</th>\n",
       "      <th>recaudación(M)</th>\n",
       "    </tr>\n",
       "  </thead>\n",
       "  <tbody>\n",
       "    <tr>\n",
       "      <th>2531</th>\n",
       "      <td>2531</td>\n",
       "      <td>999.0</td>\n",
       "      <td>Cell 211</td>\n",
       "      <td>Daniel MonzÃ³n</td>\n",
       "      <td>2009.0</td>\n",
       "      <td>113.0</td>\n",
       "      <td>Drama</td>\n",
       "      <td>7.6</td>\n",
       "      <td>0.0</td>\n",
       "      <td>0.0</td>\n",
       "    </tr>\n",
       "    <tr>\n",
       "      <th>2530</th>\n",
       "      <td>2530</td>\n",
       "      <td>999.0</td>\n",
       "      <td>Cell 211</td>\n",
       "      <td>Daniel MonzÃ³n</td>\n",
       "      <td>2009.0</td>\n",
       "      <td>113.0</td>\n",
       "      <td>Crimen</td>\n",
       "      <td>7.6</td>\n",
       "      <td>0.0</td>\n",
       "      <td>0.0</td>\n",
       "    </tr>\n",
       "    <tr>\n",
       "      <th>2529</th>\n",
       "      <td>2529</td>\n",
       "      <td>999.0</td>\n",
       "      <td>Cell 211</td>\n",
       "      <td>Daniel MonzÃ³n</td>\n",
       "      <td>2009.0</td>\n",
       "      <td>113.0</td>\n",
       "      <td>Acción</td>\n",
       "      <td>7.6</td>\n",
       "      <td>0.0</td>\n",
       "      <td>0.0</td>\n",
       "    </tr>\n",
       "    <tr>\n",
       "      <th>2528</th>\n",
       "      <td>2528</td>\n",
       "      <td>998.0</td>\n",
       "      <td>The Invisible Man</td>\n",
       "      <td>James Whale</td>\n",
       "      <td>1933.0</td>\n",
       "      <td>71.0</td>\n",
       "      <td>Ciencia Ficción</td>\n",
       "      <td>7.6</td>\n",
       "      <td>87.0</td>\n",
       "      <td>0.0</td>\n",
       "    </tr>\n",
       "    <tr>\n",
       "      <th>2495</th>\n",
       "      <td>2495</td>\n",
       "      <td>986.0</td>\n",
       "      <td>From Here to Eternity</td>\n",
       "      <td>Fred Zinnemann</td>\n",
       "      <td>1953.0</td>\n",
       "      <td>118.0</td>\n",
       "      <td>Guerra</td>\n",
       "      <td>7.6</td>\n",
       "      <td>85.0</td>\n",
       "      <td>30.5</td>\n",
       "    </tr>\n",
       "  </tbody>\n",
       "</table>\n",
       "</div>"
      ],
      "text/plain": [
       "     indice_global  indice_estricto                 título        director  \\\n",
       "2531          2531            999.0               Cell 211  Daniel MonzÃ³n   \n",
       "2530          2530            999.0               Cell 211  Daniel MonzÃ³n   \n",
       "2529          2529            999.0               Cell 211  Daniel MonzÃ³n   \n",
       "2528          2528            998.0      The Invisible Man     James Whale   \n",
       "2495          2495            986.0  From Here to Eternity  Fred Zinnemann   \n",
       "\n",
       "         año  duración           género  rating  metascore  recaudación(M)  \n",
       "2531  2009.0     113.0            Drama     7.6        0.0             0.0  \n",
       "2530  2009.0     113.0           Crimen     7.6        0.0             0.0  \n",
       "2529  2009.0     113.0           Acción     7.6        0.0             0.0  \n",
       "2528  1933.0      71.0  Ciencia Ficción     7.6       87.0             0.0  \n",
       "2495  1953.0     118.0           Guerra     7.6       85.0            30.5  "
      ]
     },
     "execution_count": 11,
     "metadata": {},
     "output_type": "execute_result"
    }
   ],
   "source": [
    "df_ordenado = df.sort_values(by='rating')\n",
    "df_ordenado.head()"
   ]
  },
  {
   "cell_type": "code",
   "execution_count": 12,
   "id": "a9bdbb43-9fd6-4376-aa7d-6dc813f5bccd",
   "metadata": {},
   "outputs": [
    {
     "data": {
      "text/html": [
       "<div>\n",
       "<style scoped>\n",
       "    .dataframe tbody tr th:only-of-type {\n",
       "        vertical-align: middle;\n",
       "    }\n",
       "\n",
       "    .dataframe tbody tr th {\n",
       "        vertical-align: top;\n",
       "    }\n",
       "\n",
       "    .dataframe thead th {\n",
       "        text-align: right;\n",
       "    }\n",
       "</style>\n",
       "<table border=\"1\" class=\"dataframe\">\n",
       "  <thead>\n",
       "    <tr style=\"text-align: right;\">\n",
       "      <th></th>\n",
       "      <th>indice_global</th>\n",
       "      <th>indice_estricto</th>\n",
       "      <th>título</th>\n",
       "      <th>director</th>\n",
       "      <th>año</th>\n",
       "      <th>duración</th>\n",
       "      <th>género</th>\n",
       "      <th>rating</th>\n",
       "      <th>metascore</th>\n",
       "      <th>recaudación(M)</th>\n",
       "    </tr>\n",
       "  </thead>\n",
       "  <tbody>\n",
       "    <tr>\n",
       "      <th>0</th>\n",
       "      <td>0</td>\n",
       "      <td>0.0</td>\n",
       "      <td>The Shawshank Redemption</td>\n",
       "      <td>Frank Darabont</td>\n",
       "      <td>1994.0</td>\n",
       "      <td>142.0</td>\n",
       "      <td>Drama</td>\n",
       "      <td>9.3</td>\n",
       "      <td>82.0</td>\n",
       "      <td>28.34</td>\n",
       "    </tr>\n",
       "    <tr>\n",
       "      <th>1</th>\n",
       "      <td>1</td>\n",
       "      <td>1.0</td>\n",
       "      <td>The Godfather</td>\n",
       "      <td>Francis Ford Coppola</td>\n",
       "      <td>1972.0</td>\n",
       "      <td>175.0</td>\n",
       "      <td>Crimen</td>\n",
       "      <td>9.2</td>\n",
       "      <td>100.0</td>\n",
       "      <td>134.97</td>\n",
       "    </tr>\n",
       "    <tr>\n",
       "      <th>2</th>\n",
       "      <td>2</td>\n",
       "      <td>1.0</td>\n",
       "      <td>The Godfather</td>\n",
       "      <td>Francis Ford Coppola</td>\n",
       "      <td>1972.0</td>\n",
       "      <td>175.0</td>\n",
       "      <td>Drama</td>\n",
       "      <td>9.2</td>\n",
       "      <td>100.0</td>\n",
       "      <td>134.97</td>\n",
       "    </tr>\n",
       "    <tr>\n",
       "      <th>5</th>\n",
       "      <td>5</td>\n",
       "      <td>2.0</td>\n",
       "      <td>The Dark Knight</td>\n",
       "      <td>Christopher Nolan</td>\n",
       "      <td>2008.0</td>\n",
       "      <td>152.0</td>\n",
       "      <td>Drama</td>\n",
       "      <td>9.0</td>\n",
       "      <td>84.0</td>\n",
       "      <td>534.86</td>\n",
       "    </tr>\n",
       "    <tr>\n",
       "      <th>12</th>\n",
       "      <td>12</td>\n",
       "      <td>5.0</td>\n",
       "      <td>The Lord of the Rings: The Return of the King</td>\n",
       "      <td>Peter Jackson</td>\n",
       "      <td>2003.0</td>\n",
       "      <td>201.0</td>\n",
       "      <td>Aventura</td>\n",
       "      <td>9.0</td>\n",
       "      <td>94.0</td>\n",
       "      <td>377.85</td>\n",
       "    </tr>\n",
       "  </tbody>\n",
       "</table>\n",
       "</div>"
      ],
      "text/plain": [
       "   indice_global  indice_estricto  \\\n",
       "0              0              0.0   \n",
       "1              1              1.0   \n",
       "2              2              1.0   \n",
       "5              5              2.0   \n",
       "12            12              5.0   \n",
       "\n",
       "                                           título              director  \\\n",
       "0                        The Shawshank Redemption        Frank Darabont   \n",
       "1                                   The Godfather  Francis Ford Coppola   \n",
       "2                                   The Godfather  Francis Ford Coppola   \n",
       "5                                 The Dark Knight     Christopher Nolan   \n",
       "12  The Lord of the Rings: The Return of the King         Peter Jackson   \n",
       "\n",
       "       año  duración    género  rating  metascore  recaudación(M)  \n",
       "0   1994.0     142.0     Drama     9.3       82.0           28.34  \n",
       "1   1972.0     175.0    Crimen     9.2      100.0          134.97  \n",
       "2   1972.0     175.0     Drama     9.2      100.0          134.97  \n",
       "5   2008.0     152.0     Drama     9.0       84.0          534.86  \n",
       "12  2003.0     201.0  Aventura     9.0       94.0          377.85  "
      ]
     },
     "execution_count": 12,
     "metadata": {},
     "output_type": "execute_result"
    }
   ],
   "source": [
    "df_ordenado = df.sort_values(by='rating', ascending = False)\n",
    "df_ordenado.head()"
   ]
  },
  {
   "cell_type": "code",
   "execution_count": 13,
   "id": "0aa818be-22f6-4f31-b264-ffe8522ada86",
   "metadata": {},
   "outputs": [
    {
     "data": {
      "text/html": [
       "<div>\n",
       "<style scoped>\n",
       "    .dataframe tbody tr th:only-of-type {\n",
       "        vertical-align: middle;\n",
       "    }\n",
       "\n",
       "    .dataframe tbody tr th {\n",
       "        vertical-align: top;\n",
       "    }\n",
       "\n",
       "    .dataframe thead th {\n",
       "        text-align: right;\n",
       "    }\n",
       "</style>\n",
       "<table border=\"1\" class=\"dataframe\">\n",
       "  <thead>\n",
       "    <tr style=\"text-align: right;\">\n",
       "      <th></th>\n",
       "      <th>indice_global</th>\n",
       "      <th>indice_estricto</th>\n",
       "      <th>título</th>\n",
       "      <th>director</th>\n",
       "      <th>año</th>\n",
       "      <th>duración</th>\n",
       "      <th>género</th>\n",
       "      <th>rating</th>\n",
       "      <th>metascore</th>\n",
       "      <th>recaudación(M)</th>\n",
       "    </tr>\n",
       "  </thead>\n",
       "  <tbody>\n",
       "    <tr>\n",
       "      <th>0</th>\n",
       "      <td>0</td>\n",
       "      <td>0.0</td>\n",
       "      <td>The Shawshank Redemption</td>\n",
       "      <td>Frank Darabont</td>\n",
       "      <td>1994.0</td>\n",
       "      <td>142.0</td>\n",
       "      <td>Drama</td>\n",
       "      <td>9.3</td>\n",
       "      <td>82.0</td>\n",
       "      <td>28.34</td>\n",
       "    </tr>\n",
       "    <tr>\n",
       "      <th>1</th>\n",
       "      <td>1</td>\n",
       "      <td>1.0</td>\n",
       "      <td>The Godfather</td>\n",
       "      <td>Francis Ford Coppola</td>\n",
       "      <td>1972.0</td>\n",
       "      <td>175.0</td>\n",
       "      <td>Crimen</td>\n",
       "      <td>9.2</td>\n",
       "      <td>100.0</td>\n",
       "      <td>134.97</td>\n",
       "    </tr>\n",
       "    <tr>\n",
       "      <th>2</th>\n",
       "      <td>2</td>\n",
       "      <td>1.0</td>\n",
       "      <td>The Godfather</td>\n",
       "      <td>Francis Ford Coppola</td>\n",
       "      <td>1972.0</td>\n",
       "      <td>175.0</td>\n",
       "      <td>Drama</td>\n",
       "      <td>9.2</td>\n",
       "      <td>100.0</td>\n",
       "      <td>134.97</td>\n",
       "    </tr>\n",
       "    <tr>\n",
       "      <th>3</th>\n",
       "      <td>3</td>\n",
       "      <td>2.0</td>\n",
       "      <td>The Dark Knight</td>\n",
       "      <td>Christopher Nolan</td>\n",
       "      <td>2008.0</td>\n",
       "      <td>152.0</td>\n",
       "      <td>Acción</td>\n",
       "      <td>9.0</td>\n",
       "      <td>84.0</td>\n",
       "      <td>534.86</td>\n",
       "    </tr>\n",
       "    <tr>\n",
       "      <th>4</th>\n",
       "      <td>4</td>\n",
       "      <td>2.0</td>\n",
       "      <td>The Dark Knight</td>\n",
       "      <td>Christopher Nolan</td>\n",
       "      <td>2008.0</td>\n",
       "      <td>152.0</td>\n",
       "      <td>Crimen</td>\n",
       "      <td>9.0</td>\n",
       "      <td>84.0</td>\n",
       "      <td>534.86</td>\n",
       "    </tr>\n",
       "  </tbody>\n",
       "</table>\n",
       "</div>"
      ],
      "text/plain": [
       "  indice_global  indice_estricto                    título  \\\n",
       "0             0              0.0  The Shawshank Redemption   \n",
       "1             1              1.0             The Godfather   \n",
       "2             2              1.0             The Godfather   \n",
       "3             3              2.0           The Dark Knight   \n",
       "4             4              2.0           The Dark Knight   \n",
       "\n",
       "               director     año  duración  género  rating  metascore  \\\n",
       "0        Frank Darabont  1994.0     142.0   Drama     9.3       82.0   \n",
       "1  Francis Ford Coppola  1972.0     175.0  Crimen     9.2      100.0   \n",
       "2  Francis Ford Coppola  1972.0     175.0   Drama     9.2      100.0   \n",
       "3     Christopher Nolan  2008.0     152.0  Acción     9.0       84.0   \n",
       "4     Christopher Nolan  2008.0     152.0  Crimen     9.0       84.0   \n",
       "\n",
       "   recaudación(M)  \n",
       "0           28.34  \n",
       "1          134.97  \n",
       "2          134.97  \n",
       "3          534.86  \n",
       "4          534.86  "
      ]
     },
     "execution_count": 13,
     "metadata": {},
     "output_type": "execute_result"
    }
   ],
   "source": [
    "df_ordenado = df.sort_values(by=['rating', 'recaudación(M)'], ascending = False)\n",
    "df_ordenado.head()"
   ]
  },
  {
   "cell_type": "code",
   "execution_count": 14,
   "id": "2304e465-033e-43fe-88df-c9b68ebdbca5",
   "metadata": {},
   "outputs": [
    {
     "data": {
      "text/plain": [
       "género\n",
       "Acción             7.987255\n",
       "Animación          7.943902\n",
       "Aventura           7.980435\n",
       "Biografía          7.971698\n",
       "Ciencia Ficción    7.986567\n",
       "Comedia            7.909910\n",
       "Crimen             7.993500\n",
       "Deportes           7.980000\n",
       "Drama              7.980444\n",
       "Familiar           7.932692\n",
       "Fantasía           7.929508\n",
       "Film-Noir          7.977273\n",
       "Guerra             8.053191\n",
       "Historia           7.931818\n",
       "Misterio           7.991262\n",
       "Musica             7.909677\n",
       "Musical            7.943750\n",
       "Romance            7.937398\n",
       "Terror             7.875758\n",
       "Thriller           7.929286\n",
       "Western            8.006250\n",
       "Name: rating, dtype: float64"
      ]
     },
     "execution_count": 14,
     "metadata": {},
     "output_type": "execute_result"
    }
   ],
   "source": [
    "df_agrupado = df.groupby('género')['rating'].mean()\n",
    "df_agrupado"
   ]
  },
  {
   "cell_type": "code",
   "execution_count": 15,
   "id": "f753475d-9bcb-43ad-980c-730659b88251",
   "metadata": {},
   "outputs": [
    {
     "data": {
      "text/plain": [
       "año\n",
       "2014.0    8015.90\n",
       "2019.0    7092.95\n",
       "2010.0    6899.96\n",
       "2016.0    6860.23\n",
       "2015.0    6817.12\n",
       "2012.0    6487.22\n",
       "2009.0    6486.34\n",
       "2018.0    5992.02\n",
       "2008.0    5603.30\n",
       "2017.0    5381.90\n",
       "Name: recaudación(M), dtype: float64"
      ]
     },
     "execution_count": 15,
     "metadata": {},
     "output_type": "execute_result"
    }
   ],
   "source": [
    "df_agrupado = df.groupby('año')['recaudación(M)'].sum()\n",
    "df_agrupado.sort_values(ascending=False).head(10)"
   ]
  },
  {
   "cell_type": "code",
   "execution_count": 16,
   "id": "dd534f40-fb1f-4354-be45-e4991ff03711",
   "metadata": {},
   "outputs": [
    {
     "data": {
      "text/html": [
       "<div>\n",
       "<style scoped>\n",
       "    .dataframe tbody tr th:only-of-type {\n",
       "        vertical-align: middle;\n",
       "    }\n",
       "\n",
       "    .dataframe tbody tr th {\n",
       "        vertical-align: top;\n",
       "    }\n",
       "\n",
       "    .dataframe thead th {\n",
       "        text-align: right;\n",
       "    }\n",
       "</style>\n",
       "<table border=\"1\" class=\"dataframe\">\n",
       "  <thead>\n",
       "    <tr style=\"text-align: right;\">\n",
       "      <th></th>\n",
       "      <th>titulo</th>\n",
       "      <th>año</th>\n",
       "      <th>rating</th>\n",
       "    </tr>\n",
       "  </thead>\n",
       "  <tbody>\n",
       "    <tr>\n",
       "      <th>1</th>\n",
       "      <td>Pelicula B</td>\n",
       "      <td>2000</td>\n",
       "      <td>6.5</td>\n",
       "    </tr>\n",
       "    <tr>\n",
       "      <th>0</th>\n",
       "      <td>Pelicula A</td>\n",
       "      <td>2001</td>\n",
       "      <td>7.2</td>\n",
       "    </tr>\n",
       "    <tr>\n",
       "      <th>2</th>\n",
       "      <td>Pelicula C</td>\n",
       "      <td>2005</td>\n",
       "      <td>8.1</td>\n",
       "    </tr>\n",
       "    <tr>\n",
       "      <th>3</th>\n",
       "      <td>Pelicula D</td>\n",
       "      <td>2010</td>\n",
       "      <td>7.5</td>\n",
       "    </tr>\n",
       "  </tbody>\n",
       "</table>\n",
       "</div>"
      ],
      "text/plain": [
       "       titulo   año  rating\n",
       "1  Pelicula B  2000     6.5\n",
       "0  Pelicula A  2001     7.2\n",
       "2  Pelicula C  2005     8.1\n",
       "3  Pelicula D  2010     7.5"
      ]
     },
     "execution_count": 16,
     "metadata": {},
     "output_type": "execute_result"
    }
   ],
   "source": [
    "import pandas as pd \n",
    "\n",
    "datos = {\n",
    "    'titulo': ['Pelicula A', 'Pelicula B', 'Pelicula C', 'Pelicula D'],\n",
    "    'año': [2001, 2000, 2005, 2010],\n",
    "    'rating': [7.2, 6.5, 8.1, 7.5]\n",
    "}\n",
    "\n",
    "df = pd.DataFrame(datos)\n",
    "df_ordenado = df.sort_values(by='año')\n",
    "df_ordenado.head()"
   ]
  },
  {
   "cell_type": "code",
   "execution_count": 17,
   "id": "9c739c62-9513-44a4-bc39-a71f6531c04f",
   "metadata": {},
   "outputs": [
    {
     "data": {
      "text/html": [
       "<div>\n",
       "<style scoped>\n",
       "    .dataframe tbody tr th:only-of-type {\n",
       "        vertical-align: middle;\n",
       "    }\n",
       "\n",
       "    .dataframe tbody tr th {\n",
       "        vertical-align: top;\n",
       "    }\n",
       "\n",
       "    .dataframe thead th {\n",
       "        text-align: right;\n",
       "    }\n",
       "</style>\n",
       "<table border=\"1\" class=\"dataframe\">\n",
       "  <thead>\n",
       "    <tr style=\"text-align: right;\">\n",
       "      <th></th>\n",
       "      <th>titulo</th>\n",
       "      <th>año</th>\n",
       "      <th>rating</th>\n",
       "    </tr>\n",
       "  </thead>\n",
       "  <tbody>\n",
       "    <tr>\n",
       "      <th>3</th>\n",
       "      <td>Pelicula D</td>\n",
       "      <td>2010</td>\n",
       "      <td>7.5</td>\n",
       "    </tr>\n",
       "    <tr>\n",
       "      <th>2</th>\n",
       "      <td>Pelicula C</td>\n",
       "      <td>2005</td>\n",
       "      <td>8.1</td>\n",
       "    </tr>\n",
       "    <tr>\n",
       "      <th>0</th>\n",
       "      <td>Pelicula A</td>\n",
       "      <td>2001</td>\n",
       "      <td>7.2</td>\n",
       "    </tr>\n",
       "    <tr>\n",
       "      <th>1</th>\n",
       "      <td>Pelicula B</td>\n",
       "      <td>2000</td>\n",
       "      <td>6.5</td>\n",
       "    </tr>\n",
       "  </tbody>\n",
       "</table>\n",
       "</div>"
      ],
      "text/plain": [
       "       titulo   año  rating\n",
       "3  Pelicula D  2010     7.5\n",
       "2  Pelicula C  2005     8.1\n",
       "0  Pelicula A  2001     7.2\n",
       "1  Pelicula B  2000     6.5"
      ]
     },
     "execution_count": 17,
     "metadata": {},
     "output_type": "execute_result"
    }
   ],
   "source": [
    "import pandas as pd \n",
    "\n",
    "datos = {\n",
    "    'titulo': ['Pelicula A', 'Pelicula B', 'Pelicula C', 'Pelicula D'],\n",
    "    'año': [2001, 2000, 2005, 2010],\n",
    "    'rating': [7.2, 6.5, 8.1, 7.5]\n",
    "}\n",
    "\n",
    "df = pd.DataFrame(datos)\n",
    "df_ordenado = df.sort_values(by='rating')\n",
    "df_ordenado = df.sort_values(by='año', ascending=False)\n",
    "df_ordenado.head()"
   ]
  },
  {
   "cell_type": "code",
   "execution_count": 18,
   "id": "17ca2811-2eb2-46cc-8cc6-861bc7f47419",
   "metadata": {},
   "outputs": [
    {
     "name": "stdout",
     "output_type": "stream",
     "text": [
      "género\n",
      "Acción     8.15\n",
      "Comedia    6.50\n",
      "Drama      8.15\n",
      "Name: rating, dtype: float64\n"
     ]
    }
   ],
   "source": [
    "import pandas as pd \n",
    "datos = {\n",
    "    'titulo': ['Pelicula A', 'Pelicula B', 'Pelicula C', 'Pelicula D', 'Pelicula E'],\n",
    "    'género': ['Acción', 'Drama', 'Acción', 'Comedia', 'Drama'],\n",
    "    'rating': [7.2, 8.5, 9.1, 6.5, 7.8]\n",
    "}\n",
    "\n",
    "df = pd.DataFrame(datos)\n",
    "\n",
    "promedio_rating_por_genero = df.groupby('género')['rating'].mean()\n",
    "\n",
    "print(promedio_rating_por_genero)\n"
   ]
  },
  {
   "cell_type": "markdown",
   "id": "51efcf06-ce07-4e96-8661-251401a67ddc",
   "metadata": {},
   "source": [
    "**VIDEO 3**"
   ]
  },
  {
   "cell_type": "code",
   "execution_count": 19,
   "id": "b14f6d30-f96d-46d7-8935-23c87592386b",
   "metadata": {},
   "outputs": [
    {
     "data": {
      "text/html": [
       "<div>\n",
       "<style scoped>\n",
       "    .dataframe tbody tr th:only-of-type {\n",
       "        vertical-align: middle;\n",
       "    }\n",
       "\n",
       "    .dataframe tbody tr th {\n",
       "        vertical-align: top;\n",
       "    }\n",
       "\n",
       "    .dataframe thead th {\n",
       "        text-align: right;\n",
       "    }\n",
       "</style>\n",
       "<table border=\"1\" class=\"dataframe\">\n",
       "  <thead>\n",
       "    <tr style=\"text-align: right;\">\n",
       "      <th></th>\n",
       "      <th>ID</th>\n",
       "      <th>Nombre</th>\n",
       "    </tr>\n",
       "  </thead>\n",
       "  <tbody>\n",
       "    <tr>\n",
       "      <th>0</th>\n",
       "      <td>1</td>\n",
       "      <td>Ana</td>\n",
       "    </tr>\n",
       "    <tr>\n",
       "      <th>1</th>\n",
       "      <td>2</td>\n",
       "      <td>Luis</td>\n",
       "    </tr>\n",
       "    <tr>\n",
       "      <th>2</th>\n",
       "      <td>3</td>\n",
       "      <td>Carlos</td>\n",
       "    </tr>\n",
       "  </tbody>\n",
       "</table>\n",
       "</div>"
      ],
      "text/plain": [
       "   ID  Nombre\n",
       "0   1     Ana\n",
       "1   2    Luis\n",
       "2   3  Carlos"
      ]
     },
     "execution_count": 19,
     "metadata": {},
     "output_type": "execute_result"
    }
   ],
   "source": [
    "import pandas as pd\n",
    "\n",
    "df1 = pd.DataFrame({'ID': [1,2,3], 'Nombre': ['Ana', 'Luis', 'Carlos']})\n",
    "df2 = pd.DataFrame({'ID': [1,2,4], 'Edad': [25,30,22]})\n",
    "df1"
   ]
  },
  {
   "cell_type": "code",
   "execution_count": 20,
   "id": "6b569c6d-b129-48b2-8916-4730459d92a3",
   "metadata": {},
   "outputs": [
    {
     "data": {
      "text/html": [
       "<div>\n",
       "<style scoped>\n",
       "    .dataframe tbody tr th:only-of-type {\n",
       "        vertical-align: middle;\n",
       "    }\n",
       "\n",
       "    .dataframe tbody tr th {\n",
       "        vertical-align: top;\n",
       "    }\n",
       "\n",
       "    .dataframe thead th {\n",
       "        text-align: right;\n",
       "    }\n",
       "</style>\n",
       "<table border=\"1\" class=\"dataframe\">\n",
       "  <thead>\n",
       "    <tr style=\"text-align: right;\">\n",
       "      <th></th>\n",
       "      <th>ID</th>\n",
       "      <th>Edad</th>\n",
       "    </tr>\n",
       "  </thead>\n",
       "  <tbody>\n",
       "    <tr>\n",
       "      <th>0</th>\n",
       "      <td>1</td>\n",
       "      <td>25</td>\n",
       "    </tr>\n",
       "    <tr>\n",
       "      <th>1</th>\n",
       "      <td>2</td>\n",
       "      <td>30</td>\n",
       "    </tr>\n",
       "    <tr>\n",
       "      <th>2</th>\n",
       "      <td>4</td>\n",
       "      <td>22</td>\n",
       "    </tr>\n",
       "  </tbody>\n",
       "</table>\n",
       "</div>"
      ],
      "text/plain": [
       "   ID  Edad\n",
       "0   1    25\n",
       "1   2    30\n",
       "2   4    22"
      ]
     },
     "execution_count": 20,
     "metadata": {},
     "output_type": "execute_result"
    }
   ],
   "source": [
    "df2"
   ]
  },
  {
   "cell_type": "code",
   "execution_count": 21,
   "id": "ac2ec350-e82f-45f6-9406-b5b56a464ffe",
   "metadata": {},
   "outputs": [
    {
     "data": {
      "text/html": [
       "<div>\n",
       "<style scoped>\n",
       "    .dataframe tbody tr th:only-of-type {\n",
       "        vertical-align: middle;\n",
       "    }\n",
       "\n",
       "    .dataframe tbody tr th {\n",
       "        vertical-align: top;\n",
       "    }\n",
       "\n",
       "    .dataframe thead th {\n",
       "        text-align: right;\n",
       "    }\n",
       "</style>\n",
       "<table border=\"1\" class=\"dataframe\">\n",
       "  <thead>\n",
       "    <tr style=\"text-align: right;\">\n",
       "      <th></th>\n",
       "      <th>ID</th>\n",
       "      <th>Nombre</th>\n",
       "      <th>Edad</th>\n",
       "    </tr>\n",
       "  </thead>\n",
       "  <tbody>\n",
       "    <tr>\n",
       "      <th>0</th>\n",
       "      <td>1</td>\n",
       "      <td>Ana</td>\n",
       "      <td>25</td>\n",
       "    </tr>\n",
       "    <tr>\n",
       "      <th>1</th>\n",
       "      <td>2</td>\n",
       "      <td>Luis</td>\n",
       "      <td>30</td>\n",
       "    </tr>\n",
       "  </tbody>\n",
       "</table>\n",
       "</div>"
      ],
      "text/plain": [
       "   ID Nombre  Edad\n",
       "0   1    Ana    25\n",
       "1   2   Luis    30"
      ]
     },
     "execution_count": 21,
     "metadata": {},
     "output_type": "execute_result"
    }
   ],
   "source": [
    "df_Combinado = pd.merge(df1, df2, on='ID')\n",
    "df_Combinado"
   ]
  },
  {
   "cell_type": "code",
   "execution_count": 22,
   "id": "1bd1262f-a126-4967-baee-dd5273e9dc1d",
   "metadata": {},
   "outputs": [
    {
     "data": {
      "text/html": [
       "<div>\n",
       "<style scoped>\n",
       "    .dataframe tbody tr th:only-of-type {\n",
       "        vertical-align: middle;\n",
       "    }\n",
       "\n",
       "    .dataframe tbody tr th {\n",
       "        vertical-align: top;\n",
       "    }\n",
       "\n",
       "    .dataframe thead th {\n",
       "        text-align: right;\n",
       "    }\n",
       "</style>\n",
       "<table border=\"1\" class=\"dataframe\">\n",
       "  <thead>\n",
       "    <tr style=\"text-align: right;\">\n",
       "      <th></th>\n",
       "      <th>ID</th>\n",
       "      <th>Nombre</th>\n",
       "      <th>Edad</th>\n",
       "    </tr>\n",
       "  </thead>\n",
       "  <tbody>\n",
       "    <tr>\n",
       "      <th>0</th>\n",
       "      <td>1</td>\n",
       "      <td>Ana</td>\n",
       "      <td>25.0</td>\n",
       "    </tr>\n",
       "    <tr>\n",
       "      <th>1</th>\n",
       "      <td>2</td>\n",
       "      <td>Luis</td>\n",
       "      <td>30.0</td>\n",
       "    </tr>\n",
       "    <tr>\n",
       "      <th>2</th>\n",
       "      <td>3</td>\n",
       "      <td>Carlos</td>\n",
       "      <td>NaN</td>\n",
       "    </tr>\n",
       "    <tr>\n",
       "      <th>3</th>\n",
       "      <td>4</td>\n",
       "      <td>NaN</td>\n",
       "      <td>22.0</td>\n",
       "    </tr>\n",
       "  </tbody>\n",
       "</table>\n",
       "</div>"
      ],
      "text/plain": [
       "   ID  Nombre  Edad\n",
       "0   1     Ana  25.0\n",
       "1   2    Luis  30.0\n",
       "2   3  Carlos   NaN\n",
       "3   4     NaN  22.0"
      ]
     },
     "execution_count": 22,
     "metadata": {},
     "output_type": "execute_result"
    }
   ],
   "source": [
    "df_Combinado = pd.merge(df1, df2, on='ID', how='outer')\n",
    "df_Combinado"
   ]
  },
  {
   "cell_type": "code",
   "execution_count": 23,
   "id": "e50359ed-c373-4287-beaf-3a25ee37143a",
   "metadata": {},
   "outputs": [
    {
     "data": {
      "text/html": [
       "<div>\n",
       "<style scoped>\n",
       "    .dataframe tbody tr th:only-of-type {\n",
       "        vertical-align: middle;\n",
       "    }\n",
       "\n",
       "    .dataframe tbody tr th {\n",
       "        vertical-align: top;\n",
       "    }\n",
       "\n",
       "    .dataframe thead th {\n",
       "        text-align: right;\n",
       "    }\n",
       "</style>\n",
       "<table border=\"1\" class=\"dataframe\">\n",
       "  <thead>\n",
       "    <tr style=\"text-align: right;\">\n",
       "      <th></th>\n",
       "      <th>ID_x</th>\n",
       "      <th>Nombre</th>\n",
       "      <th>ID_y</th>\n",
       "      <th>Edad</th>\n",
       "    </tr>\n",
       "  </thead>\n",
       "  <tbody>\n",
       "    <tr>\n",
       "      <th>0</th>\n",
       "      <td>1</td>\n",
       "      <td>Ana</td>\n",
       "      <td>1</td>\n",
       "      <td>25</td>\n",
       "    </tr>\n",
       "    <tr>\n",
       "      <th>1</th>\n",
       "      <td>2</td>\n",
       "      <td>Luis</td>\n",
       "      <td>2</td>\n",
       "      <td>30</td>\n",
       "    </tr>\n",
       "    <tr>\n",
       "      <th>2</th>\n",
       "      <td>3</td>\n",
       "      <td>Carlos</td>\n",
       "      <td>4</td>\n",
       "      <td>22</td>\n",
       "    </tr>\n",
       "  </tbody>\n",
       "</table>\n",
       "</div>"
      ],
      "text/plain": [
       "   ID_x  Nombre  ID_y  Edad\n",
       "0     1     Ana     1    25\n",
       "1     2    Luis     2    30\n",
       "2     3  Carlos     4    22"
      ]
     },
     "execution_count": 23,
     "metadata": {},
     "output_type": "execute_result"
    }
   ],
   "source": [
    "df_indexado = pd.merge(df1, df2, left_index=True, right_index=True)\n",
    "df_indexado"
   ]
  },
  {
   "cell_type": "code",
   "execution_count": 24,
   "id": "58c29032-fb00-4632-a36b-8a63f45f492b",
   "metadata": {},
   "outputs": [
    {
     "name": "stdout",
     "output_type": "stream",
     "text": [
      "   curso_id               nombre_curso fecha_inscripcion\n",
      "0       101      Introducción a Python        2023-01-20\n",
      "1       102    Data Science con Python        2023-01-15\n",
      "2       102    Data Science con Python        2023-02-01\n",
      "3       103  Machine Learning Avanzado               NaN\n"
     ]
    }
   ],
   "source": [
    "import pandas as pd \n",
    "\n",
    "cursos = pd.DataFrame({\n",
    "    'curso_id': [101, 102, 103],\n",
    "    'nombre_curso': ['Introducción a Python', 'Data Science con Python', 'Machine Learning Avanzado']\n",
    "})\n",
    "\n",
    "inscripciones = pd.DataFrame({\n",
    "    'curso_id': [102, 102, 101, 104],\n",
    "    'fecha_inscripcion': ['2023-01-15', '2023-02-01', '2023-01-20', '2023-03-05']\n",
    "})\n",
    "\n",
    "\n",
    "cursos_inscripciones = pd.merge(cursos, inscripciones, on='curso_id', how='left')\n",
    "print(cursos_inscripciones)"
   ]
  },
  {
   "cell_type": "code",
   "execution_count": 25,
   "id": "ef09f22d-2e7e-466f-93cc-f50c7b461670",
   "metadata": {},
   "outputs": [
    {
     "data": {
      "text/html": [
       "<div>\n",
       "<style scoped>\n",
       "    .dataframe tbody tr th:only-of-type {\n",
       "        vertical-align: middle;\n",
       "    }\n",
       "\n",
       "    .dataframe tbody tr th {\n",
       "        vertical-align: top;\n",
       "    }\n",
       "\n",
       "    .dataframe thead th {\n",
       "        text-align: right;\n",
       "    }\n",
       "</style>\n",
       "<table border=\"1\" class=\"dataframe\">\n",
       "  <thead>\n",
       "    <tr style=\"text-align: right;\">\n",
       "      <th></th>\n",
       "      <th>ID</th>\n",
       "      <th>Nombre</th>\n",
       "      <th>Marca</th>\n",
       "      <th>Calificación</th>\n",
       "      <th>Comentario</th>\n",
       "    </tr>\n",
       "  </thead>\n",
       "  <tbody>\n",
       "    <tr>\n",
       "      <th>0</th>\n",
       "      <td>10</td>\n",
       "      <td>Teclado</td>\n",
       "      <td>Logitech</td>\n",
       "      <td>5</td>\n",
       "      <td>Excelente producto</td>\n",
       "    </tr>\n",
       "    <tr>\n",
       "      <th>1</th>\n",
       "      <td>11</td>\n",
       "      <td>Mouse</td>\n",
       "      <td>Razer</td>\n",
       "      <td>4</td>\n",
       "      <td>Buen producto</td>\n",
       "    </tr>\n",
       "    <tr>\n",
       "      <th>2</th>\n",
       "      <td>12</td>\n",
       "      <td>Monitor</td>\n",
       "      <td>Dell</td>\n",
       "      <td>4</td>\n",
       "      <td>Satisfecho</td>\n",
       "    </tr>\n",
       "  </tbody>\n",
       "</table>\n",
       "</div>"
      ],
      "text/plain": [
       "   ID   Nombre     Marca  Calificación          Comentario\n",
       "0  10  Teclado  Logitech             5  Excelente producto\n",
       "1  11    Mouse     Razer             4       Buen producto\n",
       "2  12  Monitor      Dell             4          Satisfecho"
      ]
     },
     "execution_count": 25,
     "metadata": {},
     "output_type": "execute_result"
    }
   ],
   "source": [
    "\n",
    "\n",
    "productos = pd.DataFrame({\n",
    "    'ID': [10, 11, 12],\n",
    "    'Nombre': ['Teclado', 'Mouse', 'Monitor'],\n",
    "    'Marca': ['Logitech', 'Razer', 'Dell']\n",
    "})\n",
    "\n",
    "reviews = pd.DataFrame({\n",
    "    'ID': [10, 11, 12],\n",
    "    'Calificación': [5, 4, 4],\n",
    "    'Comentario': ['Excelente producto', 'Buen producto', 'Satisfecho']\n",
    "})\n",
    "\n",
    "productos_reviews = pd.merge(productos, reviews, on='ID', how='left')\n",
    "\n",
    "productos_reviews"
   ]
  },
  {
   "cell_type": "markdown",
   "id": "9409a006-ced6-49f7-a174-0e7fb904b2ef",
   "metadata": {},
   "source": [
    "**VIDEO 4**"
   ]
  },
  {
   "cell_type": "code",
   "execution_count": 26,
   "id": "e5e361e7-8bf9-47b6-a72f-d3d93b4206ca",
   "metadata": {},
   "outputs": [],
   "source": [
    "import pandas as pd\n",
    "\n",
    "df1 = pd.DataFrame({'Salario': [30000, 45000, 38000], \n",
    "                    'Antiguedad':[9,13,12]}, index=[1,2,3])\n",
    "\n",
    "df2 = pd.DataFrame({'Ciudad': ['Madrid', 'Barcelona', 'Valencia'], \n",
    "                    'Jerarquia':['Baja', 'Alta', 'Media']}, index=[1,2,4])"
   ]
  },
  {
   "cell_type": "code",
   "execution_count": 27,
   "id": "5b9e3a1d-e6cf-4bc3-bd85-e62dfc14ffb5",
   "metadata": {},
   "outputs": [
    {
     "data": {
      "text/html": [
       "<div>\n",
       "<style scoped>\n",
       "    .dataframe tbody tr th:only-of-type {\n",
       "        vertical-align: middle;\n",
       "    }\n",
       "\n",
       "    .dataframe tbody tr th {\n",
       "        vertical-align: top;\n",
       "    }\n",
       "\n",
       "    .dataframe thead th {\n",
       "        text-align: right;\n",
       "    }\n",
       "</style>\n",
       "<table border=\"1\" class=\"dataframe\">\n",
       "  <thead>\n",
       "    <tr style=\"text-align: right;\">\n",
       "      <th></th>\n",
       "      <th>Salario</th>\n",
       "      <th>Antiguedad</th>\n",
       "    </tr>\n",
       "  </thead>\n",
       "  <tbody>\n",
       "    <tr>\n",
       "      <th>1</th>\n",
       "      <td>30000</td>\n",
       "      <td>9</td>\n",
       "    </tr>\n",
       "    <tr>\n",
       "      <th>2</th>\n",
       "      <td>45000</td>\n",
       "      <td>13</td>\n",
       "    </tr>\n",
       "    <tr>\n",
       "      <th>3</th>\n",
       "      <td>38000</td>\n",
       "      <td>12</td>\n",
       "    </tr>\n",
       "  </tbody>\n",
       "</table>\n",
       "</div>"
      ],
      "text/plain": [
       "   Salario  Antiguedad\n",
       "1    30000           9\n",
       "2    45000          13\n",
       "3    38000          12"
      ]
     },
     "execution_count": 27,
     "metadata": {},
     "output_type": "execute_result"
    }
   ],
   "source": [
    "df1"
   ]
  },
  {
   "cell_type": "code",
   "execution_count": 28,
   "id": "77983ef8-4ac6-4115-be30-fd0521bb32a1",
   "metadata": {},
   "outputs": [
    {
     "data": {
      "text/html": [
       "<div>\n",
       "<style scoped>\n",
       "    .dataframe tbody tr th:only-of-type {\n",
       "        vertical-align: middle;\n",
       "    }\n",
       "\n",
       "    .dataframe tbody tr th {\n",
       "        vertical-align: top;\n",
       "    }\n",
       "\n",
       "    .dataframe thead th {\n",
       "        text-align: right;\n",
       "    }\n",
       "</style>\n",
       "<table border=\"1\" class=\"dataframe\">\n",
       "  <thead>\n",
       "    <tr style=\"text-align: right;\">\n",
       "      <th></th>\n",
       "      <th>Ciudad</th>\n",
       "      <th>Jerarquia</th>\n",
       "    </tr>\n",
       "  </thead>\n",
       "  <tbody>\n",
       "    <tr>\n",
       "      <th>1</th>\n",
       "      <td>Madrid</td>\n",
       "      <td>Baja</td>\n",
       "    </tr>\n",
       "    <tr>\n",
       "      <th>2</th>\n",
       "      <td>Barcelona</td>\n",
       "      <td>Alta</td>\n",
       "    </tr>\n",
       "    <tr>\n",
       "      <th>4</th>\n",
       "      <td>Valencia</td>\n",
       "      <td>Media</td>\n",
       "    </tr>\n",
       "  </tbody>\n",
       "</table>\n",
       "</div>"
      ],
      "text/plain": [
       "      Ciudad Jerarquia\n",
       "1     Madrid      Baja\n",
       "2  Barcelona      Alta\n",
       "4   Valencia     Media"
      ]
     },
     "execution_count": 28,
     "metadata": {},
     "output_type": "execute_result"
    }
   ],
   "source": [
    "df2"
   ]
  },
  {
   "cell_type": "code",
   "execution_count": 29,
   "id": "12a5f9e0-67cb-4c59-8db2-e9867e771f7e",
   "metadata": {},
   "outputs": [
    {
     "data": {
      "text/html": [
       "<div>\n",
       "<style scoped>\n",
       "    .dataframe tbody tr th:only-of-type {\n",
       "        vertical-align: middle;\n",
       "    }\n",
       "\n",
       "    .dataframe tbody tr th {\n",
       "        vertical-align: top;\n",
       "    }\n",
       "\n",
       "    .dataframe thead th {\n",
       "        text-align: right;\n",
       "    }\n",
       "</style>\n",
       "<table border=\"1\" class=\"dataframe\">\n",
       "  <thead>\n",
       "    <tr style=\"text-align: right;\">\n",
       "      <th></th>\n",
       "      <th>Salario</th>\n",
       "      <th>Antiguedad</th>\n",
       "      <th>Ciudad</th>\n",
       "      <th>Jerarquia</th>\n",
       "    </tr>\n",
       "  </thead>\n",
       "  <tbody>\n",
       "    <tr>\n",
       "      <th>1</th>\n",
       "      <td>30000</td>\n",
       "      <td>9</td>\n",
       "      <td>Madrid</td>\n",
       "      <td>Baja</td>\n",
       "    </tr>\n",
       "    <tr>\n",
       "      <th>2</th>\n",
       "      <td>45000</td>\n",
       "      <td>13</td>\n",
       "      <td>Barcelona</td>\n",
       "      <td>Alta</td>\n",
       "    </tr>\n",
       "    <tr>\n",
       "      <th>3</th>\n",
       "      <td>38000</td>\n",
       "      <td>12</td>\n",
       "      <td>NaN</td>\n",
       "      <td>NaN</td>\n",
       "    </tr>\n",
       "  </tbody>\n",
       "</table>\n",
       "</div>"
      ],
      "text/plain": [
       "   Salario  Antiguedad     Ciudad Jerarquia\n",
       "1    30000           9     Madrid      Baja\n",
       "2    45000          13  Barcelona      Alta\n",
       "3    38000          12        NaN       NaN"
      ]
     },
     "execution_count": 29,
     "metadata": {},
     "output_type": "execute_result"
    }
   ],
   "source": [
    "df_unido = df1.join(df2)\n",
    "df_unido"
   ]
  },
  {
   "cell_type": "code",
   "execution_count": 30,
   "id": "bfbf285d-b0e5-4de7-8142-91732d472ac4",
   "metadata": {},
   "outputs": [
    {
     "data": {
      "text/html": [
       "<div>\n",
       "<style scoped>\n",
       "    .dataframe tbody tr th:only-of-type {\n",
       "        vertical-align: middle;\n",
       "    }\n",
       "\n",
       "    .dataframe tbody tr th {\n",
       "        vertical-align: top;\n",
       "    }\n",
       "\n",
       "    .dataframe thead th {\n",
       "        text-align: right;\n",
       "    }\n",
       "</style>\n",
       "<table border=\"1\" class=\"dataframe\">\n",
       "  <thead>\n",
       "    <tr style=\"text-align: right;\">\n",
       "      <th></th>\n",
       "      <th>Salario</th>\n",
       "      <th>Antiguedad</th>\n",
       "      <th>Ciudad</th>\n",
       "      <th>Jerarquia</th>\n",
       "    </tr>\n",
       "  </thead>\n",
       "  <tbody>\n",
       "    <tr>\n",
       "      <th>1</th>\n",
       "      <td>30000</td>\n",
       "      <td>9</td>\n",
       "      <td>Madrid</td>\n",
       "      <td>Baja</td>\n",
       "    </tr>\n",
       "    <tr>\n",
       "      <th>2</th>\n",
       "      <td>45000</td>\n",
       "      <td>13</td>\n",
       "      <td>Barcelona</td>\n",
       "      <td>Alta</td>\n",
       "    </tr>\n",
       "  </tbody>\n",
       "</table>\n",
       "</div>"
      ],
      "text/plain": [
       "   Salario  Antiguedad     Ciudad Jerarquia\n",
       "1    30000           9     Madrid      Baja\n",
       "2    45000          13  Barcelona      Alta"
      ]
     },
     "execution_count": 30,
     "metadata": {},
     "output_type": "execute_result"
    }
   ],
   "source": [
    "df_unido = df1.join(df2, how='inner')\n",
    "df_unido"
   ]
  },
  {
   "cell_type": "code",
   "execution_count": 31,
   "id": "77a89694-904b-415e-9890-17a72f29a788",
   "metadata": {},
   "outputs": [
    {
     "data": {
      "text/html": [
       "<div>\n",
       "<style scoped>\n",
       "    .dataframe tbody tr th:only-of-type {\n",
       "        vertical-align: middle;\n",
       "    }\n",
       "\n",
       "    .dataframe tbody tr th {\n",
       "        vertical-align: top;\n",
       "    }\n",
       "\n",
       "    .dataframe thead th {\n",
       "        text-align: right;\n",
       "    }\n",
       "</style>\n",
       "<table border=\"1\" class=\"dataframe\">\n",
       "  <thead>\n",
       "    <tr style=\"text-align: right;\">\n",
       "      <th></th>\n",
       "      <th>Nombre</th>\n",
       "      <th>Precio</th>\n",
       "      <th>NombreCategoria</th>\n",
       "    </tr>\n",
       "    <tr>\n",
       "      <th>CategoriaID</th>\n",
       "      <th></th>\n",
       "      <th></th>\n",
       "      <th></th>\n",
       "    </tr>\n",
       "  </thead>\n",
       "  <tbody>\n",
       "    <tr>\n",
       "      <th>1</th>\n",
       "      <td>Producto 1</td>\n",
       "      <td>100</td>\n",
       "      <td>Categoría 1</td>\n",
       "    </tr>\n",
       "    <tr>\n",
       "      <th>2</th>\n",
       "      <td>Producto 2</td>\n",
       "      <td>150</td>\n",
       "      <td>Categoría 2</td>\n",
       "    </tr>\n",
       "    <tr>\n",
       "      <th>3</th>\n",
       "      <td>Producto 3</td>\n",
       "      <td>200</td>\n",
       "      <td>Categoría 3</td>\n",
       "    </tr>\n",
       "  </tbody>\n",
       "</table>\n",
       "</div>"
      ],
      "text/plain": [
       "                 Nombre  Precio NombreCategoria\n",
       "CategoriaID                                    \n",
       "1            Producto 1     100     Categoría 1\n",
       "2            Producto 2     150     Categoría 2\n",
       "3            Producto 3     200     Categoría 3"
      ]
     },
     "execution_count": 31,
     "metadata": {},
     "output_type": "execute_result"
    }
   ],
   "source": [
    "import pandas as pd\n",
    "\n",
    "\n",
    "productos_df = pd.DataFrame({\n",
    "    'ProductoID': [1, 2, 3, 4],\n",
    "    'Nombre': ['Producto 1', 'Producto 2', 'Producto 3', 'Producto 4'],\n",
    "    'Precio': [100, 150, 200, 250]\n",
    "})\n",
    "\n",
    "\n",
    "\n",
    "productos_df = productos_df.set_index('ProductoID')\n",
    "\n",
    "\n",
    "\n",
    "categorias_df = pd.DataFrame({\n",
    "    'CategoriaID': [1, 2, 3],\n",
    "    'NombreCategoria': ['Categoría 1', 'Categoría 2', 'Categoría 3']\n",
    "}).set_index('CategoriaID')\n",
    "\n",
    "\n",
    "df_combinado = productos_df.join(categorias_df, how='right')\n",
    "\n",
    "df_combinado"
   ]
  },
  {
   "cell_type": "markdown",
   "id": "4603f506-0ef8-4175-83e7-fea5d1affbbe",
   "metadata": {},
   "source": [
    "**VIDEO 5**"
   ]
  },
  {
   "cell_type": "code",
   "execution_count": 32,
   "id": "a2fd72ef-6c43-4fd9-a107-0cddd05a2a21",
   "metadata": {},
   "outputs": [],
   "source": [
    "import pandas as pd"
   ]
  },
  {
   "cell_type": "code",
   "execution_count": 33,
   "id": "9193ca93-8d97-4c71-989a-d6a1adddfe2a",
   "metadata": {},
   "outputs": [
    {
     "data": {
      "text/html": [
       "<div>\n",
       "<style scoped>\n",
       "    .dataframe tbody tr th:only-of-type {\n",
       "        vertical-align: middle;\n",
       "    }\n",
       "\n",
       "    .dataframe tbody tr th {\n",
       "        vertical-align: top;\n",
       "    }\n",
       "\n",
       "    .dataframe thead th {\n",
       "        text-align: right;\n",
       "    }\n",
       "</style>\n",
       "<table border=\"1\" class=\"dataframe\">\n",
       "  <thead>\n",
       "    <tr style=\"text-align: right;\">\n",
       "      <th></th>\n",
       "      <th>Nombre</th>\n",
       "      <th>Edad</th>\n",
       "    </tr>\n",
       "  </thead>\n",
       "  <tbody>\n",
       "    <tr>\n",
       "      <th>0</th>\n",
       "      <td>Juan</td>\n",
       "      <td>23</td>\n",
       "    </tr>\n",
       "    <tr>\n",
       "      <th>1</th>\n",
       "      <td>Gabriela</td>\n",
       "      <td>31</td>\n",
       "    </tr>\n",
       "    <tr>\n",
       "      <th>2</th>\n",
       "      <td>Elena</td>\n",
       "      <td>21</td>\n",
       "    </tr>\n",
       "  </tbody>\n",
       "</table>\n",
       "</div>"
      ],
      "text/plain": [
       "     Nombre  Edad\n",
       "0      Juan    23\n",
       "1  Gabriela    31\n",
       "2     Elena    21"
      ]
     },
     "execution_count": 33,
     "metadata": {},
     "output_type": "execute_result"
    }
   ],
   "source": [
    "df1 = pd.DataFrame({'Nombre': ['Juan', 'Gabriela', 'Elena'], 'Edad':[23,31,21]})\n",
    "df1"
   ]
  },
  {
   "cell_type": "code",
   "execution_count": 34,
   "id": "b4fbb285-6d0d-400d-9b76-7110b9a261ac",
   "metadata": {},
   "outputs": [
    {
     "data": {
      "text/html": [
       "<div>\n",
       "<style scoped>\n",
       "    .dataframe tbody tr th:only-of-type {\n",
       "        vertical-align: middle;\n",
       "    }\n",
       "\n",
       "    .dataframe tbody tr th {\n",
       "        vertical-align: top;\n",
       "    }\n",
       "\n",
       "    .dataframe thead th {\n",
       "        text-align: right;\n",
       "    }\n",
       "</style>\n",
       "<table border=\"1\" class=\"dataframe\">\n",
       "  <thead>\n",
       "    <tr style=\"text-align: right;\">\n",
       "      <th></th>\n",
       "      <th>Nombre</th>\n",
       "      <th>Edad</th>\n",
       "    </tr>\n",
       "  </thead>\n",
       "  <tbody>\n",
       "    <tr>\n",
       "      <th>0</th>\n",
       "      <td>Carmela</td>\n",
       "      <td>34</td>\n",
       "    </tr>\n",
       "    <tr>\n",
       "      <th>1</th>\n",
       "      <td>Max</td>\n",
       "      <td>25</td>\n",
       "    </tr>\n",
       "    <tr>\n",
       "      <th>2</th>\n",
       "      <td>Laura</td>\n",
       "      <td>29</td>\n",
       "    </tr>\n",
       "  </tbody>\n",
       "</table>\n",
       "</div>"
      ],
      "text/plain": [
       "    Nombre  Edad\n",
       "0  Carmela    34\n",
       "1      Max    25\n",
       "2    Laura    29"
      ]
     },
     "execution_count": 34,
     "metadata": {},
     "output_type": "execute_result"
    }
   ],
   "source": [
    "df2 = pd.DataFrame({'Nombre': ['Carmela', 'Max', 'Laura'], 'Edad':[34,25,29]})\n",
    "df2"
   ]
  },
  {
   "cell_type": "code",
   "execution_count": 35,
   "id": "602b7938-cd67-4dc2-abb5-49ea89083b8f",
   "metadata": {},
   "outputs": [
    {
     "data": {
      "text/html": [
       "<div>\n",
       "<style scoped>\n",
       "    .dataframe tbody tr th:only-of-type {\n",
       "        vertical-align: middle;\n",
       "    }\n",
       "\n",
       "    .dataframe tbody tr th {\n",
       "        vertical-align: top;\n",
       "    }\n",
       "\n",
       "    .dataframe thead th {\n",
       "        text-align: right;\n",
       "    }\n",
       "</style>\n",
       "<table border=\"1\" class=\"dataframe\">\n",
       "  <thead>\n",
       "    <tr style=\"text-align: right;\">\n",
       "      <th></th>\n",
       "      <th>Nombre</th>\n",
       "      <th>Edad</th>\n",
       "    </tr>\n",
       "  </thead>\n",
       "  <tbody>\n",
       "    <tr>\n",
       "      <th>0</th>\n",
       "      <td>Juan</td>\n",
       "      <td>23</td>\n",
       "    </tr>\n",
       "    <tr>\n",
       "      <th>1</th>\n",
       "      <td>Gabriela</td>\n",
       "      <td>31</td>\n",
       "    </tr>\n",
       "    <tr>\n",
       "      <th>2</th>\n",
       "      <td>Elena</td>\n",
       "      <td>21</td>\n",
       "    </tr>\n",
       "    <tr>\n",
       "      <th>0</th>\n",
       "      <td>Carmela</td>\n",
       "      <td>34</td>\n",
       "    </tr>\n",
       "    <tr>\n",
       "      <th>1</th>\n",
       "      <td>Max</td>\n",
       "      <td>25</td>\n",
       "    </tr>\n",
       "    <tr>\n",
       "      <th>2</th>\n",
       "      <td>Laura</td>\n",
       "      <td>29</td>\n",
       "    </tr>\n",
       "  </tbody>\n",
       "</table>\n",
       "</div>"
      ],
      "text/plain": [
       "     Nombre  Edad\n",
       "0      Juan    23\n",
       "1  Gabriela    31\n",
       "2     Elena    21\n",
       "0   Carmela    34\n",
       "1       Max    25\n",
       "2     Laura    29"
      ]
     },
     "execution_count": 35,
     "metadata": {},
     "output_type": "execute_result"
    }
   ],
   "source": [
    "dfConcatenado = pd.concat([df1, df2])\n",
    "dfConcatenado"
   ]
  },
  {
   "cell_type": "code",
   "execution_count": 36,
   "id": "c67426a6-3c83-4a60-a67e-61b1516cbcdd",
   "metadata": {},
   "outputs": [
    {
     "data": {
      "text/html": [
       "<div>\n",
       "<style scoped>\n",
       "    .dataframe tbody tr th:only-of-type {\n",
       "        vertical-align: middle;\n",
       "    }\n",
       "\n",
       "    .dataframe tbody tr th {\n",
       "        vertical-align: top;\n",
       "    }\n",
       "\n",
       "    .dataframe thead th {\n",
       "        text-align: right;\n",
       "    }\n",
       "</style>\n",
       "<table border=\"1\" class=\"dataframe\">\n",
       "  <thead>\n",
       "    <tr style=\"text-align: right;\">\n",
       "      <th></th>\n",
       "      <th>Nombre</th>\n",
       "      <th>Edad</th>\n",
       "      <th>Nombre</th>\n",
       "      <th>Edad</th>\n",
       "    </tr>\n",
       "  </thead>\n",
       "  <tbody>\n",
       "    <tr>\n",
       "      <th>0</th>\n",
       "      <td>Juan</td>\n",
       "      <td>23</td>\n",
       "      <td>Carmela</td>\n",
       "      <td>34</td>\n",
       "    </tr>\n",
       "    <tr>\n",
       "      <th>1</th>\n",
       "      <td>Gabriela</td>\n",
       "      <td>31</td>\n",
       "      <td>Max</td>\n",
       "      <td>25</td>\n",
       "    </tr>\n",
       "    <tr>\n",
       "      <th>2</th>\n",
       "      <td>Elena</td>\n",
       "      <td>21</td>\n",
       "      <td>Laura</td>\n",
       "      <td>29</td>\n",
       "    </tr>\n",
       "  </tbody>\n",
       "</table>\n",
       "</div>"
      ],
      "text/plain": [
       "     Nombre  Edad   Nombre  Edad\n",
       "0      Juan    23  Carmela    34\n",
       "1  Gabriela    31      Max    25\n",
       "2     Elena    21    Laura    29"
      ]
     },
     "execution_count": 36,
     "metadata": {},
     "output_type": "execute_result"
    }
   ],
   "source": [
    "dfConcatenado2 = pd.concat([df1, df2], axis=1)\n",
    "dfConcatenado2"
   ]
  },
  {
   "cell_type": "code",
   "execution_count": 37,
   "id": "ba43d767-9a44-4b84-8327-872e23a77bcc",
   "metadata": {},
   "outputs": [
    {
     "data": {
      "text/html": [
       "<div>\n",
       "<style scoped>\n",
       "    .dataframe tbody tr th:only-of-type {\n",
       "        vertical-align: middle;\n",
       "    }\n",
       "\n",
       "    .dataframe tbody tr th {\n",
       "        vertical-align: top;\n",
       "    }\n",
       "\n",
       "    .dataframe thead th {\n",
       "        text-align: right;\n",
       "    }\n",
       "</style>\n",
       "<table border=\"1\" class=\"dataframe\">\n",
       "  <thead>\n",
       "    <tr style=\"text-align: right;\">\n",
       "      <th></th>\n",
       "      <th>Nombre</th>\n",
       "      <th>Edad</th>\n",
       "    </tr>\n",
       "  </thead>\n",
       "  <tbody>\n",
       "    <tr>\n",
       "      <th>0</th>\n",
       "      <td>Juan</td>\n",
       "      <td>23</td>\n",
       "    </tr>\n",
       "    <tr>\n",
       "      <th>1</th>\n",
       "      <td>Gabriela</td>\n",
       "      <td>31</td>\n",
       "    </tr>\n",
       "    <tr>\n",
       "      <th>2</th>\n",
       "      <td>Elena</td>\n",
       "      <td>21</td>\n",
       "    </tr>\n",
       "    <tr>\n",
       "      <th>3</th>\n",
       "      <td>Carmela</td>\n",
       "      <td>34</td>\n",
       "    </tr>\n",
       "    <tr>\n",
       "      <th>4</th>\n",
       "      <td>Max</td>\n",
       "      <td>25</td>\n",
       "    </tr>\n",
       "    <tr>\n",
       "      <th>5</th>\n",
       "      <td>Laura</td>\n",
       "      <td>29</td>\n",
       "    </tr>\n",
       "  </tbody>\n",
       "</table>\n",
       "</div>"
      ],
      "text/plain": [
       "     Nombre  Edad\n",
       "0      Juan    23\n",
       "1  Gabriela    31\n",
       "2     Elena    21\n",
       "3   Carmela    34\n",
       "4       Max    25\n",
       "5     Laura    29"
      ]
     },
     "execution_count": 37,
     "metadata": {},
     "output_type": "execute_result"
    }
   ],
   "source": [
    "dfConcatenado = pd.concat([df1, df2], ignore_index=True)\n",
    "dfConcatenado"
   ]
  },
  {
   "cell_type": "code",
   "execution_count": 38,
   "id": "d91ffa92-b181-4ed6-a9ff-c6c1bb315cb5",
   "metadata": {},
   "outputs": [
    {
     "data": {
      "text/html": [
       "<div>\n",
       "<style scoped>\n",
       "    .dataframe tbody tr th:only-of-type {\n",
       "        vertical-align: middle;\n",
       "    }\n",
       "\n",
       "    .dataframe tbody tr th {\n",
       "        vertical-align: top;\n",
       "    }\n",
       "\n",
       "    .dataframe thead th {\n",
       "        text-align: right;\n",
       "    }\n",
       "</style>\n",
       "<table border=\"1\" class=\"dataframe\">\n",
       "  <thead>\n",
       "    <tr style=\"text-align: right;\">\n",
       "      <th></th>\n",
       "      <th></th>\n",
       "      <th>Nombre</th>\n",
       "      <th>Edad</th>\n",
       "    </tr>\n",
       "  </thead>\n",
       "  <tbody>\n",
       "    <tr>\n",
       "      <th rowspan=\"3\" valign=\"top\">df1</th>\n",
       "      <th>0</th>\n",
       "      <td>Juan</td>\n",
       "      <td>23</td>\n",
       "    </tr>\n",
       "    <tr>\n",
       "      <th>1</th>\n",
       "      <td>Gabriela</td>\n",
       "      <td>31</td>\n",
       "    </tr>\n",
       "    <tr>\n",
       "      <th>2</th>\n",
       "      <td>Elena</td>\n",
       "      <td>21</td>\n",
       "    </tr>\n",
       "    <tr>\n",
       "      <th rowspan=\"3\" valign=\"top\">df2</th>\n",
       "      <th>0</th>\n",
       "      <td>Carmela</td>\n",
       "      <td>34</td>\n",
       "    </tr>\n",
       "    <tr>\n",
       "      <th>1</th>\n",
       "      <td>Max</td>\n",
       "      <td>25</td>\n",
       "    </tr>\n",
       "    <tr>\n",
       "      <th>2</th>\n",
       "      <td>Laura</td>\n",
       "      <td>29</td>\n",
       "    </tr>\n",
       "  </tbody>\n",
       "</table>\n",
       "</div>"
      ],
      "text/plain": [
       "         Nombre  Edad\n",
       "df1 0      Juan    23\n",
       "    1  Gabriela    31\n",
       "    2     Elena    21\n",
       "df2 0   Carmela    34\n",
       "    1       Max    25\n",
       "    2     Laura    29"
      ]
     },
     "execution_count": 38,
     "metadata": {},
     "output_type": "execute_result"
    }
   ],
   "source": [
    "dfConcatenado = pd.concat([df1, df2], keys=['df1', 'df2'])\n",
    "dfConcatenado"
   ]
  },
  {
   "cell_type": "code",
   "execution_count": 39,
   "id": "71bef790-1d27-4791-8895-b8112f7ebd41",
   "metadata": {},
   "outputs": [
    {
     "data": {
      "text/html": [
       "<div>\n",
       "<style scoped>\n",
       "    .dataframe tbody tr th:only-of-type {\n",
       "        vertical-align: middle;\n",
       "    }\n",
       "\n",
       "    .dataframe tbody tr th {\n",
       "        vertical-align: top;\n",
       "    }\n",
       "\n",
       "    .dataframe thead th {\n",
       "        text-align: right;\n",
       "    }\n",
       "</style>\n",
       "<table border=\"1\" class=\"dataframe\">\n",
       "  <thead>\n",
       "    <tr style=\"text-align: right;\">\n",
       "      <th></th>\n",
       "      <th></th>\n",
       "      <th>Nombre</th>\n",
       "      <th>Edad</th>\n",
       "    </tr>\n",
       "  </thead>\n",
       "  <tbody>\n",
       "    <tr>\n",
       "      <th rowspan=\"3\" valign=\"top\">enero</th>\n",
       "      <th>0</th>\n",
       "      <td>Juan</td>\n",
       "      <td>23</td>\n",
       "    </tr>\n",
       "    <tr>\n",
       "      <th>1</th>\n",
       "      <td>Gabriela</td>\n",
       "      <td>31</td>\n",
       "    </tr>\n",
       "    <tr>\n",
       "      <th>2</th>\n",
       "      <td>Elena</td>\n",
       "      <td>21</td>\n",
       "    </tr>\n",
       "    <tr>\n",
       "      <th rowspan=\"3\" valign=\"top\">febrero</th>\n",
       "      <th>0</th>\n",
       "      <td>Carmela</td>\n",
       "      <td>34</td>\n",
       "    </tr>\n",
       "    <tr>\n",
       "      <th>1</th>\n",
       "      <td>Max</td>\n",
       "      <td>25</td>\n",
       "    </tr>\n",
       "    <tr>\n",
       "      <th>2</th>\n",
       "      <td>Laura</td>\n",
       "      <td>29</td>\n",
       "    </tr>\n",
       "  </tbody>\n",
       "</table>\n",
       "</div>"
      ],
      "text/plain": [
       "             Nombre  Edad\n",
       "enero   0      Juan    23\n",
       "        1  Gabriela    31\n",
       "        2     Elena    21\n",
       "febrero 0   Carmela    34\n",
       "        1       Max    25\n",
       "        2     Laura    29"
      ]
     },
     "execution_count": 39,
     "metadata": {},
     "output_type": "execute_result"
    }
   ],
   "source": [
    "dfConcatenado = pd.concat([df1, df2], keys=['enero', 'febrero'])\n",
    "dfConcatenado"
   ]
  },
  {
   "cell_type": "markdown",
   "id": "db1d43c5-0445-4a00-bd83-a4d54e1ac882",
   "metadata": {},
   "source": [
    "**VIDEO 6**"
   ]
  },
  {
   "cell_type": "code",
   "execution_count": 40,
   "id": "4c555ab6-d0a5-4f77-a34d-5af3defdb255",
   "metadata": {},
   "outputs": [
    {
     "data": {
      "text/plain": [
       "0   2024-01-01\n",
       "1   2024-01-02\n",
       "2   2024-01-03\n",
       "3   2024-01-04\n",
       "4   2024-01-05\n",
       "5   2024-01-06\n",
       "dtype: datetime64[ns]"
      ]
     },
     "execution_count": 40,
     "metadata": {},
     "output_type": "execute_result"
    }
   ],
   "source": [
    "import pandas as pd\n",
    "\n",
    "fechas = pd.Series(pd.date_range('20240101', periods=6))\n",
    "fechas"
   ]
  },
  {
   "cell_type": "code",
   "execution_count": 41,
   "id": "38a320eb-fde2-41eb-b35f-6c4d99cbf111",
   "metadata": {},
   "outputs": [
    {
     "data": {
      "text/plain": [
       "pandas._libs.tslibs.timestamps.Timestamp"
      ]
     },
     "execution_count": 41,
     "metadata": {},
     "output_type": "execute_result"
    }
   ],
   "source": [
    "type(fechas[0])"
   ]
  },
  {
   "cell_type": "code",
   "execution_count": 42,
   "id": "7784d4a5-afa4-47c3-b92e-79be62109d6d",
   "metadata": {},
   "outputs": [
    {
     "data": {
      "text/plain": [
       "0   2024-01-01\n",
       "1   2024-01-02\n",
       "2   2024-01-03\n",
       "3   2024-01-04\n",
       "4   2024-01-05\n",
       "5   2024-01-06\n",
       "dtype: datetime64[ns]"
      ]
     },
     "execution_count": 42,
     "metadata": {},
     "output_type": "execute_result"
    }
   ],
   "source": [
    "fechas = pd.Series(pd.date_range('20240101', periods=6, freq='D'))\n",
    "fechas"
   ]
  },
  {
   "cell_type": "code",
   "execution_count": 43,
   "id": "3a02d0bc-dafa-4c37-82df-9bb3e799b4e0",
   "metadata": {},
   "outputs": [
    {
     "name": "stderr",
     "output_type": "stream",
     "text": [
      "C:\\Users\\pestrm1\\AppData\\Local\\Temp\\ipykernel_24512\\661938073.py:1: FutureWarning: 'M' is deprecated and will be removed in a future version, please use 'ME' instead.\n",
      "  fechas = pd.Series(pd.date_range('20240101', periods=6, freq='M'))\n"
     ]
    },
    {
     "data": {
      "text/plain": [
       "0   2024-01-31\n",
       "1   2024-02-29\n",
       "2   2024-03-31\n",
       "3   2024-04-30\n",
       "4   2024-05-31\n",
       "5   2024-06-30\n",
       "dtype: datetime64[ns]"
      ]
     },
     "execution_count": 43,
     "metadata": {},
     "output_type": "execute_result"
    }
   ],
   "source": [
    "fechas = pd.Series(pd.date_range('20240101', periods=6, freq='M'))\n",
    "fechas"
   ]
  },
  {
   "cell_type": "code",
   "execution_count": 44,
   "id": "514a4a38-49ac-4e0b-9a21-0fa8dbdc225b",
   "metadata": {},
   "outputs": [
    {
     "name": "stderr",
     "output_type": "stream",
     "text": [
      "C:\\Users\\pestrm1\\AppData\\Local\\Temp\\ipykernel_24512\\2898099646.py:1: FutureWarning: 'Y' is deprecated and will be removed in a future version, please use 'YE' instead.\n",
      "  fechas = pd.Series(pd.date_range('20240101', periods=6, freq='Y'))\n"
     ]
    },
    {
     "data": {
      "text/plain": [
       "0   2024-12-31\n",
       "1   2025-12-31\n",
       "2   2026-12-31\n",
       "3   2027-12-31\n",
       "4   2028-12-31\n",
       "5   2029-12-31\n",
       "dtype: datetime64[ns]"
      ]
     },
     "execution_count": 44,
     "metadata": {},
     "output_type": "execute_result"
    }
   ],
   "source": [
    "fechas = pd.Series(pd.date_range('20240101', periods=6, freq='Y'))\n",
    "fechas"
   ]
  },
  {
   "cell_type": "code",
   "execution_count": 45,
   "id": "e6141a93-d0ac-4106-86b0-c6e0891da7ba",
   "metadata": {},
   "outputs": [
    {
     "name": "stderr",
     "output_type": "stream",
     "text": [
      "C:\\Users\\pestrm1\\AppData\\Local\\Temp\\ipykernel_24512\\3246372151.py:1: FutureWarning: 'H' is deprecated and will be removed in a future version, please use 'h' instead.\n",
      "  fechas = pd.Series(pd.date_range('20240101', periods=6, freq='H'))\n"
     ]
    },
    {
     "data": {
      "text/plain": [
       "0   2024-01-01 00:00:00\n",
       "1   2024-01-01 01:00:00\n",
       "2   2024-01-01 02:00:00\n",
       "3   2024-01-01 03:00:00\n",
       "4   2024-01-01 04:00:00\n",
       "5   2024-01-01 05:00:00\n",
       "dtype: datetime64[ns]"
      ]
     },
     "execution_count": 45,
     "metadata": {},
     "output_type": "execute_result"
    }
   ],
   "source": [
    "fechas = pd.Series(pd.date_range('20240101', periods=6, freq='H'))\n",
    "fechas"
   ]
  },
  {
   "cell_type": "code",
   "execution_count": 46,
   "id": "eb03ff11-16e6-4e53-9db9-95a4348edbef",
   "metadata": {},
   "outputs": [
    {
     "name": "stderr",
     "output_type": "stream",
     "text": [
      "C:\\Users\\pestrm1\\AppData\\Local\\Temp\\ipykernel_24512\\898040804.py:1: FutureWarning: 'MIN' is deprecated and will be removed in a future version, please use 'min' instead.\n",
      "  fechas = pd.Series(pd.date_range('20240101', periods=6, freq='MIN'))\n"
     ]
    },
    {
     "data": {
      "text/plain": [
       "0   2024-01-01 00:00:00\n",
       "1   2024-01-01 00:01:00\n",
       "2   2024-01-01 00:02:00\n",
       "3   2024-01-01 00:03:00\n",
       "4   2024-01-01 00:04:00\n",
       "5   2024-01-01 00:05:00\n",
       "dtype: datetime64[ns]"
      ]
     },
     "execution_count": 46,
     "metadata": {},
     "output_type": "execute_result"
    }
   ],
   "source": [
    "fechas = pd.Series(pd.date_range('20240101', periods=6, freq='MIN'))\n",
    "fechas"
   ]
  },
  {
   "cell_type": "code",
   "execution_count": 47,
   "id": "719ef87c-b028-4ff3-a174-0382fb9d1ef4",
   "metadata": {},
   "outputs": [
    {
     "data": {
      "text/plain": [
       "0   2024-01-01\n",
       "1   2024-01-06\n",
       "2   2024-01-11\n",
       "3   2024-01-16\n",
       "4   2024-01-21\n",
       "5   2024-01-26\n",
       "dtype: datetime64[ns]"
      ]
     },
     "execution_count": 47,
     "metadata": {},
     "output_type": "execute_result"
    }
   ],
   "source": [
    "fechas = pd.Series(pd.date_range('20240101', periods=6, freq='5D'))\n",
    "fechas"
   ]
  },
  {
   "cell_type": "code",
   "execution_count": 48,
   "id": "63b5e220-0b92-4940-9ecf-8635f7e6d0b4",
   "metadata": {},
   "outputs": [
    {
     "data": {
      "text/html": [
       "<div>\n",
       "<style scoped>\n",
       "    .dataframe tbody tr th:only-of-type {\n",
       "        vertical-align: middle;\n",
       "    }\n",
       "\n",
       "    .dataframe tbody tr th {\n",
       "        vertical-align: top;\n",
       "    }\n",
       "\n",
       "    .dataframe thead th {\n",
       "        text-align: right;\n",
       "    }\n",
       "</style>\n",
       "<table border=\"1\" class=\"dataframe\">\n",
       "  <thead>\n",
       "    <tr style=\"text-align: right;\">\n",
       "      <th></th>\n",
       "      <th>Ticker</th>\n",
       "      <th>Fecha</th>\n",
       "      <th>Cierre</th>\n",
       "      <th>Referencia</th>\n",
       "      <th>Volumen</th>\n",
       "      <th>Rotacion</th>\n",
       "      <th>Ultimo</th>\n",
       "      <th>Alto</th>\n",
       "      <th>Bajo</th>\n",
       "      <th>Promedio</th>\n",
       "    </tr>\n",
       "  </thead>\n",
       "  <tbody>\n",
       "    <tr>\n",
       "      <th>0</th>\n",
       "      <td>ANA</td>\n",
       "      <td>02/01/2019</td>\n",
       "      <td>74.80</td>\n",
       "      <td>73.90</td>\n",
       "      <td>156300</td>\n",
       "      <td>11621188.98</td>\n",
       "      <td>74.80</td>\n",
       "      <td>75.16</td>\n",
       "      <td>72.38</td>\n",
       "      <td>74.3518</td>\n",
       "    </tr>\n",
       "    <tr>\n",
       "      <th>1</th>\n",
       "      <td>ANA</td>\n",
       "      <td>03/01/2019</td>\n",
       "      <td>76.34</td>\n",
       "      <td>74.80</td>\n",
       "      <td>140331</td>\n",
       "      <td>10632703.64</td>\n",
       "      <td>76.34</td>\n",
       "      <td>76.60</td>\n",
       "      <td>74.54</td>\n",
       "      <td>75.7687</td>\n",
       "    </tr>\n",
       "    <tr>\n",
       "      <th>2</th>\n",
       "      <td>ANA</td>\n",
       "      <td>04/01/2019</td>\n",
       "      <td>76.62</td>\n",
       "      <td>76.34</td>\n",
       "      <td>130309</td>\n",
       "      <td>10010838.76</td>\n",
       "      <td>76.62</td>\n",
       "      <td>77.40</td>\n",
       "      <td>76.40</td>\n",
       "      <td>76.8162</td>\n",
       "    </tr>\n",
       "    <tr>\n",
       "      <th>3</th>\n",
       "      <td>ANA</td>\n",
       "      <td>07/01/2019</td>\n",
       "      <td>77.14</td>\n",
       "      <td>76.62</td>\n",
       "      <td>63349</td>\n",
       "      <td>4855724.92</td>\n",
       "      <td>77.14</td>\n",
       "      <td>77.30</td>\n",
       "      <td>75.62</td>\n",
       "      <td>76.6504</td>\n",
       "    </tr>\n",
       "    <tr>\n",
       "      <th>4</th>\n",
       "      <td>ANA</td>\n",
       "      <td>08/01/2019</td>\n",
       "      <td>78.24</td>\n",
       "      <td>77.14</td>\n",
       "      <td>99300</td>\n",
       "      <td>7749464.70</td>\n",
       "      <td>78.24</td>\n",
       "      <td>78.46</td>\n",
       "      <td>77.00</td>\n",
       "      <td>78.0409</td>\n",
       "    </tr>\n",
       "    <tr>\n",
       "      <th>...</th>\n",
       "      <td>...</td>\n",
       "      <td>...</td>\n",
       "      <td>...</td>\n",
       "      <td>...</td>\n",
       "      <td>...</td>\n",
       "      <td>...</td>\n",
       "      <td>...</td>\n",
       "      <td>...</td>\n",
       "      <td>...</td>\n",
       "      <td>...</td>\n",
       "    </tr>\n",
       "    <tr>\n",
       "      <th>8570</th>\n",
       "      <td>VIS</td>\n",
       "      <td>09/12/2019</td>\n",
       "      <td>48.70</td>\n",
       "      <td>48.76</td>\n",
       "      <td>40236</td>\n",
       "      <td>1958325.66</td>\n",
       "      <td>48.70</td>\n",
       "      <td>48.96</td>\n",
       "      <td>48.44</td>\n",
       "      <td>48.6710</td>\n",
       "    </tr>\n",
       "    <tr>\n",
       "      <th>8571</th>\n",
       "      <td>VIS</td>\n",
       "      <td>10/12/2019</td>\n",
       "      <td>48.16</td>\n",
       "      <td>48.70</td>\n",
       "      <td>60198</td>\n",
       "      <td>2895965.78</td>\n",
       "      <td>48.16</td>\n",
       "      <td>48.74</td>\n",
       "      <td>47.70</td>\n",
       "      <td>48.1201</td>\n",
       "    </tr>\n",
       "    <tr>\n",
       "      <th>8572</th>\n",
       "      <td>VIS</td>\n",
       "      <td>11/12/2019</td>\n",
       "      <td>47.96</td>\n",
       "      <td>48.16</td>\n",
       "      <td>63000</td>\n",
       "      <td>3012462.12</td>\n",
       "      <td>47.96</td>\n",
       "      <td>48.42</td>\n",
       "      <td>47.52</td>\n",
       "      <td>47.8169</td>\n",
       "    </tr>\n",
       "    <tr>\n",
       "      <th>8573</th>\n",
       "      <td>VIS</td>\n",
       "      <td>12/12/2019</td>\n",
       "      <td>48.42</td>\n",
       "      <td>47.96</td>\n",
       "      <td>50218</td>\n",
       "      <td>2429199.80</td>\n",
       "      <td>48.42</td>\n",
       "      <td>48.66</td>\n",
       "      <td>47.76</td>\n",
       "      <td>48.3731</td>\n",
       "    </tr>\n",
       "    <tr>\n",
       "      <th>8574</th>\n",
       "      <td>VIS</td>\n",
       "      <td>13/12/2019</td>\n",
       "      <td>48.64</td>\n",
       "      <td>48.42</td>\n",
       "      <td>62427</td>\n",
       "      <td>3038685.10</td>\n",
       "      <td>48.64</td>\n",
       "      <td>49.18</td>\n",
       "      <td>48.12</td>\n",
       "      <td>48.6758</td>\n",
       "    </tr>\n",
       "  </tbody>\n",
       "</table>\n",
       "<p>8575 rows × 10 columns</p>\n",
       "</div>"
      ],
      "text/plain": [
       "     Ticker       Fecha  Cierre  Referencia  Volumen     Rotacion  Ultimo  \\\n",
       "0       ANA  02/01/2019   74.80       73.90   156300  11621188.98   74.80   \n",
       "1       ANA  03/01/2019   76.34       74.80   140331  10632703.64   76.34   \n",
       "2       ANA  04/01/2019   76.62       76.34   130309  10010838.76   76.62   \n",
       "3       ANA  07/01/2019   77.14       76.62    63349   4855724.92   77.14   \n",
       "4       ANA  08/01/2019   78.24       77.14    99300   7749464.70   78.24   \n",
       "...     ...         ...     ...         ...      ...          ...     ...   \n",
       "8570    VIS  09/12/2019   48.70       48.76    40236   1958325.66   48.70   \n",
       "8571    VIS  10/12/2019   48.16       48.70    60198   2895965.78   48.16   \n",
       "8572    VIS  11/12/2019   47.96       48.16    63000   3012462.12   47.96   \n",
       "8573    VIS  12/12/2019   48.42       47.96    50218   2429199.80   48.42   \n",
       "8574    VIS  13/12/2019   48.64       48.42    62427   3038685.10   48.64   \n",
       "\n",
       "       Alto   Bajo  Promedio  \n",
       "0     75.16  72.38   74.3518  \n",
       "1     76.60  74.54   75.7687  \n",
       "2     77.40  76.40   76.8162  \n",
       "3     77.30  75.62   76.6504  \n",
       "4     78.46  77.00   78.0409  \n",
       "...     ...    ...       ...  \n",
       "8570  48.96  48.44   48.6710  \n",
       "8571  48.74  47.70   48.1201  \n",
       "8572  48.42  47.52   47.8169  \n",
       "8573  48.66  47.76   48.3731  \n",
       "8574  49.18  48.12   48.6758  \n",
       "\n",
       "[8575 rows x 10 columns]"
      ]
     },
     "execution_count": 48,
     "metadata": {},
     "output_type": "execute_result"
    }
   ],
   "source": [
    "import pandas as pd\n",
    "\n",
    "df = pd.read_csv('mercadoValoresEspaña.csv')\n",
    "df"
   ]
  },
  {
   "cell_type": "code",
   "execution_count": 49,
   "id": "acf300a9-3afa-4044-be08-6a9b353a0fc9",
   "metadata": {},
   "outputs": [],
   "source": [
    "df['Fecha'] = pd.to_datetime(df['Fecha'], format='%d/%m/%Y')"
   ]
  },
  {
   "cell_type": "code",
   "execution_count": 50,
   "id": "4295292b-dc85-4306-9148-649c328e2666",
   "metadata": {},
   "outputs": [
    {
     "data": {
      "text/html": [
       "<div>\n",
       "<style scoped>\n",
       "    .dataframe tbody tr th:only-of-type {\n",
       "        vertical-align: middle;\n",
       "    }\n",
       "\n",
       "    .dataframe tbody tr th {\n",
       "        vertical-align: top;\n",
       "    }\n",
       "\n",
       "    .dataframe thead th {\n",
       "        text-align: right;\n",
       "    }\n",
       "</style>\n",
       "<table border=\"1\" class=\"dataframe\">\n",
       "  <thead>\n",
       "    <tr style=\"text-align: right;\">\n",
       "      <th></th>\n",
       "      <th>Ticker</th>\n",
       "      <th>Fecha</th>\n",
       "      <th>Cierre</th>\n",
       "      <th>Referencia</th>\n",
       "      <th>Volumen</th>\n",
       "      <th>Rotacion</th>\n",
       "      <th>Ultimo</th>\n",
       "      <th>Alto</th>\n",
       "      <th>Bajo</th>\n",
       "      <th>Promedio</th>\n",
       "    </tr>\n",
       "  </thead>\n",
       "  <tbody>\n",
       "    <tr>\n",
       "      <th>0</th>\n",
       "      <td>ANA</td>\n",
       "      <td>2019-01-02</td>\n",
       "      <td>74.80</td>\n",
       "      <td>73.90</td>\n",
       "      <td>156300</td>\n",
       "      <td>11621188.98</td>\n",
       "      <td>74.80</td>\n",
       "      <td>75.16</td>\n",
       "      <td>72.38</td>\n",
       "      <td>74.3518</td>\n",
       "    </tr>\n",
       "    <tr>\n",
       "      <th>1</th>\n",
       "      <td>ANA</td>\n",
       "      <td>2019-01-03</td>\n",
       "      <td>76.34</td>\n",
       "      <td>74.80</td>\n",
       "      <td>140331</td>\n",
       "      <td>10632703.64</td>\n",
       "      <td>76.34</td>\n",
       "      <td>76.60</td>\n",
       "      <td>74.54</td>\n",
       "      <td>75.7687</td>\n",
       "    </tr>\n",
       "    <tr>\n",
       "      <th>2</th>\n",
       "      <td>ANA</td>\n",
       "      <td>2019-01-04</td>\n",
       "      <td>76.62</td>\n",
       "      <td>76.34</td>\n",
       "      <td>130309</td>\n",
       "      <td>10010838.76</td>\n",
       "      <td>76.62</td>\n",
       "      <td>77.40</td>\n",
       "      <td>76.40</td>\n",
       "      <td>76.8162</td>\n",
       "    </tr>\n",
       "    <tr>\n",
       "      <th>3</th>\n",
       "      <td>ANA</td>\n",
       "      <td>2019-01-07</td>\n",
       "      <td>77.14</td>\n",
       "      <td>76.62</td>\n",
       "      <td>63349</td>\n",
       "      <td>4855724.92</td>\n",
       "      <td>77.14</td>\n",
       "      <td>77.30</td>\n",
       "      <td>75.62</td>\n",
       "      <td>76.6504</td>\n",
       "    </tr>\n",
       "    <tr>\n",
       "      <th>4</th>\n",
       "      <td>ANA</td>\n",
       "      <td>2019-01-08</td>\n",
       "      <td>78.24</td>\n",
       "      <td>77.14</td>\n",
       "      <td>99300</td>\n",
       "      <td>7749464.70</td>\n",
       "      <td>78.24</td>\n",
       "      <td>78.46</td>\n",
       "      <td>77.00</td>\n",
       "      <td>78.0409</td>\n",
       "    </tr>\n",
       "    <tr>\n",
       "      <th>...</th>\n",
       "      <td>...</td>\n",
       "      <td>...</td>\n",
       "      <td>...</td>\n",
       "      <td>...</td>\n",
       "      <td>...</td>\n",
       "      <td>...</td>\n",
       "      <td>...</td>\n",
       "      <td>...</td>\n",
       "      <td>...</td>\n",
       "      <td>...</td>\n",
       "    </tr>\n",
       "    <tr>\n",
       "      <th>8570</th>\n",
       "      <td>VIS</td>\n",
       "      <td>2019-12-09</td>\n",
       "      <td>48.70</td>\n",
       "      <td>48.76</td>\n",
       "      <td>40236</td>\n",
       "      <td>1958325.66</td>\n",
       "      <td>48.70</td>\n",
       "      <td>48.96</td>\n",
       "      <td>48.44</td>\n",
       "      <td>48.6710</td>\n",
       "    </tr>\n",
       "    <tr>\n",
       "      <th>8571</th>\n",
       "      <td>VIS</td>\n",
       "      <td>2019-12-10</td>\n",
       "      <td>48.16</td>\n",
       "      <td>48.70</td>\n",
       "      <td>60198</td>\n",
       "      <td>2895965.78</td>\n",
       "      <td>48.16</td>\n",
       "      <td>48.74</td>\n",
       "      <td>47.70</td>\n",
       "      <td>48.1201</td>\n",
       "    </tr>\n",
       "    <tr>\n",
       "      <th>8572</th>\n",
       "      <td>VIS</td>\n",
       "      <td>2019-12-11</td>\n",
       "      <td>47.96</td>\n",
       "      <td>48.16</td>\n",
       "      <td>63000</td>\n",
       "      <td>3012462.12</td>\n",
       "      <td>47.96</td>\n",
       "      <td>48.42</td>\n",
       "      <td>47.52</td>\n",
       "      <td>47.8169</td>\n",
       "    </tr>\n",
       "    <tr>\n",
       "      <th>8573</th>\n",
       "      <td>VIS</td>\n",
       "      <td>2019-12-12</td>\n",
       "      <td>48.42</td>\n",
       "      <td>47.96</td>\n",
       "      <td>50218</td>\n",
       "      <td>2429199.80</td>\n",
       "      <td>48.42</td>\n",
       "      <td>48.66</td>\n",
       "      <td>47.76</td>\n",
       "      <td>48.3731</td>\n",
       "    </tr>\n",
       "    <tr>\n",
       "      <th>8574</th>\n",
       "      <td>VIS</td>\n",
       "      <td>2019-12-13</td>\n",
       "      <td>48.64</td>\n",
       "      <td>48.42</td>\n",
       "      <td>62427</td>\n",
       "      <td>3038685.10</td>\n",
       "      <td>48.64</td>\n",
       "      <td>49.18</td>\n",
       "      <td>48.12</td>\n",
       "      <td>48.6758</td>\n",
       "    </tr>\n",
       "  </tbody>\n",
       "</table>\n",
       "<p>8575 rows × 10 columns</p>\n",
       "</div>"
      ],
      "text/plain": [
       "     Ticker      Fecha  Cierre  Referencia  Volumen     Rotacion  Ultimo  \\\n",
       "0       ANA 2019-01-02   74.80       73.90   156300  11621188.98   74.80   \n",
       "1       ANA 2019-01-03   76.34       74.80   140331  10632703.64   76.34   \n",
       "2       ANA 2019-01-04   76.62       76.34   130309  10010838.76   76.62   \n",
       "3       ANA 2019-01-07   77.14       76.62    63349   4855724.92   77.14   \n",
       "4       ANA 2019-01-08   78.24       77.14    99300   7749464.70   78.24   \n",
       "...     ...        ...     ...         ...      ...          ...     ...   \n",
       "8570    VIS 2019-12-09   48.70       48.76    40236   1958325.66   48.70   \n",
       "8571    VIS 2019-12-10   48.16       48.70    60198   2895965.78   48.16   \n",
       "8572    VIS 2019-12-11   47.96       48.16    63000   3012462.12   47.96   \n",
       "8573    VIS 2019-12-12   48.42       47.96    50218   2429199.80   48.42   \n",
       "8574    VIS 2019-12-13   48.64       48.42    62427   3038685.10   48.64   \n",
       "\n",
       "       Alto   Bajo  Promedio  \n",
       "0     75.16  72.38   74.3518  \n",
       "1     76.60  74.54   75.7687  \n",
       "2     77.40  76.40   76.8162  \n",
       "3     77.30  75.62   76.6504  \n",
       "4     78.46  77.00   78.0409  \n",
       "...     ...    ...       ...  \n",
       "8570  48.96  48.44   48.6710  \n",
       "8571  48.74  47.70   48.1201  \n",
       "8572  48.42  47.52   47.8169  \n",
       "8573  48.66  47.76   48.3731  \n",
       "8574  49.18  48.12   48.6758  \n",
       "\n",
       "[8575 rows x 10 columns]"
      ]
     },
     "execution_count": 50,
     "metadata": {},
     "output_type": "execute_result"
    }
   ],
   "source": [
    "df"
   ]
  },
  {
   "cell_type": "code",
   "execution_count": 51,
   "id": "89478327-e93a-43c4-b838-0d9304ff7346",
   "metadata": {},
   "outputs": [
    {
     "data": {
      "text/plain": [
       "Timestamp('2019-01-02 00:00:00')"
      ]
     },
     "execution_count": 51,
     "metadata": {},
     "output_type": "execute_result"
    }
   ],
   "source": [
    "df['Fecha'][0]"
   ]
  },
  {
   "cell_type": "code",
   "execution_count": 52,
   "id": "e91cc1bc-8187-4c14-b17b-45702ba68f19",
   "metadata": {},
   "outputs": [
    {
     "data": {
      "text/plain": [
       "pandas._libs.tslibs.timestamps.Timestamp"
      ]
     },
     "execution_count": 52,
     "metadata": {},
     "output_type": "execute_result"
    }
   ],
   "source": [
    "type(df['Fecha'][0])"
   ]
  },
  {
   "cell_type": "code",
   "execution_count": 53,
   "id": "b966c75b-d4f1-48ac-b41e-54f451452850",
   "metadata": {},
   "outputs": [
    {
     "data": {
      "text/plain": [
       "Timestamp('2019-03-05 00:00:00')"
      ]
     },
     "execution_count": 53,
     "metadata": {},
     "output_type": "execute_result"
    }
   ],
   "source": [
    "df['Fecha'][44]"
   ]
  },
  {
   "cell_type": "code",
   "execution_count": 54,
   "id": "27ac70e0-13a8-4e90-b4d6-ae62aeaa6099",
   "metadata": {},
   "outputs": [
    {
     "data": {
      "text/plain": [
       "2019"
      ]
     },
     "execution_count": 54,
     "metadata": {},
     "output_type": "execute_result"
    }
   ],
   "source": [
    "df['Fecha'][44].year"
   ]
  },
  {
   "cell_type": "code",
   "execution_count": 55,
   "id": "7755315d-ca0d-4d37-b4a0-1b4f36477cec",
   "metadata": {},
   "outputs": [
    {
     "data": {
      "text/plain": [
       "3"
      ]
     },
     "execution_count": 55,
     "metadata": {},
     "output_type": "execute_result"
    }
   ],
   "source": [
    "df['Fecha'][44].month"
   ]
  },
  {
   "cell_type": "code",
   "execution_count": 56,
   "id": "a86c87a1-a8bb-4117-9804-9cde97a965f0",
   "metadata": {},
   "outputs": [
    {
     "data": {
      "text/plain": [
       "0      2019-01-07\n",
       "1      2019-01-08\n",
       "2      2019-01-09\n",
       "3      2019-01-12\n",
       "4      2019-01-13\n",
       "          ...    \n",
       "8570   2019-12-14\n",
       "8571   2019-12-15\n",
       "8572   2019-12-16\n",
       "8573   2019-12-17\n",
       "8574   2019-12-18\n",
       "Name: Fecha, Length: 8575, dtype: datetime64[ns]"
      ]
     },
     "execution_count": 56,
     "metadata": {},
     "output_type": "execute_result"
    }
   ],
   "source": [
    "df5dias = df['Fecha'] + pd.Timedelta(days=5)\n",
    "df5dias"
   ]
  },
  {
   "cell_type": "code",
   "execution_count": 57,
   "id": "5b845105-f6c6-4957-97e5-86fee2b6cc70",
   "metadata": {},
   "outputs": [
    {
     "name": "stdout",
     "output_type": "stream",
     "text": [
      "DatetimeIndex(['2024-01-01', '2024-01-02', '2024-01-03', '2024-01-04',\n",
      "               '2024-01-05', '2024-01-06', '2024-01-07'],\n",
      "              dtype='datetime64[ns]', freq='D')\n"
     ]
    }
   ],
   "source": [
    "import pandas as pd\n",
    "\n",
    "# Crear la serie temporal con un rango de fechas\n",
    "primera_semana_2024 = pd.date_range(start=\"2024-01-01\", end=\"2024-01-07\", freq=\"D\")\n",
    "\n",
    "# Mostrar la serie temporal\n",
    "print(primera_semana_2024)\n"
   ]
  },
  {
   "cell_type": "markdown",
   "id": "3295093b-22b2-435c-a1a8-6a66769b31ff",
   "metadata": {},
   "source": [
    "**VIDEO 7**"
   ]
  },
  {
   "cell_type": "code",
   "execution_count": 58,
   "id": "b5e28a8c-fbb9-4ceb-a1fe-2e8700f021f9",
   "metadata": {},
   "outputs": [],
   "source": [
    "import pandas as pd"
   ]
  },
  {
   "cell_type": "code",
   "execution_count": 59,
   "id": "ce9d3c6a-1654-4f54-af5a-ec2f2140b274",
   "metadata": {},
   "outputs": [
    {
     "data": {
      "text/html": [
       "<div>\n",
       "<style scoped>\n",
       "    .dataframe tbody tr th:only-of-type {\n",
       "        vertical-align: middle;\n",
       "    }\n",
       "\n",
       "    .dataframe tbody tr th {\n",
       "        vertical-align: top;\n",
       "    }\n",
       "\n",
       "    .dataframe thead th {\n",
       "        text-align: right;\n",
       "    }\n",
       "</style>\n",
       "<table border=\"1\" class=\"dataframe\">\n",
       "  <thead>\n",
       "    <tr style=\"text-align: right;\">\n",
       "      <th></th>\n",
       "      <th>Id_usuario</th>\n",
       "      <th>Genero</th>\n",
       "      <th>Edad</th>\n",
       "      <th>Salario_estimado</th>\n",
       "      <th>Comprado</th>\n",
       "    </tr>\n",
       "  </thead>\n",
       "  <tbody>\n",
       "    <tr>\n",
       "      <th>0</th>\n",
       "      <td>15624510</td>\n",
       "      <td>Masculino</td>\n",
       "      <td>19</td>\n",
       "      <td>19000</td>\n",
       "      <td>0</td>\n",
       "    </tr>\n",
       "    <tr>\n",
       "      <th>1</th>\n",
       "      <td>15810944</td>\n",
       "      <td>Masculino</td>\n",
       "      <td>35</td>\n",
       "      <td>20000</td>\n",
       "      <td>0</td>\n",
       "    </tr>\n",
       "    <tr>\n",
       "      <th>2</th>\n",
       "      <td>15668575</td>\n",
       "      <td>Femenino</td>\n",
       "      <td>26</td>\n",
       "      <td>43000</td>\n",
       "      <td>0</td>\n",
       "    </tr>\n",
       "    <tr>\n",
       "      <th>3</th>\n",
       "      <td>15603246</td>\n",
       "      <td>Femenino</td>\n",
       "      <td>27</td>\n",
       "      <td>57000</td>\n",
       "      <td>0</td>\n",
       "    </tr>\n",
       "    <tr>\n",
       "      <th>4</th>\n",
       "      <td>15804002</td>\n",
       "      <td>Masculino</td>\n",
       "      <td>19</td>\n",
       "      <td>76000</td>\n",
       "      <td>0</td>\n",
       "    </tr>\n",
       "  </tbody>\n",
       "</table>\n",
       "</div>"
      ],
      "text/plain": [
       "   Id_usuario     Genero  Edad  Salario_estimado  Comprado\n",
       "0    15624510  Masculino    19             19000         0\n",
       "1    15810944  Masculino    35             20000         0\n",
       "2    15668575   Femenino    26             43000         0\n",
       "3    15603246   Femenino    27             57000         0\n",
       "4    15804002  Masculino    19             76000         0"
      ]
     },
     "execution_count": 59,
     "metadata": {},
     "output_type": "execute_result"
    }
   ],
   "source": [
    "df1 = pd.read_excel('comprasAds.xlsx')\n",
    "df1.head()"
   ]
  },
  {
   "cell_type": "code",
   "execution_count": 60,
   "id": "77ff46e8-baee-4a6d-ba48-5257bf8db8dd",
   "metadata": {},
   "outputs": [
    {
     "name": "stdout",
     "output_type": "stream",
     "text": [
      "Requirement already satisfied: lxml in c:\\users\\pestrm1\\appdata\\local\\programs\\python\\python313\\lib\\site-packages (5.4.0)\n",
      "Note: you may need to restart the kernel to use updated packages.\n"
     ]
    },
    {
     "name": "stderr",
     "output_type": "stream",
     "text": [
      "\n",
      "[notice] A new release of pip is available: 25.0.1 -> 25.1.1\n",
      "[notice] To update, run: C:\\Users\\pestrm1\\AppData\\Local\\Programs\\Python\\Python313\\python.exe -m pip install --upgrade pip\n"
     ]
    }
   ],
   "source": [
    "%pip install lxml"
   ]
  },
  {
   "cell_type": "code",
   "execution_count": 61,
   "id": "04c3edda-52c4-4c1b-8faa-c75b14944cb4",
   "metadata": {},
   "outputs": [
    {
     "data": {
      "text/html": [
       "<div>\n",
       "<style scoped>\n",
       "    .dataframe tbody tr th:only-of-type {\n",
       "        vertical-align: middle;\n",
       "    }\n",
       "\n",
       "    .dataframe tbody tr th {\n",
       "        vertical-align: top;\n",
       "    }\n",
       "\n",
       "    .dataframe thead th {\n",
       "        text-align: right;\n",
       "    }\n",
       "</style>\n",
       "<table border=\"1\" class=\"dataframe\">\n",
       "  <thead>\n",
       "    <tr style=\"text-align: right;\">\n",
       "      <th></th>\n",
       "      <th>date</th>\n",
       "      <th>closingValue</th>\n",
       "    </tr>\n",
       "  </thead>\n",
       "  <tbody>\n",
       "    <tr>\n",
       "      <th>0</th>\n",
       "      <td>01-05-2023</td>\n",
       "      <td>25,05</td>\n",
       "    </tr>\n",
       "    <tr>\n",
       "      <th>1</th>\n",
       "      <td>02-05-2023</td>\n",
       "      <td>24,45</td>\n",
       "    </tr>\n",
       "    <tr>\n",
       "      <th>2</th>\n",
       "      <td>03-05-2023</td>\n",
       "      <td>24,45</td>\n",
       "    </tr>\n",
       "    <tr>\n",
       "      <th>3</th>\n",
       "      <td>04-05-2023</td>\n",
       "      <td>23,98</td>\n",
       "    </tr>\n",
       "    <tr>\n",
       "      <th>4</th>\n",
       "      <td>05-05-2023</td>\n",
       "      <td>24,56</td>\n",
       "    </tr>\n",
       "  </tbody>\n",
       "</table>\n",
       "</div>"
      ],
      "text/plain": [
       "         date closingValue\n",
       "0  01-05-2023        25,05\n",
       "1  02-05-2023        24,45\n",
       "2  03-05-2023        24,45\n",
       "3  04-05-2023        23,98\n",
       "4  05-05-2023        24,56"
      ]
     },
     "execution_count": 61,
     "metadata": {},
     "output_type": "execute_result"
    }
   ],
   "source": [
    "df2 = pd.read_xml('valoresAcciones.xml')\n",
    "df2.head()"
   ]
  },
  {
   "cell_type": "code",
   "execution_count": 62,
   "id": "fe051e32-060e-403f-8578-b6fa91efb5a4",
   "metadata": {},
   "outputs": [
    {
     "data": {
      "text/plain": [
       "{'romanos': ['I', 'II', 'III', 'IV'],\n",
       " 'arabigos': [1, 2, 3, 4],\n",
       " 'texto': ['uno', 'dos', 'tres', 'cuatro']}"
      ]
     },
     "execution_count": 62,
     "metadata": {},
     "output_type": "execute_result"
    }
   ],
   "source": [
    "numeros = {\n",
    "    'romanos': ['I', 'II', 'III', 'IV'],\n",
    "    'arabigos': [1, 2, 3, 4],\n",
    "    'texto': ['uno', 'dos', 'tres', 'cuatro']\n",
    "}\n",
    "\n",
    "numeros"
   ]
  },
  {
   "cell_type": "code",
   "execution_count": 63,
   "id": "61139c5e-9b3a-4775-9d6a-14d25ce78fc9",
   "metadata": {},
   "outputs": [
    {
     "data": {
      "text/html": [
       "<div>\n",
       "<style scoped>\n",
       "    .dataframe tbody tr th:only-of-type {\n",
       "        vertical-align: middle;\n",
       "    }\n",
       "\n",
       "    .dataframe tbody tr th {\n",
       "        vertical-align: top;\n",
       "    }\n",
       "\n",
       "    .dataframe thead th {\n",
       "        text-align: right;\n",
       "    }\n",
       "</style>\n",
       "<table border=\"1\" class=\"dataframe\">\n",
       "  <thead>\n",
       "    <tr style=\"text-align: right;\">\n",
       "      <th></th>\n",
       "      <th>romanos</th>\n",
       "      <th>arabigos</th>\n",
       "      <th>texto</th>\n",
       "    </tr>\n",
       "  </thead>\n",
       "  <tbody>\n",
       "    <tr>\n",
       "      <th>0</th>\n",
       "      <td>I</td>\n",
       "      <td>1</td>\n",
       "      <td>uno</td>\n",
       "    </tr>\n",
       "    <tr>\n",
       "      <th>1</th>\n",
       "      <td>II</td>\n",
       "      <td>2</td>\n",
       "      <td>dos</td>\n",
       "    </tr>\n",
       "    <tr>\n",
       "      <th>2</th>\n",
       "      <td>III</td>\n",
       "      <td>3</td>\n",
       "      <td>tres</td>\n",
       "    </tr>\n",
       "    <tr>\n",
       "      <th>3</th>\n",
       "      <td>IV</td>\n",
       "      <td>4</td>\n",
       "      <td>cuatro</td>\n",
       "    </tr>\n",
       "  </tbody>\n",
       "</table>\n",
       "</div>"
      ],
      "text/plain": [
       "  romanos  arabigos   texto\n",
       "0       I         1     uno\n",
       "1      II         2     dos\n",
       "2     III         3    tres\n",
       "3      IV         4  cuatro"
      ]
     },
     "execution_count": 63,
     "metadata": {},
     "output_type": "execute_result"
    }
   ],
   "source": [
    "df = pd.DataFrame(numeros)\n",
    "df"
   ]
  },
  {
   "cell_type": "code",
   "execution_count": 64,
   "id": "3c7c2e60-d210-4644-9801-e1ec2afbb100",
   "metadata": {},
   "outputs": [],
   "source": [
    "df['Fechas'] = pd.Series(pd.date_range('20240101', periods=4))"
   ]
  },
  {
   "cell_type": "code",
   "execution_count": 65,
   "id": "00b4e2ba-2f9a-4a31-be95-626bf9ba7dde",
   "metadata": {},
   "outputs": [],
   "source": [
    "df.to_csv('myCSV.csv')"
   ]
  },
  {
   "cell_type": "markdown",
   "id": "5528acea-fb8d-472f-98e8-d6738fd2e1cc",
   "metadata": {},
   "source": [
    "**VIDEO 8**"
   ]
  },
  {
   "cell_type": "code",
   "execution_count": 67,
   "id": "6693cc00-e8dd-4a19-a87e-fb2c71c5be4c",
   "metadata": {},
   "outputs": [],
   "source": [
    "import pandas as pd"
   ]
  },
  {
   "cell_type": "code",
   "execution_count": 68,
   "id": "890f8dfd-ebba-4e5c-b358-2a7a5ab0baa4",
   "metadata": {},
   "outputs": [
    {
     "data": {
      "text/html": [
       "<div>\n",
       "<style scoped>\n",
       "    .dataframe tbody tr th:only-of-type {\n",
       "        vertical-align: middle;\n",
       "    }\n",
       "\n",
       "    .dataframe tbody tr th {\n",
       "        vertical-align: top;\n",
       "    }\n",
       "\n",
       "    .dataframe thead th {\n",
       "        text-align: right;\n",
       "    }\n",
       "</style>\n",
       "<table border=\"1\" class=\"dataframe\">\n",
       "  <thead>\n",
       "    <tr style=\"text-align: right;\">\n",
       "      <th></th>\n",
       "      <th>Col1</th>\n",
       "      <th>Col2</th>\n",
       "      <th>Col3</th>\n",
       "    </tr>\n",
       "  </thead>\n",
       "  <tbody>\n",
       "    <tr>\n",
       "      <th>fila1</th>\n",
       "      <td>100</td>\n",
       "      <td>400</td>\n",
       "      <td>700</td>\n",
       "    </tr>\n",
       "    <tr>\n",
       "      <th>fila2</th>\n",
       "      <td>200</td>\n",
       "      <td>500</td>\n",
       "      <td>800</td>\n",
       "    </tr>\n",
       "    <tr>\n",
       "      <th>fila3</th>\n",
       "      <td>300</td>\n",
       "      <td>600</td>\n",
       "      <td>900</td>\n",
       "    </tr>\n",
       "  </tbody>\n",
       "</table>\n",
       "</div>"
      ],
      "text/plain": [
       "       Col1  Col2  Col3\n",
       "fila1   100   400   700\n",
       "fila2   200   500   800\n",
       "fila3   300   600   900"
      ]
     },
     "execution_count": 68,
     "metadata": {},
     "output_type": "execute_result"
    }
   ],
   "source": [
    "df = pd.DataFrame({\n",
    "    'Col1': [100,200,300],\n",
    "    'Col2': [400,500,600],\n",
    "    'Col3': [700,800,900]\n",
    "}, index=['fila1', 'fila2', 'fila3'])\n",
    "\n",
    "df"
   ]
  },
  {
   "cell_type": "code",
   "execution_count": 69,
   "id": "26b7c25f-38b4-4473-b1cf-ad21e48a3af1",
   "metadata": {},
   "outputs": [
    {
     "data": {
      "text/plain": [
       "Col1    100\n",
       "Col2    400\n",
       "Col3    700\n",
       "Name: fila1, dtype: int64"
      ]
     },
     "execution_count": 69,
     "metadata": {},
     "output_type": "execute_result"
    }
   ],
   "source": [
    "df.loc['fila1']"
   ]
  },
  {
   "cell_type": "code",
   "execution_count": 70,
   "id": "b1d914ed-7333-4a52-b41d-77cbfa0f9b2e",
   "metadata": {},
   "outputs": [
    {
     "data": {
      "text/plain": [
       "pandas.core.series.Series"
      ]
     },
     "execution_count": 70,
     "metadata": {},
     "output_type": "execute_result"
    }
   ],
   "source": [
    "type(df.loc['fila1'])"
   ]
  },
  {
   "cell_type": "code",
   "execution_count": 71,
   "id": "98e437bc-7400-4eb4-b7ed-832c44d2f8b2",
   "metadata": {},
   "outputs": [
    {
     "data": {
      "text/html": [
       "<div>\n",
       "<style scoped>\n",
       "    .dataframe tbody tr th:only-of-type {\n",
       "        vertical-align: middle;\n",
       "    }\n",
       "\n",
       "    .dataframe tbody tr th {\n",
       "        vertical-align: top;\n",
       "    }\n",
       "\n",
       "    .dataframe thead th {\n",
       "        text-align: right;\n",
       "    }\n",
       "</style>\n",
       "<table border=\"1\" class=\"dataframe\">\n",
       "  <thead>\n",
       "    <tr style=\"text-align: right;\">\n",
       "      <th></th>\n",
       "      <th>Col1</th>\n",
       "      <th>Col2</th>\n",
       "      <th>Col3</th>\n",
       "    </tr>\n",
       "  </thead>\n",
       "  <tbody>\n",
       "    <tr>\n",
       "      <th>fila1</th>\n",
       "      <td>100</td>\n",
       "      <td>400</td>\n",
       "      <td>700</td>\n",
       "    </tr>\n",
       "    <tr>\n",
       "      <th>fila3</th>\n",
       "      <td>300</td>\n",
       "      <td>600</td>\n",
       "      <td>900</td>\n",
       "    </tr>\n",
       "  </tbody>\n",
       "</table>\n",
       "</div>"
      ],
      "text/plain": [
       "       Col1  Col2  Col3\n",
       "fila1   100   400   700\n",
       "fila3   300   600   900"
      ]
     },
     "execution_count": 71,
     "metadata": {},
     "output_type": "execute_result"
    }
   ],
   "source": [
    "df.loc[['fila1', 'fila3']]"
   ]
  },
  {
   "cell_type": "code",
   "execution_count": 72,
   "id": "11c282d0-dddb-4330-9ab7-fa2468519d37",
   "metadata": {},
   "outputs": [
    {
     "data": {
      "text/html": [
       "<div>\n",
       "<style scoped>\n",
       "    .dataframe tbody tr th:only-of-type {\n",
       "        vertical-align: middle;\n",
       "    }\n",
       "\n",
       "    .dataframe tbody tr th {\n",
       "        vertical-align: top;\n",
       "    }\n",
       "\n",
       "    .dataframe thead th {\n",
       "        text-align: right;\n",
       "    }\n",
       "</style>\n",
       "<table border=\"1\" class=\"dataframe\">\n",
       "  <thead>\n",
       "    <tr style=\"text-align: right;\">\n",
       "      <th></th>\n",
       "      <th>Col1</th>\n",
       "      <th>Col2</th>\n",
       "      <th>Col3</th>\n",
       "    </tr>\n",
       "  </thead>\n",
       "  <tbody>\n",
       "    <tr>\n",
       "      <th>fila2</th>\n",
       "      <td>200</td>\n",
       "      <td>500</td>\n",
       "      <td>800</td>\n",
       "    </tr>\n",
       "    <tr>\n",
       "      <th>fila3</th>\n",
       "      <td>300</td>\n",
       "      <td>600</td>\n",
       "      <td>900</td>\n",
       "    </tr>\n",
       "  </tbody>\n",
       "</table>\n",
       "</div>"
      ],
      "text/plain": [
       "       Col1  Col2  Col3\n",
       "fila2   200   500   800\n",
       "fila3   300   600   900"
      ]
     },
     "execution_count": 72,
     "metadata": {},
     "output_type": "execute_result"
    }
   ],
   "source": [
    "df.loc['fila2':'fila3']"
   ]
  },
  {
   "cell_type": "code",
   "execution_count": 73,
   "id": "0b2f1d8b-896a-4a5b-b1d7-c73ea1161e85",
   "metadata": {},
   "outputs": [
    {
     "data": {
      "text/html": [
       "<div>\n",
       "<style scoped>\n",
       "    .dataframe tbody tr th:only-of-type {\n",
       "        vertical-align: middle;\n",
       "    }\n",
       "\n",
       "    .dataframe tbody tr th {\n",
       "        vertical-align: top;\n",
       "    }\n",
       "\n",
       "    .dataframe thead th {\n",
       "        text-align: right;\n",
       "    }\n",
       "</style>\n",
       "<table border=\"1\" class=\"dataframe\">\n",
       "  <thead>\n",
       "    <tr style=\"text-align: right;\">\n",
       "      <th></th>\n",
       "      <th>Col1</th>\n",
       "      <th>Col2</th>\n",
       "      <th>Col3</th>\n",
       "    </tr>\n",
       "  </thead>\n",
       "  <tbody>\n",
       "    <tr>\n",
       "      <th>fila2</th>\n",
       "      <td>200</td>\n",
       "      <td>500</td>\n",
       "      <td>800</td>\n",
       "    </tr>\n",
       "  </tbody>\n",
       "</table>\n",
       "</div>"
      ],
      "text/plain": [
       "       Col1  Col2  Col3\n",
       "fila2   200   500   800"
      ]
     },
     "execution_count": 73,
     "metadata": {},
     "output_type": "execute_result"
    }
   ],
   "source": [
    "df.loc[[False, True, False]]"
   ]
  },
  {
   "cell_type": "code",
   "execution_count": 74,
   "id": "310ddd33-9e1b-4e8e-bd5c-1a8650e4614a",
   "metadata": {},
   "outputs": [
    {
     "data": {
      "text/html": [
       "<div>\n",
       "<style scoped>\n",
       "    .dataframe tbody tr th:only-of-type {\n",
       "        vertical-align: middle;\n",
       "    }\n",
       "\n",
       "    .dataframe tbody tr th {\n",
       "        vertical-align: top;\n",
       "    }\n",
       "\n",
       "    .dataframe thead th {\n",
       "        text-align: right;\n",
       "    }\n",
       "</style>\n",
       "<table border=\"1\" class=\"dataframe\">\n",
       "  <thead>\n",
       "    <tr style=\"text-align: right;\">\n",
       "      <th></th>\n",
       "      <th>Col1</th>\n",
       "      <th>Col2</th>\n",
       "      <th>Col3</th>\n",
       "    </tr>\n",
       "  </thead>\n",
       "  <tbody>\n",
       "    <tr>\n",
       "      <th>fila2</th>\n",
       "      <td>200</td>\n",
       "      <td>500</td>\n",
       "      <td>800</td>\n",
       "    </tr>\n",
       "    <tr>\n",
       "      <th>fila3</th>\n",
       "      <td>300</td>\n",
       "      <td>600</td>\n",
       "      <td>900</td>\n",
       "    </tr>\n",
       "  </tbody>\n",
       "</table>\n",
       "</div>"
      ],
      "text/plain": [
       "       Col1  Col2  Col3\n",
       "fila2   200   500   800\n",
       "fila3   300   600   900"
      ]
     },
     "execution_count": 74,
     "metadata": {},
     "output_type": "execute_result"
    }
   ],
   "source": [
    "df.loc[df['Col1'] > 150]"
   ]
  },
  {
   "cell_type": "code",
   "execution_count": 75,
   "id": "008e0f01-d324-468f-b88c-617ceee1e000",
   "metadata": {},
   "outputs": [
    {
     "data": {
      "text/html": [
       "<div>\n",
       "<style scoped>\n",
       "    .dataframe tbody tr th:only-of-type {\n",
       "        vertical-align: middle;\n",
       "    }\n",
       "\n",
       "    .dataframe tbody tr th {\n",
       "        vertical-align: top;\n",
       "    }\n",
       "\n",
       "    .dataframe thead th {\n",
       "        text-align: right;\n",
       "    }\n",
       "</style>\n",
       "<table border=\"1\" class=\"dataframe\">\n",
       "  <thead>\n",
       "    <tr style=\"text-align: right;\">\n",
       "      <th></th>\n",
       "      <th>Col1</th>\n",
       "      <th>Col2</th>\n",
       "    </tr>\n",
       "  </thead>\n",
       "  <tbody>\n",
       "    <tr>\n",
       "      <th>fila1</th>\n",
       "      <td>100</td>\n",
       "      <td>400</td>\n",
       "    </tr>\n",
       "    <tr>\n",
       "      <th>fila2</th>\n",
       "      <td>200</td>\n",
       "      <td>500</td>\n",
       "    </tr>\n",
       "    <tr>\n",
       "      <th>fila3</th>\n",
       "      <td>300</td>\n",
       "      <td>600</td>\n",
       "    </tr>\n",
       "  </tbody>\n",
       "</table>\n",
       "</div>"
      ],
      "text/plain": [
       "       Col1  Col2\n",
       "fila1   100   400\n",
       "fila2   200   500\n",
       "fila3   300   600"
      ]
     },
     "execution_count": 75,
     "metadata": {},
     "output_type": "execute_result"
    }
   ],
   "source": [
    "df.loc[:, ['Col1', 'Col2']]"
   ]
  },
  {
   "cell_type": "code",
   "execution_count": 76,
   "id": "dd4ae118-326e-4eef-ab68-be2b3bdc9e20",
   "metadata": {},
   "outputs": [
    {
     "data": {
      "text/plain": [
       "Col1    100\n",
       "Col2    400\n",
       "Col3    700\n",
       "Name: fila1, dtype: int64"
      ]
     },
     "execution_count": 76,
     "metadata": {},
     "output_type": "execute_result"
    }
   ],
   "source": [
    "df.iloc[0]"
   ]
  },
  {
   "cell_type": "code",
   "execution_count": 77,
   "id": "a82dfb24-4169-444b-b5f4-c545a58ca124",
   "metadata": {},
   "outputs": [
    {
     "data": {
      "text/html": [
       "<div>\n",
       "<style scoped>\n",
       "    .dataframe tbody tr th:only-of-type {\n",
       "        vertical-align: middle;\n",
       "    }\n",
       "\n",
       "    .dataframe tbody tr th {\n",
       "        vertical-align: top;\n",
       "    }\n",
       "\n",
       "    .dataframe thead th {\n",
       "        text-align: right;\n",
       "    }\n",
       "</style>\n",
       "<table border=\"1\" class=\"dataframe\">\n",
       "  <thead>\n",
       "    <tr style=\"text-align: right;\">\n",
       "      <th></th>\n",
       "      <th>Col1</th>\n",
       "      <th>Col2</th>\n",
       "    </tr>\n",
       "  </thead>\n",
       "  <tbody>\n",
       "    <tr>\n",
       "      <th>fila1</th>\n",
       "      <td>100</td>\n",
       "      <td>400</td>\n",
       "    </tr>\n",
       "    <tr>\n",
       "      <th>fila2</th>\n",
       "      <td>200</td>\n",
       "      <td>500</td>\n",
       "    </tr>\n",
       "    <tr>\n",
       "      <th>fila3</th>\n",
       "      <td>300</td>\n",
       "      <td>600</td>\n",
       "    </tr>\n",
       "  </tbody>\n",
       "</table>\n",
       "</div>"
      ],
      "text/plain": [
       "       Col1  Col2\n",
       "fila1   100   400\n",
       "fila2   200   500\n",
       "fila3   300   600"
      ]
     },
     "execution_count": 77,
     "metadata": {},
     "output_type": "execute_result"
    }
   ],
   "source": [
    "df.iloc[:, [0,1]]"
   ]
  },
  {
   "cell_type": "code",
   "execution_count": 78,
   "id": "15141858-0af1-4cad-8451-6327546ce1cb",
   "metadata": {},
   "outputs": [
    {
     "data": {
      "text/html": [
       "<div>\n",
       "<style scoped>\n",
       "    .dataframe tbody tr th:only-of-type {\n",
       "        vertical-align: middle;\n",
       "    }\n",
       "\n",
       "    .dataframe tbody tr th {\n",
       "        vertical-align: top;\n",
       "    }\n",
       "\n",
       "    .dataframe thead th {\n",
       "        text-align: right;\n",
       "    }\n",
       "</style>\n",
       "<table border=\"1\" class=\"dataframe\">\n",
       "  <thead>\n",
       "    <tr style=\"text-align: right;\">\n",
       "      <th></th>\n",
       "      <th>Col1</th>\n",
       "      <th>Col2</th>\n",
       "      <th>Col3</th>\n",
       "    </tr>\n",
       "  </thead>\n",
       "  <tbody>\n",
       "    <tr>\n",
       "      <th>fila2</th>\n",
       "      <td>200</td>\n",
       "      <td>500</td>\n",
       "      <td>800</td>\n",
       "    </tr>\n",
       "    <tr>\n",
       "      <th>fila3</th>\n",
       "      <td>300</td>\n",
       "      <td>600</td>\n",
       "      <td>900</td>\n",
       "    </tr>\n",
       "  </tbody>\n",
       "</table>\n",
       "</div>"
      ],
      "text/plain": [
       "       Col1  Col2  Col3\n",
       "fila2   200   500   800\n",
       "fila3   300   600   900"
      ]
     },
     "execution_count": 78,
     "metadata": {},
     "output_type": "execute_result"
    }
   ],
   "source": [
    "df.iloc[1:3]"
   ]
  },
  {
   "cell_type": "code",
   "execution_count": null,
   "id": "1de643e9-0fd7-4eaa-9cfa-17778279812a",
   "metadata": {},
   "outputs": [],
   "source": []
  }
 ],
 "metadata": {
  "kernelspec": {
   "display_name": "Python 3 (ipykernel)",
   "language": "python",
   "name": "python3"
  },
  "language_info": {
   "codemirror_mode": {
    "name": "ipython",
    "version": 3
   },
   "file_extension": ".py",
   "mimetype": "text/x-python",
   "name": "python",
   "nbconvert_exporter": "python",
   "pygments_lexer": "ipython3",
   "version": "3.13.2"
  }
 },
 "nbformat": 4,
 "nbformat_minor": 5
}
